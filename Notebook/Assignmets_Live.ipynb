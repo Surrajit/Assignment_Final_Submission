{
  "cells": [
    {
      "cell_type": "markdown",
      "metadata": {
        "id": "TCyGZ0oQLbzJ"
      },
      "source": [
        "# **Question 1:**"
      ]
    },
    {
      "cell_type": "markdown",
      "metadata": {},
      "source": [
        "#Q 1.1.1\n",
        "'''\n",
        "Static Variables\n",
        "Definition: Static variables, also known as class variables, are shared among all instances of a class. They are defined within a class but outside any instance methods.\n",
        "Usage: These variables are used when you want to maintain a common value across all instances of a class.\n",
        "'''"
      ]
    },
    {
      "cell_type": "code",
      "execution_count": 1,
      "metadata": {
        "colab": {
          "base_uri": "https://localhost:8080/"
        },
        "id": "UVWNfVf8Laf9",
        "outputId": "26966cf2-b58a-46ab-9d0a-4f8418703b69"
      },
      "outputs": [
        {
          "name": "stdout",
          "output_type": "stream",
          "text": [
            "1\n",
            "2\n",
            "2\n"
          ]
        }
      ],
      "source": [
        "class MyClass:\n",
        "    static_var = 0  # Static variable\n",
        "\n",
        "    def __init__(self):\n",
        "        MyClass.static_var += 1\n",
        "        self.instance_var = MyClass.static_var\n",
        "\n",
        "obj1 = MyClass()\n",
        "print(obj1.instance_var)\n",
        "obj2 = MyClass()\n",
        "print(obj2.instance_var)\n",
        "print(MyClass.static_var)"
      ]
    },
    {
      "cell_type": "markdown",
      "metadata": {},
      "source": [
        "'''\n",
        "Dynamic Variables\n",
        "Definition: Dynamic variables, also known as instance variables, are unique to each instance of a class. They are defined within instance methods, typically within the __init__ method.\n",
        "Usage: These variables are used when each instance of a class needs to maintain its own state.\n",
        "'''"
      ]
    },
    {
      "cell_type": "code",
      "execution_count": 2,
      "metadata": {
        "colab": {
          "base_uri": "https://localhost:8080/"
        },
        "id": "Glca9ZXKLaYV",
        "outputId": "e49f13be-808b-44ed-d9fa-36a60d8cf26d"
      },
      "outputs": [
        {
          "name": "stdout",
          "output_type": "stream",
          "text": [
            "10\n",
            "20\n"
          ]
        }
      ],
      "source": [
        "class MyClass:\n",
        "    def __init__(self, value):\n",
        "        self.instance_var = value  # Dynamic variable\n",
        "\n",
        "obj1 = MyClass(10)\n",
        "print(obj1.instance_var)\n",
        "\n",
        "obj2 = MyClass(20)\n",
        "print(obj2.instance_var)"
      ]
    },
    {
      "cell_type": "markdown",
      "metadata": {},
      "source": [
        "#Q 1.1.2\n",
        "'''\n",
        "pop Method\n",
        "The pop method removes a specified key from the dictionary and returns the corresponding value. If the key is not found, it raises a KeyError unless a default value is provided.\n",
        "'''"
      ]
    },
    {
      "cell_type": "code",
      "execution_count": 3,
      "metadata": {
        "colab": {
          "base_uri": "https://localhost:8080/"
        },
        "id": "mUBRp6leLaSF",
        "outputId": "07916a85-76af-43b9-d5fe-1f79f567a06d"
      },
      "outputs": [
        {
          "name": "stdout",
          "output_type": "stream",
          "text": [
            "2\n",
            "{'a': 1, 'c': 3}\n"
          ]
        }
      ],
      "source": [
        "my_dict = {'a': 1, 'b': 2, 'c': 3}\n",
        "value = my_dict.pop('b')\n",
        "print(value)\n",
        "print(my_dict)"
      ]
    },
    {
      "cell_type": "markdown",
      "metadata": {},
      "source": [
        "'''\n",
        "popitem Method\n",
        "The popitem method removes and returns the last inserted key-value pair from the dictionary as a tuple. This method is useful for implementing LIFO (Last In, First Out) order.\n",
        "'''"
      ]
    },
    {
      "cell_type": "code",
      "execution_count": null,
      "metadata": {
        "colab": {
          "base_uri": "https://localhost:8080/"
        },
        "id": "EZKn50JjLaLB",
        "outputId": "ec2aa087-a60d-4da0-fb8c-de42a5e8834d"
      },
      "outputs": [
        {
          "name": "stdout",
          "output_type": "stream",
          "text": [
            "('c', 3)\n",
            "{'a': 1, 'b': 2}\n"
          ]
        }
      ],
      "source": [
        "my_dict = {'a': 1, 'b': 2, 'c': 3}\n",
        "item = my_dict.popitem()\n",
        "print(item)\n",
        "print(my_dict)"
      ]
    },
    {
      "cell_type": "markdown",
      "metadata": {},
      "source": [
        "'''\n",
        "clear Method\n",
        "The clear method removes all items from the dictionary, leaving it empty.\n",
        "'''"
      ]
    },
    {
      "cell_type": "code",
      "execution_count": 4,
      "metadata": {
        "colab": {
          "base_uri": "https://localhost:8080/"
        },
        "id": "-5S23xCLLaFA",
        "outputId": "863239f6-4e00-4783-fbb1-872506a4b02c"
      },
      "outputs": [
        {
          "name": "stdout",
          "output_type": "stream",
          "text": [
            "{}\n"
          ]
        }
      ],
      "source": [
        "my_dict = {'a': 1, 'b': 2, 'c': 3}\n",
        "my_dict.clear()\n",
        "print(my_dict)"
      ]
    },
    {
      "cell_type": "markdown",
      "metadata": {},
      "source": [
        "#Q 1.1.3\n",
        "'''\n",
        "A frozenset in Python is an immutable version of a set. This means that once a frozenset is created, its elements cannot be changed, added, or removed. It is useful in situations where you need a set that should not be modified, such as using it as a key in a dictionary or as an element of another set.\n",
        "'''"
      ]
    },
    {
      "cell_type": "code",
      "execution_count": 5,
      "metadata": {
        "colab": {
          "base_uri": "https://localhost:8080/"
        },
        "id": "-unx1WWCLZ9p",
        "outputId": "088c5c41-f6de-4cc7-9801-df61ebfad229"
      },
      "outputs": [
        {
          "name": "stdout",
          "output_type": "stream",
          "text": [
            "frozenset({'apple', 'cherry', 'banana'})\n",
            "frozenset({'b', 'a', 'c'})\n"
          ]
        }
      ],
      "source": [
        "# Creating a frozenset from a list\n",
        "my_list = ['apple', 'banana', 'cherry']\n",
        "frozen_set = frozenset(my_list)\n",
        "print(frozen_set)\n",
        "\n",
        "# Creating a frozenset from a set\n",
        "my_set = {'a', 'b', 'c'}\n",
        "frozen_set = frozenset(my_set)\n",
        "print(frozen_set)"
      ]
    },
    {
      "cell_type": "markdown",
      "metadata": {},
      "source": [
        "#Q 1.1.4\n",
        "'''\n",
        "Mutable Data Types\n",
        "Mutable data types are those whose values can be changed after they are created. This means you can modify, add, or remove elements from these data types.\n",
        "'''"
      ]
    },
    {
      "cell_type": "code",
      "execution_count": 6,
      "metadata": {
        "colab": {
          "base_uri": "https://localhost:8080/"
        },
        "id": "tNREOvJGUpJx",
        "outputId": "118fbad9-2d82-4009-8caa-4e66f62b86b0"
      },
      "outputs": [
        {
          "name": "stdout",
          "output_type": "stream",
          "text": [
            "[1, 2, 3, 4]\n"
          ]
        }
      ],
      "source": [
        "my_list = [1, 2, 3]\n",
        "my_list.append(4)\n",
        "print(my_list)"
      ]
    },
    {
      "cell_type": "markdown",
      "metadata": {},
      "source": [
        "'''\n",
        "Immutable Data Types\n",
        "Immutable data types are those whose values cannot be changed after they are created. If you need to change the value, you must create a new object.\n",
        "'''"
      ]
    },
    {
      "cell_type": "code",
      "execution_count": 7,
      "metadata": {
        "colab": {
          "base_uri": "https://localhost:8080/"
        },
        "id": "AYjC3w_OUpFH",
        "outputId": "f8af101d-06c1-4d34-c424-b2b1ff3b3ea0"
      },
      "outputs": [
        {
          "name": "stdout",
          "output_type": "stream",
          "text": [
            "jello\n",
            "hello\n"
          ]
        }
      ],
      "source": [
        "my_string = \"hello\"\n",
        "new_string = my_string.replace('h', 'j')\n",
        "print(new_string)\n",
        "print(my_string)"
      ]
    },
    {
      "cell_type": "markdown",
      "metadata": {},
      "source": [
        "#Q 1.1.5\n",
        "'''\n",
        "The __init__ method in Python is a special method that is automatically called when a new instance of a class is created. It is known as the constructor method and is used to initialize the instance’s attributes. The __init__ method allows you to set the initial state of an object by assigning values to its properties.\n",
        "'''"
      ]
    },
    {
      "cell_type": "code",
      "execution_count": 8,
      "metadata": {
        "colab": {
          "base_uri": "https://localhost:8080/"
        },
        "id": "YFkUvwwSUpAw",
        "outputId": "d01dd86f-08e0-4a35-a5cf-cb98763f1393"
      },
      "outputs": [
        {
          "name": "stdout",
          "output_type": "stream",
          "text": [
            "Name: Alice, Age: 30\n",
            "Name: Bob, Age: 25\n"
          ]
        }
      ],
      "source": [
        "class Person:\n",
        "    def __init__(self, name, age):\n",
        "        self.name = name  # Initialize the name attribute\n",
        "        self.age = age    # Initialize the age attribute\n",
        "\n",
        "    def display_info(self):\n",
        "        print(f\"Name: {self.name}, Age: {self.age}\")\n",
        "\n",
        "# Creating an instance of the Person class\n",
        "person1 = Person(\"Alice\", 30)\n",
        "person1.display_info()\n",
        "\n",
        "# Creating another instance of the Person class\n",
        "person2 = Person(\"Bob\", 25)\n",
        "person2.display_info()\n"
      ]
    },
    {
      "cell_type": "markdown",
      "metadata": {},
      "source": [
        "#Q 1.1.6\n",
        "'''\n",
        "A docstring in Python is a special type of comment used to document a specific segment of code, such as a function, class, or module. Docstrings are written using triple quotes (''' or \"\"\") and are placed right after the definition of the function, class, or module. They provide a convenient way to associate documentation with Python code, making it easier to understand and maintain.\n",
        "'''"
      ]
    },
    {
      "cell_type": "code",
      "execution_count": 9,
      "metadata": {
        "colab": {
          "base_uri": "https://localhost:8080/"
        },
        "id": "2lIK6wUJUo6q",
        "outputId": "dc2c2e27-c0fa-4e7c-ce74-808223876d0b"
      },
      "outputs": [
        {
          "name": "stdout",
          "output_type": "stream",
          "text": [
            "\n",
            "    Add two numbers and return the result.\n",
            "\n",
            "    Parameters:\n",
            "    a (int or float): The first number.\n",
            "    b (int or float): The second number.\n",
            "\n",
            "    Returns:\n",
            "    int or float: The sum of the two numbers.\n",
            "    \n",
            "Help on function add in module __main__:\n",
            "\n",
            "add(a, b)\n",
            "    Add two numbers and return the result.\n",
            "\n",
            "    Parameters:\n",
            "    a (int or float): The first number.\n",
            "    b (int or float): The second number.\n",
            "\n",
            "    Returns:\n",
            "    int or float: The sum of the two numbers.\n",
            "\n"
          ]
        }
      ],
      "source": [
        "def add(a, b):\n",
        "    \"\"\"\n",
        "    Add two numbers and return the result.\n",
        "\n",
        "    Parameters:\n",
        "    a (int or float): The first number.\n",
        "    b (int or float): The second number.\n",
        "\n",
        "    Returns:\n",
        "    int or float: The sum of the two numbers.\n",
        "    \"\"\"\n",
        "    return a + b\n",
        "\n",
        "# Accessing the docstring\n",
        "print(add.__doc__)\n",
        "\n",
        "# Using the help function\n",
        "help(add)\n"
      ]
    },
    {
      "cell_type": "markdown",
      "metadata": {},
      "source": [
        "#Q 1.1.7\n",
        "'''\n",
        "Unit tests in Python are a way to test individual units of source code to ensure they work as expected. These units are typically functions or methods within a class. Unit testing helps identify and fix bugs early in the development process, ensuring that each part of the code performs correctly.\n",
        "'''"
      ]
    },
    {
      "cell_type": "markdown",
      "metadata": {},
      "source": [
        "#Q 1.1.8\n",
        "'''\n",
        "break Statement\n",
        "The break statement is used to exit a loop prematurely. When the break statement is encountered, the loop is immediately terminated, and the program control moves to the next statement following the loop.\n",
        "'''"
      ]
    },
    {
      "cell_type": "code",
      "execution_count": 10,
      "metadata": {
        "colab": {
          "base_uri": "https://localhost:8080/"
        },
        "id": "tK_rW7n6ZdVc",
        "outputId": "5919a1f8-91ca-49d5-8704-7efccb890e25"
      },
      "outputs": [
        {
          "name": "stdout",
          "output_type": "stream",
          "text": [
            "0\n",
            "1\n",
            "2\n",
            "3\n",
            "4\n"
          ]
        }
      ],
      "source": [
        "for i in range(10):\n",
        "    if i == 5:\n",
        "        break\n",
        "    print(i)"
      ]
    },
    {
      "cell_type": "markdown",
      "metadata": {},
      "source": [
        "'''\n",
        "continue Statement\n",
        "The continue statement is used to skip the current iteration of a loop and proceed to the next iteration. When the continue statement is encountered, the remaining code inside the loop is skipped for the current iteration.\n",
        "'''"
      ]
    },
    {
      "cell_type": "code",
      "execution_count": 11,
      "metadata": {
        "colab": {
          "base_uri": "https://localhost:8080/"
        },
        "id": "M3kVxj8rZdQC",
        "outputId": "a26b58dc-923e-42fa-85d4-13c0e6c76cc4"
      },
      "outputs": [
        {
          "name": "stdout",
          "output_type": "stream",
          "text": [
            "1\n",
            "3\n",
            "5\n",
            "7\n",
            "9\n"
          ]
        }
      ],
      "source": [
        "for i in range(10):\n",
        "    if i % 2 == 0:\n",
        "        continue\n",
        "    print(i)"
      ]
    },
    {
      "cell_type": "markdown",
      "metadata": {},
      "source": [
        "'''\n",
        "pass Statement\n",
        "The pass statement is a null operation; it does nothing when executed. It is used as a placeholder in situations where a statement is syntactically required but you do not want to execute any code.\n",
        "'''"
      ]
    },
    {
      "cell_type": "code",
      "execution_count": 12,
      "metadata": {
        "colab": {
          "base_uri": "https://localhost:8080/"
        },
        "id": "IVP5-9bZZdLO",
        "outputId": "d30d72d0-c86d-4818-b412-90b8338aa2c1"
      },
      "outputs": [
        {
          "name": "stdout",
          "output_type": "stream",
          "text": [
            "1\n",
            "3\n",
            "5\n",
            "7\n",
            "9\n"
          ]
        }
      ],
      "source": [
        "for i in range(10):\n",
        "    if i % 2 == 0:\n",
        "        pass  # Placeholder for future code\n",
        "    else:\n",
        "        print(i)"
      ]
    },
    {
      "cell_type": "markdown",
      "metadata": {},
      "source": [
        "#Q 1.1.9\n",
        "'''\n",
        "In Python, the self keyword is used in instance methods to refer to the instance of the class on which the method is being called. It allows you to access and modify the attributes and methods of the class within its methods. Here are some key points about self:\n",
        "'''"
      ]
    },
    {
      "cell_type": "code",
      "execution_count": 13,
      "metadata": {
        "colab": {
          "base_uri": "https://localhost:8080/"
        },
        "id": "xdD1VYqwZdDO",
        "outputId": "4d17d40e-d0cb-4861-dc7a-7f8edf6cbe2d"
      },
      "outputs": [
        {
          "name": "stdout",
          "output_type": "stream",
          "text": [
            "Model: Toyota Corolla, Color: Blue\n",
            "Model: Honda Civic, Color: Red\n"
          ]
        }
      ],
      "source": [
        "class Car:\n",
        "    def __init__(self, model, color):\n",
        "        self.model = model  # Initialize the model attribute\n",
        "        self.color = color  # Initialize the color attribute\n",
        "\n",
        "    def display_info(self):\n",
        "        print(f\"Model: {self.model}, Color: {self.color}\")\n",
        "\n",
        "# Creating an instance of the Car class\n",
        "car1 = Car(\"Toyota Corolla\", \"Blue\")\n",
        "car1.display_info()\n",
        "\n",
        "# Creating another instance of the Car class\n",
        "car2 = Car(\"Honda Civic\", \"Red\")\n",
        "car2.display_info()\n"
      ]
    },
    {
      "cell_type": "markdown",
      "metadata": {},
      "source": [
        "#Q 1.1.10\n",
        "'''\n",
        "Global Attributes\n",
        "Global attributes are variables defined at the module level, outside any class or function. They can be accessed from anywhere within the module.\n",
        "'''"
      ]
    },
    {
      "cell_type": "code",
      "execution_count": 14,
      "metadata": {
        "colab": {
          "base_uri": "https://localhost:8080/"
        },
        "id": "MDR5jr0pLZ20",
        "outputId": "ba342460-3eff-465c-d718-490afa3f3e32"
      },
      "outputs": [
        {
          "name": "stdout",
          "output_type": "stream",
          "text": [
            "I am global\n"
          ]
        }
      ],
      "source": [
        "# Global variable\n",
        "global_var = \"I am global\"\n",
        "\n",
        "class MyClass:\n",
        "    def display_global(self):\n",
        "        print(global_var)\n",
        "\n",
        "obj = MyClass()\n",
        "obj.display_global()\n"
      ]
    },
    {
      "cell_type": "markdown",
      "metadata": {},
      "source": [
        "'''\n",
        "Protected attributes are intended to be accessed within the class and its subclasses. By convention, they are prefixed with a single underscore (_). While they can still be accessed from outside the class, it is discouraged.\n",
        "'''"
      ]
    },
    {
      "cell_type": "code",
      "execution_count": 15,
      "metadata": {
        "colab": {
          "base_uri": "https://localhost:8080/"
        },
        "id": "cBcQ-ARNcask",
        "outputId": "26415959-f269-42bb-9ae9-6d9b4f0b3013"
      },
      "outputs": [
        {
          "name": "stdout",
          "output_type": "stream",
          "text": [
            "I am protected\n"
          ]
        }
      ],
      "source": [
        "class MyClass:\n",
        "    def __init__(self):\n",
        "        self._protected_var = \"I am protected\"\n",
        "\n",
        "class SubClass(MyClass):\n",
        "    def display_protected(self):\n",
        "        print(self._protected_var)\n",
        "\n",
        "obj = SubClass()\n",
        "obj.display_protected()"
      ]
    },
    {
      "cell_type": "markdown",
      "metadata": {},
      "source": [
        "'''\n",
        "Private attributes are intended to be accessed only within the class where they are defined. They are prefixed with a double underscore (__). This name mangling makes it harder to access them from outside the class.\n",
        "'''"
      ]
    },
    {
      "cell_type": "code",
      "execution_count": 16,
      "metadata": {
        "colab": {
          "base_uri": "https://localhost:8080/"
        },
        "id": "PzLHVlANcamL",
        "outputId": "ce7e8dbc-e1c6-4a64-9ee0-03065c89b6c3"
      },
      "outputs": [
        {
          "name": "stdout",
          "output_type": "stream",
          "text": [
            "I am private\n"
          ]
        }
      ],
      "source": [
        "class MyClass:\n",
        "    def __init__(self):\n",
        "        self.__private_var = \"I am private\"\n",
        "\n",
        "    def display_private(self):\n",
        "        print(self.__private_var)\n",
        "\n",
        "obj = MyClass()\n",
        "obj.display_private()"
      ]
    },
    {
      "cell_type": "markdown",
      "metadata": {},
      "source": [
        "##Q 1.1.11\n",
        "'''\n",
        "A module is a single file containing Python code, which can include functions, classes, and variables. Modules allow you to logically organize your Python code into separate files, making it easier to manage and reuse.\n",
        "'''"
      ]
    },
    {
      "cell_type": "code",
      "execution_count": 18,
      "metadata": {
        "id": "CzzpoyCxjOZ5"
      },
      "outputs": [],
      "source": [
        "# mymodule.py\n",
        "def greet(name):\n",
        "    return f\"Hello, {name}!\"\n",
        "\n",
        "def add(a, b):\n",
        "    return a + b"
      ]
    },
    {
      "cell_type": "markdown",
      "metadata": {},
      "source": [
        "'''\n",
        "A package is a collection of modules organized in a directory hierarchy. Packages allow you to structure your code into multiple modules and sub-packages, providing a way to group related modules together.\n",
        "'''"
      ]
    },
    {
      "cell_type": "code",
      "execution_count": 20,
      "metadata": {
        "id": "TlMEWnqejORz"
      },
      "outputs": [
        {
          "data": {
            "text/plain": [
              "'mypackage/\\n    __init__.py\\n    module1.py\\n    module2.py\\n\\n'"
            ]
          },
          "execution_count": 20,
          "metadata": {},
          "output_type": "execute_result"
        }
      ],
      "source": [
        "'''mypackage/\n",
        "    __init__.py\n",
        "    module1.py\n",
        "    module2.py\n",
        "\n",
        "'''"
      ]
    },
    {
      "cell_type": "markdown",
      "metadata": {},
      "source": [
        "##Q 1.1.12\n",
        "'''\n",
        "Lists\n",
        "A list in Python is a collection of items that are ordered and changeable. Lists allow duplicate elements and can contain elements of different data types. They are defined using square brackets [].\n",
        "'''"
      ]
    },
    {
      "cell_type": "code",
      "execution_count": 21,
      "metadata": {
        "colab": {
          "base_uri": "https://localhost:8080/"
        },
        "id": "hI9O68h5jONB",
        "outputId": "3579a451-dac3-44f1-c088-aed4b7a2c9a8"
      },
      "outputs": [
        {
          "name": "stdout",
          "output_type": "stream",
          "text": [
            "[1, 2, 3, 'apple', 4.5]\n"
          ]
        }
      ],
      "source": [
        "my_list = [1, 2, 3, 'apple', 4.5]\n",
        "print(my_list)"
      ]
    },
    {
      "cell_type": "markdown",
      "metadata": {},
      "source": [
        "'''\n",
        "Tuples\n",
        "A tuple is similar to a list but is immutable, meaning its elements cannot be changed after it is created. Tuples are defined using parentheses ().\n",
        "'''"
      ]
    },
    {
      "cell_type": "code",
      "execution_count": 22,
      "metadata": {
        "colab": {
          "base_uri": "https://localhost:8080/"
        },
        "id": "Kz6n1DFGjOHa",
        "outputId": "e568ec31-05bc-48fd-b7b1-a685904d38af"
      },
      "outputs": [
        {
          "name": "stdout",
          "output_type": "stream",
          "text": [
            "(1, 2, 3, 'apple', 4.5)\n"
          ]
        }
      ],
      "source": [
        "my_tuple = (1, 2, 3, 'apple', 4.5)\n",
        "print(my_tuple)"
      ]
    },
    {
      "cell_type": "markdown",
      "metadata": {},
      "source": [
        "##Q 1.1.13\n",
        "'''\n",
        "Interpreted Language\n",
        "An interpreted language is a type of programming language in which most of its implementations execute instructions directly, without the need for prior compilation into machine-language instructions. Instead, an interpreter reads and executes the code line by line.\n",
        "\n",
        "Examples: Python, JavaScript, Ruby, PHP\n",
        "'''"
      ]
    },
    {
      "cell_type": "markdown",
      "metadata": {},
      "source": [
        "'''\n",
        "Dynamically Typed Language\n",
        "A dynamically typed language is a type of programming language in which variable types are determined at runtime, rather than at compile-time. This means you don’t need to declare the type of a variable when you write your code; the interpreter figures it out when the program runs.\n",
        "\n",
        "Examples: Python, JavaScript, Ruby, PHP\n",
        "'''"
      ]
    },
    {
      "cell_type": "markdown",
      "metadata": {},
      "source": [
        "'''\n",
        "Key Differences\n",
        "Here are five key differences between interpreted languages and dynamically typed languages:\n",
        "\n",
        "Execution Method:\n",
        "Interpreted Language: Code is executed line by line by an interpreter.\n",
        "Dynamically Typed Language: Variable types are checked at runtime.\n",
        "Type Checking:\n",
        "Interpreted Language: Can be either statically or dynamically typed.\n",
        "Dynamically Typed Language: Always performs type checking at runtime.\n",
        "Compilation:\n",
        "Interpreted Language: Does not require prior compilation; the interpreter executes the source code directly.\n",
        "Dynamically Typed Language: May or may not be compiled; the key aspect is runtime type checking.\n",
        "Error Detection:\n",
        "Interpreted Language: Errors are detected at runtime as the code is executed.\n",
        "Dynamically Typed Language: Type-related errors are detected at runtime.\n",
        "Flexibility:\n",
        "Interpreted Language: Generally more flexible and platform-independent, as the interpreter can run on any platform.\n",
        "Dynamically Typed Language: Offers flexibility in variable usage, allowing variables to change types dynamically.\n",
        "'''"
      ]
    },
    {
      "cell_type": "markdown",
      "metadata": {},
      "source": [
        "##Q 1.1.14\n",
        "'''\n",
        "List Comprehensions\n",
        "List comprehensions provide a concise way to create lists. They consist of brackets containing an expression followed by a for clause, and can include optional if clauses. List comprehensions are more compact and readable than traditional for-loops.\n",
        "'''"
      ]
    },
    {
      "cell_type": "code",
      "execution_count": 23,
      "metadata": {
        "colab": {
          "base_uri": "https://localhost:8080/"
        },
        "id": "QGnK0Z_ynGXE",
        "outputId": "d65d17db-55b9-4cba-e0d1-a8bf3daf4b9a"
      },
      "outputs": [
        {
          "name": "stdout",
          "output_type": "stream",
          "text": [
            "[0, 1, 4, 9, 16, 25, 36, 49, 64, 81]\n",
            "[0, 2, 4, 6, 8]\n"
          ]
        }
      ],
      "source": [
        "squares = [x**2 for x in range(10)]\n",
        "print(squares)  # Output: [0, 1, 4, 9, 16, 25, 36, 49, 64, 81]\n",
        "\n",
        "# Creating a list of even numbers\n",
        "evens = [x for x in range(10) if x % 2 == 0]\n",
        "print(evens)"
      ]
    },
    {
      "cell_type": "markdown",
      "metadata": {},
      "source": [
        "'''\n",
        "Dictionary Comprehensions\n",
        "Dictionary comprehensions provide a concise way to create dictionaries. They use curly braces {} and follow a similar syntax to list comprehensions, but with a key-value pair.\n",
        "'''"
      ]
    },
    {
      "cell_type": "code",
      "execution_count": 25,
      "metadata": {
        "colab": {
          "base_uri": "https://localhost:8080/"
        },
        "id": "au9lOM_UjOEX",
        "outputId": "7b9acc67-3f2f-435e-d83e-fe96d9d7e981"
      },
      "outputs": [
        {
          "name": "stdout",
          "output_type": "stream",
          "text": [
            "{0: 0, 1: 1, 2: 4, 3: 9, 4: 16, 5: 25, 6: 36, 7: 49, 8: 64, 9: 81}\n",
            "{0: 0, 2: 4, 4: 16, 6: 36, 8: 64}\n"
          ]
        }
      ],
      "source": [
        "squares_dict = {x: x**2 for x in range(10)}\n",
        "print(squares_dict)  # Output: {0: 0, 1: 1, 2: 4, 3: 9, 4: 16, 5: 25, 6: 36, 7: 49, 8: 64, 9: 81}\n",
        "\n",
        "# Creating a dictionary with conditional logic\n",
        "even_squares_dict = {x: x**2 for x in range(10) if x % 2 == 0}\n",
        "print(even_squares_dict)"
      ]
    },
    {
      "cell_type": "markdown",
      "metadata": {},
      "source": [
        "##Q 1.1.15\n",
        "'''\n",
        "Decorators in Python\n",
        "A decorator in Python is a design pattern that allows you to modify the behavior of a function or method. Decorators wrap another function, enhancing or altering its behavior without changing its actual code. They are often used to add functionality to existing code in a clean and readable way.\n",
        "'''"
      ]
    },
    {
      "cell_type": "code",
      "execution_count": 26,
      "metadata": {
        "id": "qaTH5lThrfM9"
      },
      "outputs": [],
      "source": [
        "def decorator_function(original_function):\n",
        "    def wrapper_function():\n",
        "        # Code to execute before the original function\n",
        "        original_function()\n",
        "        # Code to execute after the original function\n",
        "    return wrapper_function"
      ]
    },
    {
      "cell_type": "markdown",
      "metadata": {},
      "source": [
        "'''\n",
        "Use Cases for Decorators\n",
        "Decorators are widely used in Python for various purposes, including:\n",
        "\n",
        "Logging: Automatically log function calls and their results.\n",
        "'''"
      ]
    },
    {
      "cell_type": "code",
      "execution_count": 27,
      "metadata": {
        "id": "vsJPovLirfEf"
      },
      "outputs": [],
      "source": [
        "def log_decorator(func):\n",
        "    def wrapper(*args, **kwargs):\n",
        "        print(f\"Calling {func.__name__} with {args} and {kwargs}\")\n",
        "        result = func(*args, **kwargs)\n",
        "        print(f\"{func.__name__} returned {result}\")\n",
        "        return result\n",
        "    return wrapper"
      ]
    },
    {
      "cell_type": "markdown",
      "metadata": {},
      "source": [
        "'''\n",
        "Authorization: Check if a user has the right permissions before executing a function.\n",
        "'''"
      ]
    },
    {
      "cell_type": "code",
      "execution_count": 28,
      "metadata": {
        "id": "Lvcysk3SssBS"
      },
      "outputs": [],
      "source": [
        "def authorize(func):\n",
        "    def wrapper(user, *args, **kwargs):\n",
        "        if user.is_authorized:\n",
        "            return func(*args, **kwargs)\n",
        "        else:\n",
        "            print(\"Unauthorized access\")\n",
        "    return wrapper"
      ]
    },
    {
      "cell_type": "markdown",
      "metadata": {},
      "source": [
        "'''\n",
        "Caching: Cache the results of expensive function calls to improve performance.\n",
        "'''"
      ]
    },
    {
      "cell_type": "code",
      "execution_count": 29,
      "metadata": {
        "id": "a8Y-kEGBsr7Y"
      },
      "outputs": [],
      "source": [
        "def cache_decorator(func):\n",
        "    cache = {}\n",
        "    def wrapper(*args):\n",
        "        if args in cache:\n",
        "            return cache[args]\n",
        "        result = func(*args)\n",
        "        cache[args] = result\n",
        "        return result\n",
        "    return wrapper"
      ]
    },
    {
      "cell_type": "markdown",
      "metadata": {},
      "source": [
        "'''\n",
        "Timing: Measure the execution time of a function.\n",
        "'''"
      ]
    },
    {
      "cell_type": "code",
      "execution_count": 30,
      "metadata": {
        "id": "nsIeIbblt4SR"
      },
      "outputs": [],
      "source": [
        "import time\n",
        "def timer_decorator(func):\n",
        "    def wrapper(*args, **kwargs):\n",
        "        start_time = time.time()\n",
        "        result = func(*args, **kwargs)\n",
        "        end_time = time.time()\n",
        "        print(f\"{func.__name__} took {end_time - start_time} seconds to execute\")\n",
        "        return result\n",
        "    return wrapper"
      ]
    },
    {
      "cell_type": "markdown",
      "metadata": {},
      "source": [
        "'''\n",
        "Input Validation: Validate the inputs to a function.\n",
        "'''"
      ]
    },
    {
      "cell_type": "code",
      "execution_count": 31,
      "metadata": {
        "id": "6AKqbb0Nt4Ly"
      },
      "outputs": [],
      "source": [
        "def validate_inputs(func):\n",
        "    def wrapper(*args, **kwargs):\n",
        "        if all(isinstance(arg, int) for arg in args):\n",
        "            return func(*args, **kwargs)\n",
        "        else:\n",
        "            print(\"Invalid inputs\")\n",
        "    return wrapper"
      ]
    },
    {
      "cell_type": "code",
      "execution_count": 32,
      "metadata": {
        "id": "jpPs7DmIuU-V"
      },
      "outputs": [],
      "source": [
        "a = [1, 2, 3]\n",
        "b = a\n",
        "del a\n",
        "# The list [1, 2, 3] is still in memory because b references it\n",
        "del b\n",
        "# Now the list [1, 2, 3] is deallocated because no references exist"
      ]
    },
    {
      "cell_type": "markdown",
      "metadata": {},
      "source": [
        "##Q 1.1.17\n",
        "'''\n",
        "A lambda function in Python is a small, anonymous function defined using the lambda keyword. Unlike regular functions defined with def, lambda functions can have any number of arguments but only one expression. The expression is evaluated and returned when the lambda function is called.\n",
        "'''"
      ]
    },
    {
      "cell_type": "code",
      "execution_count": 33,
      "metadata": {
        "colab": {
          "base_uri": "https://localhost:8080/"
        },
        "id": "EUFn170IuUwh",
        "outputId": "93e44167-8259-435d-c11c-03f37db1d115"
      },
      "outputs": [
        {
          "name": "stdout",
          "output_type": "stream",
          "text": [
            "15\n"
          ]
        }
      ],
      "source": [
        "add_ten = lambda x: x + 10\n",
        "print(add_ten(5))"
      ]
    },
    {
      "cell_type": "markdown",
      "metadata": {},
      "source": [
        "'''\n",
        "Why Use Lambda Functions?\n",
        "Lambda functions are used for short, throwaway operations where defining a full function might be overkill. They are often used in conjunction with functions like map(), filter(), and reduce(), or as arguments to higher-order functions.\n",
        "'''"
      ]
    },
    {
      "cell_type": "markdown",
      "metadata": {},
      "source": [
        "'''\n",
        "Inline Functions: Lambda functions are useful for defining small functions inline without cluttering the code with full function definitions.\n",
        "'''"
      ]
    },
    {
      "cell_type": "code",
      "execution_count": 34,
      "metadata": {
        "colab": {
          "base_uri": "https://localhost:8080/"
        },
        "id": "diQ68G86sr3h",
        "outputId": "4819ad6d-b91c-45be-cbe3-8aebb821d7fb"
      },
      "outputs": [
        {
          "name": "stdout",
          "output_type": "stream",
          "text": [
            "[1, 4, 9, 16, 25]\n"
          ]
        }
      ],
      "source": [
        "numbers = [1, 2, 3, 4, 5]\n",
        "squares = list(map(lambda x: x**2, numbers))\n",
        "print(squares)"
      ]
    },
    {
      "cell_type": "markdown",
      "metadata": {},
      "source": [
        "'''\n",
        "Sorting: Lambda functions can be used as the key argument in sorting functions.\n",
        "'''"
      ]
    },
    {
      "cell_type": "code",
      "execution_count": 35,
      "metadata": {
        "colab": {
          "base_uri": "https://localhost:8080/"
        },
        "id": "loD7yQDE0Hit",
        "outputId": "4196bade-69a3-4fb2-ac4a-892bae49f08d"
      },
      "outputs": [
        {
          "name": "stdout",
          "output_type": "stream",
          "text": [
            "[(5, -1), (3, 1), (1, 2)]\n"
          ]
        }
      ],
      "source": [
        "points = [(1, 2), (3, 1), (5, -1)]\n",
        "points.sort(key=lambda point: point[1])\n",
        "print(points)\n"
      ]
    },
    {
      "cell_type": "markdown",
      "metadata": {},
      "source": [
        "'''\n",
        "Filtering: Lambda functions are often used with filter() to filter elements in a list\n",
        "'''"
      ]
    },
    {
      "cell_type": "code",
      "execution_count": 36,
      "metadata": {
        "colab": {
          "base_uri": "https://localhost:8080/"
        },
        "id": "anEhU2rX0HdQ",
        "outputId": "2dc51530-4ac9-45d3-df21-6dbbe9cea628"
      },
      "outputs": [
        {
          "name": "stdout",
          "output_type": "stream",
          "text": [
            "[2, 4, 6]\n"
          ]
        }
      ],
      "source": [
        "numbers = [1, 2, 3, 4, 5, 6]\n",
        "evens = list(filter(lambda x: x % 2 == 0, numbers))\n",
        "print(evens)\n"
      ]
    },
    {
      "cell_type": "markdown",
      "metadata": {},
      "source": [
        "'''\n",
        "Reducing: Lambda functions can be used with reduce() to perform cumulative operations on a list.\n",
        "'''"
      ]
    },
    {
      "cell_type": "code",
      "execution_count": 37,
      "metadata": {
        "colab": {
          "base_uri": "https://localhost:8080/"
        },
        "id": "ufz9qZwZ0dec",
        "outputId": "7b9b0928-5c57-44ea-b4d6-54710ecd8228"
      },
      "outputs": [
        {
          "name": "stdout",
          "output_type": "stream",
          "text": [
            "120\n"
          ]
        }
      ],
      "source": [
        "from functools import reduce\n",
        "numbers = [1, 2, 3, 4, 5]\n",
        "product = reduce(lambda x, y: x * y, numbers)\n",
        "print(product)"
      ]
    },
    {
      "cell_type": "markdown",
      "metadata": {},
      "source": [
        "'''\n",
        "Anonymous Functions: Lambda functions are useful when you need a simple function for a short period and don’t want to define a full function.\n",
        "'''"
      ]
    },
    {
      "cell_type": "code",
      "execution_count": 38,
      "metadata": {
        "colab": {
          "base_uri": "https://localhost:8080/"
        },
        "id": "17k8qziF0dZ3",
        "outputId": "a65a22a4-5678-4ad7-f296-b0abd58518ee"
      },
      "outputs": [
        {
          "name": "stdout",
          "output_type": "stream",
          "text": [
            "10\n"
          ]
        }
      ],
      "source": [
        "def make_multiplier(n):\n",
        "    return lambda x: x * n\n",
        "\n",
        "doubler = make_multiplier(2)\n",
        "print(doubler(5))"
      ]
    },
    {
      "cell_type": "markdown",
      "metadata": {},
      "source": [
        "##Q 1.1.18\n",
        "'''\n",
        "split() Function\n",
        "The split() function in Python is used to split a string into a list of substrings based on a specified delimiter. If no delimiter is provided, the default is whitespace.\n",
        "'''"
      ]
    },
    {
      "cell_type": "code",
      "execution_count": 39,
      "metadata": {
        "colab": {
          "base_uri": "https://localhost:8080/"
        },
        "id": "kj8wtMOd0dT_",
        "outputId": "58975fe0-d21e-45ef-ab36-83ade533998e"
      },
      "outputs": [
        {
          "name": "stdout",
          "output_type": "stream",
          "text": [
            "['Hello,', 'world!', 'Welcome', 'to', 'Python.']\n",
            "['apple', 'banana', 'cherry']\n",
            "['apple', 'banana,cherry']\n"
          ]
        }
      ],
      "source": [
        "text = \"Hello, world! Welcome to Python.\"\n",
        "# Splitting on whitespace\n",
        "words = text.split()\n",
        "print(words)\n",
        "\n",
        "# Splitting on a specific delimiter\n",
        "fruits = \"apple,banana,cherry\"\n",
        "fruit_list = fruits.split(',')\n",
        "print(fruit_list)\n",
        "\n",
        "# Using maxsplit\n",
        "limited_split = fruits.split(',', 1)\n",
        "print(limited_split)\n"
      ]
    },
    {
      "cell_type": "markdown",
      "metadata": {},
      "source": [
        "'''\n",
        "join() Function\n",
        "The join() function in Python is used to join a list of strings into a single string, with a specified separator between each element.\n",
        "'''"
      ]
    },
    {
      "cell_type": "code",
      "execution_count": 40,
      "metadata": {
        "colab": {
          "base_uri": "https://localhost:8080/"
        },
        "id": "L1PKaOiJ1rZV",
        "outputId": "5bf18a7c-f594-4098-de3d-ebb94638d26c"
      },
      "outputs": [
        {
          "name": "stdout",
          "output_type": "stream",
          "text": [
            "Hello world Welcome to Python\n",
            "Hello-world-Welcome-to-Python\n"
          ]
        }
      ],
      "source": [
        "words = ['Hello', 'world', 'Welcome', 'to', 'Python']\n",
        "# Joining with a space\n",
        "sentence = ' '.join(words)\n",
        "print(sentence)\n",
        "\n",
        "# Joining with a hyphen\n",
        "hyphenated = '-'.join(words)\n",
        "print(hyphenated)\n"
      ]
    },
    {
      "cell_type": "markdown",
      "metadata": {},
      "source": [
        "##Q 1.1.19\n",
        "'''\n",
        "Iterables\n",
        "An iterable is any Python object capable of returning its members one at a time, allowing it to be iterated over in a loop. Common examples include lists, tuples, sets, and strings. An object is considered iterable if it implements the __iter__() method, which returns an iterator.\n",
        "'''"
      ]
    },
    {
      "cell_type": "code",
      "execution_count": 41,
      "metadata": {
        "colab": {
          "base_uri": "https://localhost:8080/"
        },
        "id": "bSys2mfL1rUB",
        "outputId": "58abb05a-6783-4f49-e1bb-f77679ab0960"
      },
      "outputs": [
        {
          "name": "stdout",
          "output_type": "stream",
          "text": [
            "1\n",
            "2\n",
            "3\n"
          ]
        }
      ],
      "source": [
        "my_list = [1, 2, 3]\n",
        "for item in my_list:\n",
        "    print(item)"
      ]
    },
    {
      "cell_type": "markdown",
      "metadata": {},
      "source": [
        "'''\n",
        "Iterators\n",
        "An iterator is an object that represents a stream of data. It returns data one element at a time when iterated over. An iterator must implement two methods: __iter__() and __next__(). The __iter__() method returns the iterator object itself, and the __next__() method returns the next element in the sequence.\n",
        "'''"
      ]
    },
    {
      "cell_type": "code",
      "execution_count": 42,
      "metadata": {
        "colab": {
          "base_uri": "https://localhost:8080/"
        },
        "id": "ZUdZnMpI0dRA",
        "outputId": "b55a9f0b-6217-4d4f-bb5c-aa19a3009629"
      },
      "outputs": [
        {
          "name": "stdout",
          "output_type": "stream",
          "text": [
            "1\n",
            "2\n",
            "3\n"
          ]
        }
      ],
      "source": [
        "my_list = [1, 2, 3]\n",
        "my_iter = iter(my_list)\n",
        "\n",
        "print(next(my_iter))\n",
        "print(next(my_iter))\n",
        "print(next(my_iter))"
      ]
    },
    {
      "cell_type": "markdown",
      "metadata": {},
      "source": [
        "'''\n",
        "Generators\n",
        "A generator is a special type of iterator that is defined using a function with the yield keyword. Generators allow you to declare a function that behaves like an iterator. They are more memory-efficient than regular functions because they generate values on the fly and do not store the entire sequence in memory.\n",
        "'''"
      ]
    },
    {
      "cell_type": "code",
      "execution_count": 43,
      "metadata": {
        "colab": {
          "base_uri": "https://localhost:8080/"
        },
        "id": "gsYrBxss2tIx",
        "outputId": "3c529ed1-7a83-487a-c29b-f4abbad0a275"
      },
      "outputs": [
        {
          "name": "stdout",
          "output_type": "stream",
          "text": [
            "1\n",
            "2\n",
            "3\n"
          ]
        }
      ],
      "source": [
        "def my_generator():\n",
        "    yield 1\n",
        "    yield 2\n",
        "    yield 3\n",
        "\n",
        "gen = my_generator()\n",
        "\n",
        "print(next(gen))\n",
        "print(next(gen))\n",
        "print(next(gen))\n"
      ]
    },
    {
      "cell_type": "markdown",
      "metadata": {},
      "source": [
        "##Q 1.1.20\n",
        "'''\n",
        "The range and xrange functions in Python are used to generate sequences of numbers, but they have some key differences. Notably, xrange is only available in Python 2, while range is available in both Python 2 and Python 3. In Python 3, range behaves similarly to xrange in Python 2.\n",
        "'''"
      ]
    },
    {
      "cell_type": "markdown",
      "metadata": {},
      "source": [
        "'''\n",
        "Key Differences\n",
        "Availability:\n",
        "range: Available in both Python 2 and Python 3.\n",
        "xrange: Only available in Python 2.\n",
        "Return Type:\n",
        "range: In Python 2, it returns a list. In Python 3, it returns a range object, which is an immutable sequence type.\n",
        "xrange: Returns an xrange object, which generates numbers on the fly and is more memory efficient.\n",
        "Memory Usage:\n",
        "range: In Python 2, it generates the entire list in memory, which can be memory-intensive for large ranges. In Python 3, the range object is more memory efficient.\n",
        "xrange: Generates numbers on demand (lazy evaluation), making it more memory efficient than range in Python 2.\n",
        "Performance:\n",
        "range: In Python 2, it can be slower for large ranges due to memory usage. In Python 3, the performance is similar to xrange.\n",
        "xrange: Faster for large ranges in Python 2 due to its lazy evaluation.\n",
        "Operations:\n",
        "range: In Python 2, since it returns a list, all list operations (like slicing) can be performed. In Python 3, the range object supports iteration and some list-like operations but is not a full list.\n",
        "xrange: In Python 2, it does not support all list operations, such as slicing.\n",
        "'''"
      ]
    },
    {
      "cell_type": "markdown",
      "metadata": {},
      "source": [
        "##Q 1.1.21\n",
        "'''\n",
        "Object-Oriented Programming (OOP) is a programming paradigm based on the concept of “objects,” which can contain data and code to manipulate that data. The four fundamental principles of OOP, often referred to as the “pillars” of OOP, are:\n",
        "'''"
      ]
    },
    {
      "cell_type": "markdown",
      "metadata": {},
      "source": [
        "'''\n",
        "1. Abstraction\n",
        "Abstraction involves hiding the complex implementation details of a system and exposing only the necessary parts. It allows you to focus on what an object does rather than how it does it.\n",
        "'''"
      ]
    },
    {
      "cell_type": "code",
      "execution_count": 44,
      "metadata": {
        "id": "xmR8n12r2tFZ"
      },
      "outputs": [],
      "source": [
        "class Car:\n",
        "    def start_engine(self):\n",
        "        pass  # Implementation details are hidden\n",
        "\n",
        "my_car = Car()\n",
        "my_car.start_engine()\n"
      ]
    },
    {
      "cell_type": "markdown",
      "metadata": {},
      "source": [
        "'''\n",
        "2. Encapsulation\n",
        "Encapsulation is the practice of bundling the data (attributes) and methods (functions) that operate on the data into a single unit, or class. It also involves restricting direct access to some of the object’s components, which is a means of preventing accidental interference and misuse of the data.\n",
        "'''"
      ]
    },
    {
      "cell_type": "code",
      "execution_count": 45,
      "metadata": {
        "colab": {
          "base_uri": "https://localhost:8080/"
        },
        "id": "e8fJ6fSD361i",
        "outputId": "9fa34d05-f2d0-4bed-bb69-d18ac3ac02e0"
      },
      "outputs": [
        {
          "name": "stdout",
          "output_type": "stream",
          "text": [
            "Toyota\n"
          ]
        }
      ],
      "source": [
        "class Car:\n",
        "    def __init__(self, make, model):\n",
        "        self.__make = make  # Private attribute\n",
        "        self.__model = model  # Private attribute\n",
        "\n",
        "    def get_make(self):\n",
        "        return self.__make\n",
        "\n",
        "    def get_model(self):\n",
        "        return self.__model\n",
        "\n",
        "my_car = Car(\"Toyota\", \"Corolla\")\n",
        "print(my_car.get_make())\n"
      ]
    },
    {
      "cell_type": "markdown",
      "metadata": {},
      "source": [
        "'''\n",
        "3. Inheritance\n",
        "Inheritance allows a class to inherit attributes and methods from another class. This promotes code reuse and establishes a natural hierarchy between classes.\n",
        "'''"
      ]
    },
    {
      "cell_type": "code",
      "execution_count": 46,
      "metadata": {
        "colab": {
          "base_uri": "https://localhost:8080/"
        },
        "id": "xW7LbgG236vl",
        "outputId": "76d2bd4c-f5a5-4676-88b6-e9bb8574af89"
      },
      "outputs": [
        {
          "name": "stdout",
          "output_type": "stream",
          "text": [
            "Make: Toyota, Model: Corolla\n",
            "Doors: 4\n"
          ]
        }
      ],
      "source": [
        "class Vehicle:\n",
        "    def __init__(self, make, model):\n",
        "        self.make = make\n",
        "        self.model = model\n",
        "\n",
        "    def display_info(self):\n",
        "        print(f\"Make: {self.make}, Model: {self.model}\")\n",
        "\n",
        "class Car(Vehicle):\n",
        "    def __init__(self, make, model, doors):\n",
        "        super().__init__(make, model)\n",
        "        self.doors = doors\n",
        "\n",
        "    def display_info(self):\n",
        "        super().display_info()\n",
        "        print(f\"Doors: {self.doors}\")\n",
        "\n",
        "my_car = Car(\"Toyota\", \"Corolla\", 4)\n",
        "my_car.display_info()\n"
      ]
    },
    {
      "cell_type": "markdown",
      "metadata": {},
      "source": [
        "'''\n",
        "4. Polymorphism\n",
        "Polymorphism allows objects of different classes to be treated as objects of a common superclass. It is often used to define methods in the child class that have the same name as the methods in the parent class.\n",
        "'''"
      ]
    },
    {
      "cell_type": "code",
      "execution_count": 47,
      "metadata": {
        "colab": {
          "base_uri": "https://localhost:8080/"
        },
        "id": "Bt1dxc4Y4Xxq",
        "outputId": "e30280bf-72a5-4767-ed57-33f8f9107968"
      },
      "outputs": [
        {
          "name": "stdout",
          "output_type": "stream",
          "text": [
            "Woof!\n",
            "Meow!\n"
          ]
        }
      ],
      "source": [
        "class Animal:\n",
        "    def speak(self):\n",
        "        pass\n",
        "\n",
        "class Dog(Animal):\n",
        "    def speak(self):\n",
        "        return \"Woof!\"\n",
        "\n",
        "class Cat(Animal):\n",
        "    def speak(self):\n",
        "        return \"Meow!\"\n",
        "\n",
        "animals = [Dog(), Cat()]\n",
        "for animal in animals:\n",
        "    print(animal.speak())\n"
      ]
    },
    {
      "cell_type": "markdown",
      "metadata": {},
      "source": [
        "##Q 1.1.22\n",
        "'''\n",
        "To check if a class is a child (subclass) of another class in Python, you can use the built-in issubclass() function. This function returns True if the specified class is a subclass of the given class, and False otherwise.\n",
        "'''"
      ]
    },
    {
      "cell_type": "code",
      "execution_count": null,
      "metadata": {
        "colab": {
          "base_uri": "https://localhost:8080/"
        },
        "id": "8UmOsTXr5Fx4",
        "outputId": "a048d87d-368e-48d3-f4c9-ddc623a1b463"
      },
      "outputs": [
        {
          "name": "stdout",
          "output_type": "stream",
          "text": [
            "True\n",
            "False\n",
            "True\n"
          ]
        }
      ],
      "source": [
        "class Parent:\n",
        "    pass\n",
        "\n",
        "class Child(Parent):\n",
        "    pass\n",
        "\n",
        "print(issubclass(Child, Parent))\n",
        "print(issubclass(Parent, Child))\n",
        "print(issubclass(Child, object))"
      ]
    },
    {
      "cell_type": "markdown",
      "metadata": {},
      "source": [
        "##Q 1.1.23\n",
        "'''\n",
        "Inheritance in Python allows a class (child class) to inherit attributes and methods from another class (parent class). This promotes code reuse and establishes a natural hierarchy between classes. There are several types of inheritance in Python:\n",
        "'''"
      ]
    },
    {
      "cell_type": "markdown",
      "metadata": {},
      "source": [
        "'''\n",
        "1. Single Inheritance\n",
        "Single inheritance enables a derived class to inherit properties from a single parent class.\n",
        "'''"
      ]
    },
    {
      "cell_type": "code",
      "execution_count": 48,
      "metadata": {
        "colab": {
          "base_uri": "https://localhost:8080/"
        },
        "id": "LEP2LRTUcajh",
        "outputId": "885090c9-8979-4345-9ee2-ddebb06b99c7"
      },
      "outputs": [
        {
          "name": "stdout",
          "output_type": "stream",
          "text": [
            "This function is in the parent class.\n",
            "This function is in the child class.\n"
          ]
        }
      ],
      "source": [
        "class Parent:\n",
        "    def func1(self):\n",
        "        print(\"This function is in the parent class.\")\n",
        "\n",
        "class Child(Parent):\n",
        "    def func2(self):\n",
        "        print(\"This function is in the child class.\")\n",
        "\n",
        "obj = Child()\n",
        "obj.func1()\n",
        "obj.func2()"
      ]
    },
    {
      "cell_type": "markdown",
      "metadata": {},
      "source": [
        "'''\n",
        "2. Multiple Inheritance\n",
        "Multiple inheritance allows a class to inherit from more than one base class.\n",
        "'''"
      ]
    },
    {
      "cell_type": "code",
      "execution_count": 50,
      "metadata": {
        "colab": {
          "base_uri": "https://localhost:8080/"
        },
        "id": "lQ7VsZ2Q6oHW",
        "outputId": "9b5840a6-61c5-40f0-804a-134dbcadbe30"
      },
      "outputs": [
        {
          "name": "stdout",
          "output_type": "stream",
          "text": [
            "This function is in the Mother class.\n",
            "This function is in the Father class.\n",
            "This function is in the Child class.\n"
          ]
        }
      ],
      "source": [
        "class Mother:\n",
        "    def mother_func(self):\n",
        "        print(\"This function is in the Mother class.\")\n",
        "\n",
        "class Father:\n",
        "    def father_func(self):\n",
        "        print(\"This function is in the Father class.\")\n",
        "\n",
        "class Child(Mother, Father):\n",
        "    def child_func(self):\n",
        "        print(\"This function is in the Child class.\")\n",
        "\n",
        "obj = Child()\n",
        "obj.mother_func()\n",
        "obj.father_func()\n",
        "obj.child_func()\n"
      ]
    },
    {
      "cell_type": "markdown",
      "metadata": {},
      "source": [
        "'''\n",
        "3. Multilevel Inheritance\n",
        "In multilevel inheritance, a class is derived from another class, which is also derived from another class.\n",
        "'''"
      ]
    },
    {
      "cell_type": "code",
      "execution_count": 51,
      "metadata": {
        "colab": {
          "base_uri": "https://localhost:8080/"
        },
        "id": "k261EuRN6oCN",
        "outputId": "2a6fd446-783d-4553-f0a8-e17a166fe670"
      },
      "outputs": [
        {
          "name": "stdout",
          "output_type": "stream",
          "text": [
            "This function is in the Grandparent class.\n",
            "This function is in the Parent class.\n",
            "This function is in the Child class.\n"
          ]
        }
      ],
      "source": [
        "class Grandparent:\n",
        "    def grandparent_func(self):\n",
        "        print(\"This function is in the Grandparent class.\")\n",
        "\n",
        "class Parent(Grandparent):\n",
        "    def parent_func(self):\n",
        "        print(\"This function is in the Parent class.\")\n",
        "\n",
        "class Child(Parent):\n",
        "    def child_func(self):\n",
        "        print(\"This function is in the Child class.\")\n",
        "\n",
        "obj = Child()\n",
        "obj.grandparent_func()\n",
        "obj.parent_func()\n",
        "obj.child_func()"
      ]
    },
    {
      "cell_type": "markdown",
      "metadata": {},
      "source": [
        "'''\n",
        "4. Hierarchical Inheritance\n",
        "In hierarchical inheritance, multiple derived classes inherit from a single base class.\n",
        "'''"
      ]
    },
    {
      "cell_type": "code",
      "execution_count": 52,
      "metadata": {
        "colab": {
          "base_uri": "https://localhost:8080/"
        },
        "id": "VzbXPpUg67my",
        "outputId": "e328db1f-bfbc-41be-8b04-79895812f611"
      },
      "outputs": [
        {
          "name": "stdout",
          "output_type": "stream",
          "text": [
            "This function is in the parent class.\n",
            "This function is in the first child class.\n",
            "This function is in the parent class.\n",
            "This function is in the second child class.\n"
          ]
        }
      ],
      "source": [
        "class Parent:\n",
        "    def func1(self):\n",
        "        print(\"This function is in the parent class.\")\n",
        "\n",
        "class Child1(Parent):\n",
        "    def func2(self):\n",
        "        print(\"This function is in the first child class.\")\n",
        "\n",
        "class Child2(Parent):\n",
        "    def func3(self):\n",
        "        print(\"This function is in the second child class.\")\n",
        "\n",
        "obj1 = Child1()\n",
        "obj2 = Child2()\n",
        "obj1.func1()\n",
        "obj1.func2()\n",
        "obj2.func1()\n",
        "obj2.func3()"
      ]
    },
    {
      "cell_type": "markdown",
      "metadata": {},
      "source": [
        "'''\n",
        "5. Hybrid Inheritance\n",
        "Hybrid inheritance is a combination of two or more types of inheritance. It aims to utilize the benefits of multiple inheritance types.\n",
        "'''"
      ]
    },
    {
      "cell_type": "code",
      "execution_count": 53,
      "metadata": {
        "colab": {
          "base_uri": "https://localhost:8080/"
        },
        "id": "V855ZswI67fg",
        "outputId": "d8de1fc3-4e58-4d6b-b1a9-412eb68975db"
      },
      "outputs": [
        {
          "name": "stdout",
          "output_type": "stream",
          "text": [
            "This function is in the Base class.\n",
            "This function is in the Derived1 class.\n",
            "This function is in the Derived2 class.\n",
            "This function is in the Derived3 class.\n"
          ]
        }
      ],
      "source": [
        "class Base:\n",
        "    def base_func(self):\n",
        "        print(\"This function is in the Base class.\")\n",
        "\n",
        "class Derived1(Base):\n",
        "    def derived1_func(self):\n",
        "        print(\"This function is in the Derived1 class.\")\n",
        "\n",
        "class Derived2(Base):\n",
        "    def derived2_func(self):\n",
        "        print(\"This function is in the Derived2 class.\")\n",
        "\n",
        "class Derived3(Derived1, Derived2):\n",
        "    def derived3_func(self):\n",
        "        print(\"This function is in the Derived3 class.\")\n",
        "\n",
        "obj = Derived3()\n",
        "obj.base_func()\n",
        "obj.derived1_func()\n",
        "obj.derived2_func()\n",
        "obj.derived3_func()"
      ]
    },
    {
      "cell_type": "markdown",
      "metadata": {},
      "source": [
        "##Q 1.1.24\n",
        "'''\n",
        "Encapsulation in Python\n",
        "Encapsulation is one of the fundamental concepts in object-oriented programming (OOP). It refers to the bundling of data (attributes) and methods (functions) that operate on the data into a single unit, typically a class. Encapsulation restricts direct access to some of an object’s components, which can prevent the accidental modification of data. This is achieved through access modifiers that control the visibility of class members.\n",
        "'''"
      ]
    },
    {
      "cell_type": "code",
      "execution_count": 54,
      "metadata": {
        "colab": {
          "base_uri": "https://localhost:8080/"
        },
        "id": "3k2XtzvM7q7u",
        "outputId": "06a0a60f-f661-4b01-e80e-64d9b249660d"
      },
      "outputs": [
        {
          "name": "stdout",
          "output_type": "stream",
          "text": [
            "Alice\n",
            "1000\n",
            "Deposited 500. New balance is 1500.\n",
            "Withdrew 200. New balance is 1300.\n"
          ]
        }
      ],
      "source": [
        "class BankAccount:\n",
        "    def __init__(self, owner, balance):\n",
        "        self.owner = owner          # Public attribute\n",
        "        self.__balance = balance    # Private attribute\n",
        "\n",
        "    def deposit(self, amount):\n",
        "        if amount > 0:\n",
        "            self.__balance += amount\n",
        "            print(f\"Deposited {amount}. New balance is {self.__balance}.\")\n",
        "        else:\n",
        "            print(\"Deposit amount must be positive.\")\n",
        "\n",
        "    def withdraw(self, amount):\n",
        "        if 0 < amount <= self.__balance:\n",
        "            self.__balance -= amount\n",
        "            print(f\"Withdrew {amount}. New balance is {self.__balance}.\")\n",
        "        else:\n",
        "            print(\"Invalid withdrawal amount.\")\n",
        "\n",
        "    def get_balance(self):\n",
        "        return self.__balance\n",
        "\n",
        "# Creating an instance of BankAccount\n",
        "account = BankAccount(\"Alice\", 1000)\n",
        "\n",
        "# Accessing public attribute\n",
        "print(account.owner)\n",
        "print(account.get_balance())\n",
        "\n",
        "# Depositing money\n",
        "account.deposit(500)\n",
        "\n",
        "# Withdrawing money\n",
        "account.withdraw(200)\n"
      ]
    },
    {
      "cell_type": "markdown",
      "metadata": {},
      "source": [
        "##Q 1.1.25\n",
        "'''\n",
        "Polymorphism in Python\n",
        "Polymorphism is a core concept in object-oriented programming (OOP) that allows objects of different classes to be treated as objects of a common superclass. It enables a single interface to represent different underlying forms (data types). Polymorphism is often used to perform a single action in different ways.\n",
        "'''"
      ]
    },
    {
      "cell_type": "code",
      "execution_count": 55,
      "metadata": {
        "colab": {
          "base_uri": "https://localhost:8080/"
        },
        "id": "iPo29rS37q2j",
        "outputId": "9875966c-f309-4692-bcf0-fb2ebb288612"
      },
      "outputs": [
        {
          "name": "stdout",
          "output_type": "stream",
          "text": [
            "Woof!\n",
            "Meow!\n"
          ]
        }
      ],
      "source": [
        "class Animal:\n",
        "    def speak(self):\n",
        "        raise NotImplementedError(\"Subclass must implement this method\")\n",
        "\n",
        "class Dog(Animal):\n",
        "    def speak(self):\n",
        "        return \"Woof!\"\n",
        "\n",
        "class Cat(Animal):\n",
        "    def speak(self):\n",
        "        return \"Meow!\"\n",
        "\n",
        "# Creating instances of Dog and Cat\n",
        "dog = Dog()\n",
        "cat = Cat()\n",
        "\n",
        "# Demonstrating polymorphism\n",
        "for animal in (dog, cat):\n",
        "    print(animal.speak())"
      ]
    },
    {
      "cell_type": "markdown",
      "metadata": {},
      "source": [
        "##Q 1.2\n",
        "'''\n",
        "a) Serial_no. - Valid. It follows the rules for identifiers.\n",
        "\n",
        "b) 1st_Room - Invalid. Identifiers cannot start with a digit.\n",
        "\n",
        "c) Hundred$ - Valid. The dollar sign is allowed in identifiers.\n",
        "\n",
        "d) Total_Marks - Valid. It follows the rules for identifiers.\n",
        "\n",
        "e) total-Marks - Invalid. Hyphens are not allowed in identifiers.\n",
        "\n",
        "f) Total Marks - Invalid. Spaces are not allowed in identifiers.\n",
        "\n",
        "g) True - Invalid. True is a reserved keyword in Python.\n",
        "\n",
        "h) _Percentag - Valid. Identifiers can start with an underscore.\n",
        "'''"
      ]
    },
    {
      "cell_type": "code",
      "execution_count": 56,
      "metadata": {
        "colab": {
          "base_uri": "https://localhost:8080/"
        },
        "id": "4XVKZd0K7qw8",
        "outputId": "3cf53b92-6e81-4d2e-eb99-bdad4cc60ee4"
      },
      "outputs": [
        {
          "name": "stdout",
          "output_type": "stream",
          "text": [
            "['freedom_fighter', 'Mohan', 'dash', 'karam', 'chandra', 'gandhi', 'Bapu']\n"
          ]
        }
      ],
      "source": [
        "##Q 1.3\n",
        "name = [\"Mohan\", \"dash\", \"karam\", \"chandra\", \"gandhi\", \"Bapu\"]\n",
        "name.insert(0, \"freedom_fighter\")\n",
        "print(name)"
      ]
    },
    {
      "cell_type": "code",
      "execution_count": 57,
      "metadata": {
        "colab": {
          "base_uri": "https://localhost:8080/"
        },
        "id": "eJxvUZtTcZ_3",
        "outputId": "a388d1c6-023a-448c-f780-8b1f47305068"
      },
      "outputs": [
        {
          "name": "stdout",
          "output_type": "stream",
          "text": [
            "6\n"
          ]
        }
      ],
      "source": [
        "name = [\"freedomFighter\",\"Bapuji\",\"MOhan\" \"dash\", \"karam\",\n",
        "\"chandra\",\"gandhi\"]\n",
        "length1=len((name[-len(name)+1:-1:2]))\n",
        "length2=len((name[-len(name)+1:-1]))\n",
        "print(length1+length2)"
      ]
    },
    {
      "cell_type": "code",
      "execution_count": 58,
      "metadata": {
        "colab": {
          "base_uri": "https://localhost:8080/"
        },
        "id": "rnaCSAEgcZ8m",
        "outputId": "2f13efde-5a53-4c6f-cb25-c8d458cd6338"
      },
      "outputs": [
        {
          "name": "stdout",
          "output_type": "stream",
          "text": [
            "['freedomFighter', 'Bapuji', 'MOhandash', 'karam', 'chandra', 'gandhi', 'NetaJi', 'Bose']\n"
          ]
        }
      ],
      "source": [
        "name = [\"freedomFighter\",\"Bapuji\",\"MOhan\" \"dash\", \"karam\",\n",
        "\"chandra\",\"gandhi\"]\n",
        "name.extend([\"NetaJi\", \"Bose\"])\n",
        "print(name)"
      ]
    },
    {
      "cell_type": "code",
      "execution_count": 59,
      "metadata": {
        "colab": {
          "base_uri": "https://localhost:8080/"
        },
        "id": "Qs8x_XjQcZ3A",
        "outputId": "c05e7c9f-cda4-4abb-8037-e6c2969076f9"
      },
      "outputs": [
        {
          "name": "stdout",
          "output_type": "stream",
          "text": [
            "['Mohan', 'dash', 'karam', 'chandra', 'gandi', 'Bapuji']\n"
          ]
        }
      ],
      "source": [
        "#what will be the value of temp:\n",
        "name = [\"Bapuji\", \"dash\", \"karam\", \"chandra\",\"gandi\",\"Mohan\"]\n",
        "temp=name[-1]\n",
        "name[-1]=name[0]\n",
        "name[0]=temp\n",
        "print(name)"
      ]
    },
    {
      "cell_type": "code",
      "execution_count": 60,
      "metadata": {
        "colab": {
          "base_uri": "https://localhost:8080/"
        },
        "id": "TULDme7qcZ0r",
        "outputId": "e3a9a5ae-a7e2-48dc-d19b-a9408c9d5ab9"
      },
      "outputs": [
        {
          "name": "stdout",
          "output_type": "stream",
          "text": [
            "2\n",
            "4\n",
            "7\n"
          ]
        }
      ],
      "source": [
        "##Q 1.4\n",
        "animal = ['Human', 'cat', 'mat', 'cat', 'rat', 'Human', 'Lion']\n",
        "\n",
        "# Count the occurrences of 'Human'\n",
        "print(animal.count('Human'))\n",
        "\n",
        "# Find the index of the first occurrence of 'rat'\n",
        "print(animal.index('rat'))\n",
        "\n",
        "# Find the length of the list\n",
        "print(len(animal))"
      ]
    },
    {
      "cell_type": "code",
      "execution_count": 61,
      "metadata": {
        "colab": {
          "base_uri": "https://localhost:8080/"
        },
        "id": "jty-RPy9cZxa",
        "outputId": "691727c1-2095-4208-9906-148e3fdb8bf1"
      },
      "outputs": [
        {
          "name": "stdout",
          "output_type": "stream",
          "text": [
            "8\n"
          ]
        }
      ],
      "source": [
        "##Q 1.5\n",
        "tuple1 = (10, 20, \"Apple\", 3.4, 'a', [\"master\", \"ji\"], (\"sita\", \"geeta\", 22), [{\"roll_no\": \"N1\"}, {\"name\": \"Navneet\"}])\n",
        "print(len(tuple1))"
      ]
    },
    {
      "cell_type": "code",
      "execution_count": 62,
      "metadata": {
        "colab": {
          "base_uri": "https://localhost:8080/"
        },
        "id": "GibMyjyZ7qt4",
        "outputId": "34d7e4eb-1aee-46f5-e559-dbbac6116c16"
      },
      "outputs": [
        {
          "name": "stdout",
          "output_type": "stream",
          "text": [
            "Navneet\n"
          ]
        }
      ],
      "source": [
        "print(tuple1[-1][-1][\"name\"])"
      ]
    },
    {
      "cell_type": "code",
      "execution_count": 63,
      "metadata": {
        "colab": {
          "base_uri": "https://localhost:8080/"
        },
        "id": "0wZWDNW-EwIc",
        "outputId": "81cb97a3-cdef-487b-b9e0-b5c5d035dd70"
      },
      "outputs": [
        {
          "name": "stdout",
          "output_type": "stream",
          "text": [
            "N1\n"
          ]
        }
      ],
      "source": [
        "roll_no_value = tuple1[-1][0][\"roll_no\"]\n",
        "print(roll_no_value)"
      ]
    },
    {
      "cell_type": "code",
      "execution_count": 64,
      "metadata": {
        "colab": {
          "base_uri": "https://localhost:8080/"
        },
        "id": "ljor1uNqEwFg",
        "outputId": "970b4314-71cd-409f-8367-8e3d29709804"
      },
      "outputs": [
        {
          "name": "stdout",
          "output_type": "stream",
          "text": [
            "ji\n"
          ]
        }
      ],
      "source": [
        "print(tuple1[-3][1])"
      ]
    },
    {
      "cell_type": "code",
      "execution_count": 65,
      "metadata": {
        "colab": {
          "base_uri": "https://localhost:8080/"
        },
        "id": "shEPx-qvEwCX",
        "outputId": "319e1cf0-1c1b-4595-b548-e447d8380298"
      },
      "outputs": [
        {
          "name": "stdout",
          "output_type": "stream",
          "text": [
            "22\n"
          ]
        }
      ],
      "source": [
        "element_22 = tuple1[-2][2]\n",
        "print(element_22)"
      ]
    },
    {
      "cell_type": "code",
      "execution_count": 69,
      "metadata": {},
      "outputs": [
        {
          "name": "stdout",
          "output_type": "stream",
          "text": [
            "Go\n"
          ]
        }
      ],
      "source": [
        "##Q 1.6\n",
        "def traffic_signal_message(color):\n",
        "    if color.lower() == \"red\":\n",
        "        return \"Stop\"\n",
        "    elif color.lower() == \"yellow\":\n",
        "        return \"Stay\"\n",
        "    elif color.lower() == \"green\":\n",
        "        return \"Go\"\n",
        "    else:\n",
        "        return \"Invalid color\"\n",
        "\n",
        "signal_color = input(\"Enter the color of the traffic signal (RED/YELLOW/GREEN): \")\n",
        "\n",
        "message = traffic_signal_message(signal_color)\n",
        "print(message)"
      ]
    },
    {
      "cell_type": "code",
      "execution_count": 70,
      "metadata": {
        "colab": {
          "base_uri": "https://localhost:8080/"
        },
        "id": "Y5szFjacFK2e",
        "outputId": "9cf681ca-38b7-4f0a-fe53-53b439a68dc6"
      },
      "outputs": [
        {
          "name": "stdout",
          "output_type": "stream",
          "text": [
            "Select operation:\n",
            "1. Add\n",
            "2. Subtract\n",
            "3. Multiply\n",
            "4. Divide\n",
            "Invalid Input\n",
            "Invalid Input\n",
            "5.0 + 5.0 = 10.0\n"
          ]
        }
      ],
      "source": [
        "##Q 1.7\n",
        "# Function to add two numbers\n",
        "def add(x, y):\n",
        "    return x + y\n",
        "\n",
        "# Function to subtract two numbers\n",
        "def subtract(x, y):\n",
        "    return x - y\n",
        "\n",
        "# Function to multiply two numbers\n",
        "def multiply(x, y):\n",
        "    return x * y\n",
        "\n",
        "# Function to divide two numbers\n",
        "def divide(x, y):\n",
        "    return x / y\n",
        "\n",
        "# Main program\n",
        "print(\"Select operation:\")\n",
        "print(\"1. Add\")\n",
        "print(\"2. Subtract\")\n",
        "print(\"3. Multiply\")\n",
        "print(\"4. Divide\")\n",
        "\n",
        "while True:\n",
        "\n",
        "    choice = input(\"Enter choice (1/2/3/4): \")\n",
        "\n",
        "\n",
        "    if choice in ('1', '2', '3', '4'):\n",
        "        num1 = float(input(\"Enter first number: \"))\n",
        "        num2 = float(input(\"Enter second number: \"))\n",
        "\n",
        "        if choice == '1':\n",
        "            print(f\"{num1} + {num2} = {add(num1, num2)}\")\n",
        "\n",
        "        elif choice == '2':\n",
        "            print(f\"{num1} - {num2} = {subtract(num1, num2)}\")\n",
        "\n",
        "        elif choice == '3':\n",
        "            print(f\"{num1} * {num2} = {multiply(num1, num2)}\")\n",
        "\n",
        "        elif choice == '4':\n",
        "            if num2 != 0:\n",
        "                print(f\"{num1} / {num2} = {divide(num1, num2)}\")\n",
        "            else:\n",
        "                print(\"Error! Division by zero.\")\n",
        "\n",
        "\n",
        "        next_calculation = input(\"Let's do another calculation? (yes/no): \")\n",
        "        if next_calculation.lower() != 'yes':\n",
        "            break\n",
        "    else:\n",
        "        print(\"Invalid Input\")\n"
      ]
    },
    {
      "cell_type": "code",
      "execution_count": 71,
      "metadata": {
        "colab": {
          "base_uri": "https://localhost:8080/"
        },
        "id": "4sCLULJTKESu",
        "outputId": "cbcf2f0c-e027-46d5-9452-898d38bdb463"
      },
      "outputs": [
        {
          "name": "stdout",
          "output_type": "stream",
          "text": [
            "The largest number among 10, 20, and 15 is 20.\n"
          ]
        }
      ],
      "source": [
        "##Q 1.8\n",
        "num1 = 10\n",
        "num2 = 20\n",
        "num3 = 15\n",
        "\n",
        "largest = num1 if (num1 >= num2 and num1 >= num3) else (num2 if num2 >= num3 else num3)\n",
        "\n",
        "print(f\"The largest number among {num1}, {num2}, and {num3} is {largest}.\")"
      ]
    },
    {
      "cell_type": "code",
      "execution_count": 74,
      "metadata": {
        "colab": {
          "base_uri": "https://localhost:8080/"
        },
        "id": "d_ZCQenyKEPm",
        "outputId": "bfee042f-e826-495d-a007-0663ed18c1fe"
      },
      "outputs": [
        {
          "name": "stdout",
          "output_type": "stream",
          "text": [
            "The factors of 8 are: 1 2 4 8 \n"
          ]
        }
      ],
      "source": [
        "##Q 1.9\n",
        "def find_factors(num):\n",
        "    i = 1\n",
        "    print(f\"The factors of {num} are:\", end=\" \")\n",
        "    while i <= num:\n",
        "        if num % i == 0:\n",
        "            print(i, end=\" \")\n",
        "        i += 1\n",
        "    print()\n",
        "\n",
        "number = int(input(\"Enter a whole number: \"))\n",
        "find_factors(number)"
      ]
    },
    {
      "cell_type": "code",
      "execution_count": 75,
      "metadata": {
        "colab": {
          "base_uri": "https://localhost:8080/"
        },
        "id": "sFurbnsHKEMm",
        "outputId": "a8ae6d37-dc86-4297-b45b-b7661a109491"
      },
      "outputs": [
        {
          "name": "stdout",
          "output_type": "stream",
          "text": [
            "The sum of all positive numbers entered is: 0\n"
          ]
        }
      ],
      "source": [
        "##Q 1.10\n",
        "total_sum = 0\n",
        "while True:\n",
        "    number = float(input(\"Enter a positive number (or a negative number to stop): \"))\n",
        "    if number < 0:\n",
        "        break\n",
        "    total_sum += number\n",
        "print(f\"The sum of all positive numbers entered is: {total_sum}\")"
      ]
    },
    {
      "cell_type": "code",
      "execution_count": 76,
      "metadata": {
        "colab": {
          "base_uri": "https://localhost:8080/"
        },
        "id": "MtSACgHhKEJw",
        "outputId": "667e6806-f1e6-4744-ad35-a77feae901a3"
      },
      "outputs": [
        {
          "name": "stdout",
          "output_type": "stream",
          "text": [
            "2 3 5 7 11 13 17 19 23 29 31 37 41 43 47 53 59 61 67 71 73 79 83 89 97 "
          ]
        }
      ],
      "source": [
        "##Q 1.11\n",
        "def is_prime(num):\n",
        "    if num < 2:\n",
        "        return False\n",
        "    for i in range(2, int(num**0.5) + 1):\n",
        "        if num % i == 0:\n",
        "            return False\n",
        "    return True\n",
        "for num in range(2, 101):\n",
        "    if is_prime(num):\n",
        "        print(num, end=\" \")"
      ]
    },
    {
      "cell_type": "code",
      "execution_count": 77,
      "metadata": {
        "colab": {
          "base_uri": "https://localhost:8080/"
        },
        "id": "o3u85aMrFKw_",
        "outputId": "91b2a503-8219-4be2-f1ad-f87934939771"
      },
      "outputs": [
        {
          "name": "stdout",
          "output_type": "stream",
          "text": [
            "\n",
            "Marks obtained in each subject:\n",
            "Math: 50.0\n",
            "Science: 58.0\n",
            "English: 50.0\n",
            "History: 45.0\n",
            "Geography: 40.0\n",
            "\n",
            "Total Marks: 243.0\n",
            "Percentage: 48.6%\n",
            "Grade: D\n"
          ]
        }
      ],
      "source": [
        "##Q 1.12\n",
        "marks = []\n",
        "subjects = [\"Math\", \"Science\", \"English\", \"History\", \"Geography\"]\n",
        "for subject in subjects:\n",
        "    mark = float(input(f\"Enter marks for {subject}: \"))\n",
        "    marks.append(mark)\n",
        "print(\"\\nMarks obtained in each subject:\")\n",
        "for subject, mark in zip(subjects, marks):\n",
        "    print(f\"{subject}: {mark}\")\n",
        "total_marks = sum(marks)\n",
        "percentage = total_marks / len(subjects)\n",
        "print(f\"\\nTotal Marks: {total_marks}\")\n",
        "print(f\"Percentage: {percentage}%\")\n",
        "def determine_grade(percentage):\n",
        "    match percentage:\n",
        "        case p if p > 85:\n",
        "            return \"A\"\n",
        "        case p if p < 85 and p >= 75:\n",
        "            return \"B\"\n",
        "        case p if p < 75 and p >= 50:\n",
        "            return \"C\"\n",
        "        case p if p < 50 and p >= 30:\n",
        "            return \"D\"\n",
        "        case p if p < 30:\n",
        "            return \"Reappear the Exam\"\n",
        "grade = determine_grade(percentage)\n",
        "print(f\"Grade: {grade}\")"
      ]
    },
    {
      "cell_type": "code",
      "execution_count": 78,
      "metadata": {
        "colab": {
          "base_uri": "https://localhost:8080/"
        },
        "id": "X1owE6OgSC65",
        "outputId": "3ee9ac3b-e998-4b5c-ef90-d81f38222fbd"
      },
      "outputs": [
        {
          "name": "stdout",
          "output_type": "stream",
          "text": [
            "The color corresponding to the wavelength 500.0 nm is Green.\n"
          ]
        }
      ],
      "source": [
        "##Q 1.13\n",
        "def get_color(wavelength):\n",
        "    if 400 <= wavelength < 440:\n",
        "        return \"Violet\"\n",
        "    elif 440 <= wavelength < 460:\n",
        "        return \"Indigo\"\n",
        "    elif 460 <= wavelength < 500:\n",
        "        return \"Blue\"\n",
        "    elif 500 <= wavelength < 570:\n",
        "        return \"Green\"\n",
        "    elif 570 <= wavelength < 590:\n",
        "        return \"Yellow\"\n",
        "    elif 590 <= wavelength < 620:\n",
        "        return \"Orange\"\n",
        "    elif 620 <= wavelength <= 720:\n",
        "        return \"Red\"\n",
        "    else:\n",
        "        return \"Wavelength out of visible range\"\n",
        "\n",
        "wavelength = float(input(\"Enter the wavelength in nanometers: \"))\n",
        "color = get_color(wavelength)\n",
        "print(f\"The color corresponding to the wavelength {wavelength} nm is {color}.\")"
      ]
    },
    {
      "cell_type": "code",
      "execution_count": 79,
      "metadata": {
        "colab": {
          "base_uri": "https://localhost:8080/"
        },
        "id": "EaktTqGPSC3R",
        "outputId": "d04b7f95-bb6f-4a5e-efa3-f4939b952494"
      },
      "outputs": [
        {
          "name": "stdout",
          "output_type": "stream",
          "text": [
            "Gravitational force between Earth and Sun: 3.5423960813684973e+22 N\n",
            "Gravitational force between Moon and Earth: 1.9820225456526813e+20 N\n",
            "The stronger gravitational force is between the Earth-Sun.\n"
          ]
        }
      ],
      "source": [
        "##Q 1.14\n",
        "mass_earth = 5.972e24  # Mass of Earth in kilograms\n",
        "mass_moon = 7.34767309e22  # Mass of Moon in kilograms\n",
        "mass_sun = 1.989e30  # Mass of Sun in kilograms\n",
        "distance_earth_sun = 1.496e11  # Average distance between Earth and Sun in meters\n",
        "distance_moon_earth = 3.844e8  # Average distance between Moon and Earth in meters\n",
        "G = 6.67430e-11  # Gravitational constant in m^3 kg^-1 s^-2\n",
        "F_earth_sun = G * mass_earth * mass_sun / distance_earth_sun**2\n",
        "print(f\"Gravitational force between Earth and Sun: {F_earth_sun} N\")\n",
        "F_moon_earth = G * mass_earth * mass_moon / distance_moon_earth**2\n",
        "print(f\"Gravitational force between Moon and Earth: {F_moon_earth} N\")\n",
        "if F_earth_sun > F_moon_earth:\n",
        "    stronger_force = \"Earth-Sun\"\n",
        "else:\n",
        "    stronger_force = \"Moon-Earth\"\n",
        "print(f\"The stronger gravitational force is between the {stronger_force}.\")"
      ]
    },
    {
      "cell_type": "markdown",
      "metadata": {
        "id": "coHkpyc6n8Hr"
      },
      "source": [
        "# **Qustion 2.**"
      ]
    },
    {
      "cell_type": "code",
      "execution_count": null,
      "metadata": {
        "id": "fOVBn8jSn0V-"
      },
      "outputs": [],
      "source": [
        "class Student:\n",
        "  def __init__(self,name,age,roll_number):\n",
        "    self.name=name\n",
        "    self.age=age\n",
        "    self.roll_number=roll_number\n",
        "\n",
        "  def get_name(self):\n",
        "    return self.name\n",
        "\n",
        "  def set_name(self,name):\n",
        "    self.name=name\n",
        "\n",
        "  def get_age(self):\n",
        "    return self.age\n",
        "  def set_age(self,age):\n",
        "    if age>0:\n",
        "      self.age=age\n",
        "    else:\n",
        "      print(\"Age must be possitive\")\n",
        "\n",
        "  def get_roll_number(self):\n",
        "    return self.roll_number\n",
        "\n",
        "  def set_roll_number(self,roll_number):\n",
        "    self.roll_number=roll_number\n",
        "\n",
        "  def display_info(self):\n",
        "    print(\"Name:\",self.name)\n",
        "    print(\"Age:\",self.age)\n",
        "    print(\"Roll Number:\",self.roll_number)\n",
        "\n",
        "  def update_details(self):\n",
        "    new_name=input(\"Enter new name\")\n",
        "    if new_name:\n",
        "      self.set_name(new_name)\n",
        "\n",
        "    new_age=input(\"Enter new age\")\n",
        "    if new_age:\n",
        "      self.set_age(int(new_age))\n",
        "\n",
        "    new_roll_number=input(\"Enter new roll number\")\n",
        "    if new_roll_number:\n",
        "      self.set_roll_number(int(new_roll_number))"
      ]
    },
    {
      "cell_type": "code",
      "execution_count": null,
      "metadata": {
        "colab": {
          "base_uri": "https://localhost:8080/"
        },
        "id": "4vfWiQinIzyN",
        "outputId": "e553cbf6-15b7-4e53-f399-932f78dc2979"
      },
      "outputs": [
        {
          "name": "stdout",
          "output_type": "stream",
          "text": [
            "Enter new nameJoy\n",
            "Enter new age15\n",
            "Enter new roll number1234\n",
            "Name: Joy\n",
            "Age: 15\n",
            "Roll Number: 1234\n"
          ]
        }
      ],
      "source": [
        "student1=Student(\"Akash\",20,1234)\n",
        "student1.update_details()\n",
        "student1.display_info()"
      ]
    },
    {
      "cell_type": "markdown",
      "metadata": {
        "id": "X84kXTqNNNzd"
      },
      "source": [
        "Question 3:"
      ]
    },
    {
      "cell_type": "code",
      "execution_count": null,
      "metadata": {
        "colab": {
          "base_uri": "https://localhost:8080/"
        },
        "id": "ctG6kQqmI07d",
        "outputId": "8c72c666-3cbd-447f-e31d-3c68e8080460"
      },
      "outputs": [
        {
          "name": "stdout",
          "output_type": "stream",
          "text": [
            "ABC by ANB BN has been borrowed\n",
            "ABC by ANB BN has been returned\n"
          ]
        }
      ],
      "source": [
        "class LibraryBook:\n",
        "  def __init__(self,book_name,author):\n",
        "    self.book_name=book_name\n",
        "    self.author=author\n",
        "    self.availability_status=True\n",
        "  def get_book_name(self):\n",
        "    return self.book_name\n",
        "  def get_author(self):\n",
        "    return self.author\n",
        "\n",
        "  def get_availability_status(self):\n",
        "    return self.availability_status\n",
        "  def borrow_book(self):\n",
        "    if self.availability_status:\n",
        "      self.availability_status=False\n",
        "      print(f\"{self.book_name} by {self.author} has been borrowed\")\n",
        "    else:\n",
        "      print(f\"{self.book_name} is currently unavaiable\")\n",
        "\n",
        "  def return_book(self):\n",
        "    if not self.availability_status:\n",
        "      self.availability_status=True\n",
        "      print(f\"{self.book_name} by {self.author} has been returned\")\n",
        "    else:\n",
        "      print(f\"{self.book_name} is already vailable\")\n",
        "book1=LibraryBook(\"ABC\", \"ANB BN\")\n",
        "book1.borrow_book()\n",
        "book1.return_book()"
      ]
    },
    {
      "cell_type": "markdown",
      "metadata": {
        "id": "BmtF3YqBmZVX"
      },
      "source": [
        "Question 4:"
      ]
    },
    {
      "cell_type": "code",
      "execution_count": null,
      "metadata": {
        "colab": {
          "base_uri": "https://localhost:8080/"
        },
        "id": "rGQ0f18EI04c",
        "outputId": "b4e6bbe7-212a-48b3-b163-a17cbaea23ab"
      },
      "outputs": [
        {
          "name": "stdout",
          "output_type": "stream",
          "text": [
            "Deposit 1000. New balance:2000\n",
            "Interest Earned: 100.0\n",
            "Current balance: 2100.0\n"
          ]
        }
      ],
      "source": [
        "class BankAccount:\n",
        "  def __init__(self,account_number,balance):\n",
        "    self.account_number=account_number\n",
        "    self.balance=balance\n",
        "  def deposit(self,amount):\n",
        "    if amount >0:\n",
        "      self.balance+=amount\n",
        "      print(f\"Deposit {amount}. New balance:{self.balance}\")\n",
        "    else:\n",
        "      print(\"Invalid deposite amount\")\n",
        "\n",
        "  def withdraw(self,amount):\n",
        "    if 0<amount<=self.balance:\n",
        "      self.balance -=amount\n",
        "      print(f\"Withdraw {amount}. New balance:{self.balance}\")\n",
        "    else:\n",
        "      print(\"Insufficient funds or invalid withdraw amount\")\n",
        "\n",
        "  def check_balance(self):\n",
        "    print(f\"Current balance: {self.balance}\")\n",
        "class SavingAccount(BankAccount):\n",
        "  def __init__(self,account_number,balance,interest_rate):\n",
        "    super().__init__(account_number,balance)\n",
        "    self.interest_rate=interest_rate\n",
        "\n",
        "  def claculate_interest(self):\n",
        "    interest=self.balance*self.interest_rate\n",
        "    self.balance+=interest\n",
        "    print(f\"Interest Earned: {interest}\")\n",
        "class CheckingAccount(BankAccount):\n",
        "  def __init__(self,account_number,balance,minimum_balance):\n",
        "    super().__init__(account_number,balance)\n",
        "    self.minimum_balance=minimum_balance\n",
        "  def withdraw(self, amount):\n",
        "    if self.balance-amount >=self.minimum_balance:\n",
        "      super().withdraw(amount)\n",
        "    else:\n",
        "      print(\"Insufficient funds to maintain minimum balance.\")\n",
        "\n",
        "savings_account=SavingAccount(123456,1000,0.05)\n",
        "savings_account.deposit(1000)\n",
        "savings_account.claculate_interest()\n",
        "savings_account.check_balance()"
      ]
    },
    {
      "cell_type": "markdown",
      "metadata": {
        "id": "C2FIW5t_ZgsK"
      },
      "source": [
        "**Question 5:**"
      ]
    },
    {
      "cell_type": "code",
      "execution_count": null,
      "metadata": {
        "colab": {
          "base_uri": "https://localhost:8080/"
        },
        "id": "sqo-VWv7I01s",
        "outputId": "a8572bcb-833f-4364-c8b6-4b86a5fb499a"
      },
      "outputs": [
        {
          "name": "stdout",
          "output_type": "stream",
          "text": [
            "DON barks: Woof!\n",
            "MAO meows: Meow!\n"
          ]
        }
      ],
      "source": [
        "class Animal:\n",
        "  def __init__ (self,name):\n",
        "    self.name=name\n",
        "\n",
        "  def make_sound(self):\n",
        "    print(f\"{self.name} makes a generic animal sound.\")\n",
        "\n",
        "class Dog(Animal):\n",
        "  def make_sound(self):\n",
        "    print(f\"{self.name} barks: Woof!\")\n",
        "class Cat(Animal):\n",
        "  def make_sound(self):\n",
        "    print(f\"{self.name} meows: Meow!\")\n",
        "\n",
        "dog=Dog(\"DON\")\n",
        "cat=Cat(\"MAO\")\n",
        "dog.make_sound()\n",
        "cat.make_sound()\n"
      ]
    },
    {
      "cell_type": "markdown",
      "metadata": {
        "id": "76PqSP_FdPOK"
      },
      "source": [
        "**Question 6:**"
      ]
    },
    {
      "cell_type": "code",
      "execution_count": null,
      "metadata": {
        "colab": {
          "base_uri": "https://localhost:8080/"
        },
        "id": "u3qmLRN1I0wt",
        "outputId": "da69c85c-26f9-45f3-9c28-845899ce63a7"
      },
      "outputs": [
        {
          "name": "stdout",
          "output_type": "stream",
          "text": [
            "Name: Pizza, Description: Delicious pizza, Price12.99, Category:Main Course\n",
            "Name: Coke, Description: Refreshing drink, Price2.99, Category:Beverages\n"
          ]
        }
      ],
      "source": [
        "class MenuItem:\n",
        "  def __init__(self,name,description,price,category,item_id):\n",
        "    self.name=name\n",
        "    self.description=description\n",
        "    self.price=price\n",
        "    self.category=category\n",
        "    self.__item_id=item_id\n",
        "\n",
        "  def __str__(self):\n",
        "    return f\"Name: {self.name}, Description: {self.description}, Price{self.price}, Category:{self.category}\"\n",
        "\n",
        "class FoodItem(MenuItem):\n",
        "  def __init__ (self,name,description,price,category,item_id, is_vegetarian):\n",
        "    super().__init__(name,description,price,category,item_id)\n",
        "    self.is_vegetarian=is_vegetarian\n",
        "class BeverageItem(MenuItem):\n",
        "  def __init__(self,name,description,price,category,item_id,size):\n",
        "    super().__init__(name,description,price,category,item_id)\n",
        "    self.size=size\n",
        "class RestaurantMenu:\n",
        "  def __init__(self):\n",
        "    self.menu_item=[]\n",
        "    self.item_id_counter=1\n",
        "  def add_menu_item(self,menu_item):\n",
        "    menu_item.__item_id=self.item_id_counter\n",
        "    self.item_id_counter+=1\n",
        "    self.menu_item.append(menu_item)\n",
        "\n",
        "  def update_menu_item(self,item_id,new_item_id):\n",
        "    for item in self.menu_item:\n",
        "      if item.__item_id==item_id:\n",
        "        item.name = new_item_data['name'] if 'name' in new_item_data else item.name\n",
        "        item.description = new_item_data['description'] if 'description' in new_item_data else item.description\n",
        "        item.price = new_item_data['price'] if 'price' in new_item_data else item.price\n",
        "        item.category = new_item_data['category'] if 'category' in new_item_data else item.category\n",
        "        break\n",
        "  def remove_menu_item(self, item_id):\n",
        "    self.menu_items = [item for item in self.menu_items if item.__item_id != item_id]\n",
        "\n",
        "  def print_menu(self):\n",
        "    for item in self.menu_item:\n",
        "      print(item)\n",
        "\n",
        "menu = RestaurantMenu()\n",
        "menu.add_menu_item(FoodItem(\"Pizza\", \"Delicious pizza\", 12.99, \"Main Course\", 0, True))\n",
        "menu.add_menu_item(BeverageItem(\"Coke\", \"Refreshing drink\", 2.99, \"Beverages\", 0, \"Small\"))\n",
        "menu.print_menu()\n",
        "\n"
      ]
    },
    {
      "cell_type": "markdown",
      "metadata": {
        "id": "bDzITE6jHzj-"
      },
      "source": [
        "**Question 7:**"
      ]
    },
    {
      "cell_type": "code",
      "execution_count": null,
      "metadata": {
        "colab": {
          "base_uri": "https://localhost:8080/"
        },
        "id": "Y0nbDZ55I0uT",
        "outputId": "27d5f554-07dd-42cf-a573-fdf62e157080"
      },
      "outputs": [
        {
          "name": "stdout",
          "output_type": "stream",
          "text": [
            "Room 102 booked sucessfully.\n",
            "Guest Arpan Dey checked in to room 102.\n",
            "Guest checked out from room 102.\n"
          ]
        }
      ],
      "source": [
        "class Room:\n",
        "  def __init__(self,room_number,room_type,rate):\n",
        "    self.__room_number=room_number\n",
        "    self.__room_type=room_type\n",
        "    self.__rate=rate\n",
        "    self.__is_available=True\n",
        "\n",
        "  def get_room_number(self):\n",
        "    return self.__room_number\n",
        "\n",
        "  def get_room_type(self):\n",
        "    return self.__room_type\n",
        "  def get_rate(self):\n",
        "    return self.__rate\n",
        "\n",
        "  def is_available(self):\n",
        "    return self.__is_available\n",
        "  def book_room(self):\n",
        "    if self.__is_available:\n",
        "      self.__is_available=False\n",
        "      print(f\"Room {self.__room_number} booked sucessfully.\")\n",
        "    else:\n",
        "      print(f\"Room {self.__room_number} is already booked.\")\n",
        "  def check_in_guest(self,guest_name):\n",
        "    if not self.__is_available:\n",
        "      print(f\"Guest {guest_name} checked in to room {self.__room_number}.\")\n",
        "    else:\n",
        "      print(f\"Room {self.__room_number} is alerady vacant.\")\n",
        "\n",
        "  def check_out_guest(self):\n",
        "    if not self.__is_available:\n",
        "      self.__is_available=True\n",
        "      print(f\"Guest checked out from room {self.__room_number}.\")\n",
        "    else:\n",
        "      print(f\"Room {self.__room_number} is alerady vacant.\")\n",
        "room1=Room(102,\"Delux\",100)\n",
        "room1.book_room()\n",
        "room1.check_in_guest(\"Arpan Dey\")\n",
        "room1.check_out_guest()"
      ]
    },
    {
      "cell_type": "markdown",
      "metadata": {
        "id": "tKoo7KrwRHO8"
      },
      "source": [
        "**Question 8:**"
      ]
    },
    {
      "cell_type": "code",
      "execution_count": null,
      "metadata": {
        "colab": {
          "base_uri": "https://localhost:8080/"
        },
        "id": "tkueauchI0pc",
        "outputId": "171783d3-54d4-447d-d2f1-d60a3cdf749c"
      },
      "outputs": [
        {
          "name": "stdout",
          "output_type": "stream",
          "text": [
            "Name: Arun Dev, Age: 35, Membership Type: Silver, Membership Status: active\n"
          ]
        }
      ],
      "source": [
        "class Member:\n",
        "    def __init__(self, name, age, membership_type):\n",
        "        self.__name = name\n",
        "        self.__age = age\n",
        "        self.__membership_type = membership_type\n",
        "        self.__membership_status = \"active\"\n",
        "\n",
        "    def get_name(self):\n",
        "        return self.__name\n",
        "\n",
        "    def get_age(self):\n",
        "        return self.__age\n",
        "\n",
        "    def get_membership_type(self):\n",
        "        return self.__membership_type\n",
        "\n",
        "    def get_membership_status(self):\n",
        "        return self.__membership_status\n",
        "\n",
        "    def register_member(self):\n",
        "        self.__membership_status = \"active\"\n",
        "\n",
        "    def renew_membership(self):\n",
        "        if self.get_membership_status() == \"expired\":\n",
        "            self.__membership_status = \"active\"\n",
        "        else:\n",
        "            print(f\"{self.__name}'s membership is already active.\")\n",
        "\n",
        "    def display_info(self):\n",
        "        print(f\"Name: {self.__name}, Age: {self.__age}, Membership Type: {self.__membership_type}, Membership Status: {self.__membership_status}\")\n",
        "\n",
        "    def cancel_membership(self):\n",
        "        self.__membership_status = \"inactive\"\n",
        "\n",
        "\n",
        "class FamilyMember(Member):\n",
        "    def __init__(self, name, age, membership_type, family_member):\n",
        "        super().__init__(name, age, membership_type)\n",
        "        self.family_member = family_member\n",
        "\n",
        "\n",
        "class IndividualMember(Member):\n",
        "    def __init__(self, name, age, membership_type, occupation):\n",
        "        super().__init__(name, age, membership_type)\n",
        "        self.occupation = occupation\n",
        "\n",
        "\n",
        "member1 = IndividualMember(\"Arun Dev\", 35, \"Silver\", \"Pilot\")\n",
        "member1.register_member()\n",
        "member1.display_info()\n",
        "member1.cancel_membership()\n"
      ]
    },
    {
      "cell_type": "markdown",
      "metadata": {
        "id": "pyyu2dvKsAZg"
      },
      "source": [
        "# **Question 9:**"
      ]
    },
    {
      "cell_type": "code",
      "execution_count": null,
      "metadata": {
        "colab": {
          "base_uri": "https://localhost:8080/"
        },
        "id": "yq5LVQ-PI0mU",
        "outputId": "d712d9b6-9701-40b8-be63-cd83ae4ba4f3"
      },
      "outputs": [
        {
          "name": "stdout",
          "output_type": "stream",
          "text": [
            "2\n"
          ]
        }
      ],
      "source": [
        "class Event:\n",
        "  def __init__(self,name,date,time,location):\n",
        "    self.name=name\n",
        "    self.date=date\n",
        "    self.time=time\n",
        "    self.location=location\n",
        "    self.attendees=[]\n",
        "  def get_event_id(self):\n",
        "    return self.__event_id\n",
        "  def add_attendee(self,attendee):\n",
        "    self.attendees.append(attendee)\n",
        "  def remove_attendee(self,attendee):\n",
        "    self.attendees.remove(attemdee)\n",
        "  def get_attendee_count(self):\n",
        "    return len(self.attendees)\n",
        "class PrivateEvent(Event):\n",
        "  def __init__(self,name,date,time,location,invited_guests):\n",
        "    super().__init__(name,date,time,location)\n",
        "    self.invited_guests=invited_guests\n",
        "class PublicEvent(Event):\n",
        "  def __init__(self,name,date,time,location,venue_capacity):\n",
        "    super().__init__(name,date,time,location)\n",
        "    self.venue_capacity=venue_capacity\n",
        "event1=PublicEvent(\"Tech Conference\",\"2024-08-08\",\"10:00\",\"Convention Center\", 300)\n",
        "event1.add_attendee(\"Mayur\")\n",
        "event1.add_attendee(\"Suresh\")\n",
        "print(event1.get_attendee_count())"
      ]
    },
    {
      "cell_type": "markdown",
      "metadata": {
        "id": "Ap4-122J5fiV"
      },
      "source": [
        "# **Question 10:**"
      ]
    },
    {
      "cell_type": "code",
      "execution_count": null,
      "metadata": {
        "colab": {
          "base_uri": "https://localhost:8080/"
        },
        "id": "mnDspbWwI0Yl",
        "outputId": "49a8e009-9d97-4a70-dd5c-1faf0b0a0059"
      },
      "outputs": [
        {
          "name": "stdout",
          "output_type": "stream",
          "text": [
            "Seat booked sucessfully for flight IG123\n",
            "249\n"
          ]
        }
      ],
      "source": [
        "class Flight:\n",
        "  def __init__(self,flight_number,departure_airport,arrival_airport,departure_time,arrival_time,total_seats):\n",
        "    self.flight_number=flight_number\n",
        "    self.departure_airport=departure_airport\n",
        "    self.arrival_airport=arrival_airport\n",
        "    self.departure_time=departure_time\n",
        "    self.arrival_time=arrival_time\n",
        "    self.__available_seats=total_seats\n",
        "  def get_flight_number(self):\n",
        "    return self.flight_number\n",
        "  def get_available_seats(self):\n",
        "    return self.__available_seats\n",
        "  def book_seat(self):\n",
        "    if self.__available_seats>0:\n",
        "      self.__available_seats-=1\n",
        "      print(f\"Seat booked sucessfully for flight {self.flight_number}\")\n",
        "    else:\n",
        "      print(f\"No available seats for flight {self.flight_number}\")\n",
        "\n",
        "  def cancel_seat(self):\n",
        "    if self.__available_seats<self.__total_seats:\n",
        "      self.__avaailable_seats+=1\n",
        "      print(f\"Seats canceled for flight {self.flight_number}\")\n",
        "    else:\n",
        "      print(f\"All seats are already available for flight {self.flight_number}\")\n",
        "class DomesticFlight(Flight):\n",
        "  def __init__(self,flight_number,departure_airport,arrival_airport,departure_time,arrival_time,total_seats,domestic_fee):\n",
        "    super().__init__(flight_number,departure_airport,arrival_airport,departure_time,arrival_time,total_seats)\n",
        "    self.domestic_fee=domestic_fee\n",
        "class InternationalFlight(Flight):\n",
        "  def __init__(self,flight_number,departure_airport,arrival_airport,departure_time,arrival_time,total_seats,international_fee):\n",
        "    super().__init__(flight_number,departure_airport,arrival_airport,departure_time,arrival_time,total_seats)\n",
        "    self.international_fee=international_fee\n",
        "flight1=DomesticFlight(\"IG123\",\"Bagdogra\",\"Mumbai\",\"10:00\",\"11:30\",250,6000)\n",
        "flight1.book_seat()\n",
        "print(flight1.get_available_seats())"
      ]
    },
    {
      "cell_type": "markdown",
      "metadata": {
        "id": "xRC0lerRZiTt"
      },
      "source": [
        "**Question 12:**"
      ]
    },
    {
      "cell_type": "code",
      "execution_count": null,
      "metadata": {
        "colab": {
          "base_uri": "https://localhost:8080/"
        },
        "id": "_GjVevMtd1xP",
        "outputId": "8c06eb1a-2305-4e5e-983c-e334f33b197c"
      },
      "outputs": [
        {
          "name": "stdout",
          "output_type": "stream",
          "text": [
            "Addition: 15\n",
            "Subtraction: 5\n",
            "Multiplication: 50\n",
            "Division: 2.0\n"
          ]
        }
      ],
      "source": [
        "def add(x, y):\n",
        "  return x + y\n",
        "\n",
        "def subtract(x, y):\n",
        "  return x - y\n",
        "\n",
        "def multiply(x, y):\n",
        "  return x * y\n",
        "\n",
        "def divide(x, y):\n",
        "  if y == 0:\n",
        "    return \"Division by zero error\"\n",
        "  else:\n",
        "    return x / y\n",
        "x=10\n",
        "y=5\n",
        "result_add =add(x,y)\n",
        "result_subtract =subtract(x,y)\n",
        "result_multiply =multiply(x,y)\n",
        "result_divide =divide(x,y)\n",
        "print(\"Addition:\",result_add)\n",
        "print(\"Subtraction:\",result_subtract)\n",
        "print(\"Multiplication:\",result_multiply)\n",
        "print(\"Division:\",result_divide)"
      ]
    },
    {
      "cell_type": "markdown",
      "metadata": {
        "id": "fl8qoWgqhiSY"
      },
      "source": [
        "# **Question 13:**"
      ]
    },
    {
      "cell_type": "code",
      "execution_count": null,
      "metadata": {
        "id": "I6SM2y3RgWv1"
      },
      "outputs": [],
      "source": [
        "class Product:\n",
        "    def __init__(self, product_id, name, price, description):\n",
        "        self.product_id = product_id\n",
        "        self.name = name\n",
        "        self.price = price\n",
        "        self.description = description\n",
        "class ProductCategory:\n",
        "  def __init__(self, category_id, name):\n",
        "    self.category_id = category_id\n",
        "    self.name = name\n",
        "class Order:\n",
        "  def __init__(self, order_id, customer_id, order_date):\n",
        "    self.order_id = order_id\n",
        "    self.customer_id = customer_id\n",
        "    self.order_date = order_date\n",
        "    self.order_items = []\n",
        "  def add_order_item(self, order_item):\n",
        "    self.order_items.append(order_item)\n",
        "class OrderItem:\n",
        "    def __init__(self, product, quantity):\n",
        "        self.product = product\n",
        "        self.quantity = quantity\n"
      ]
    },
    {
      "cell_type": "markdown",
      "metadata": {
        "id": "ET8JqDcFU_lP"
      },
      "source": [
        "# **Question 15:**"
      ]
    },
    {
      "cell_type": "code",
      "execution_count": null,
      "metadata": {
        "id": "mZ0-3vsncSZz"
      },
      "outputs": [],
      "source": [
        "import os\n",
        "\n",
        "def read_file(file_path):\n",
        "  try:\n",
        "    with open(file_path, 'r') as file:\n",
        "      data = file.read()\n",
        "      return data\n",
        "  except FileNotFoundError:\n",
        "    print(f\"File '{file_path}' not found.\")\n",
        "    return None\n",
        "\n",
        "def write_to_file(file_path, data):\n",
        "\n",
        "  try:\n",
        "    with open(file_path, 'w') as file:\n",
        "      file.write(data)\n",
        "  except FileNotFoundError:\n",
        "    print(f\"Error writing to file '{file_path}'.\")\n",
        "\n",
        "def append_to_file(file_path, data):\n",
        "\n",
        "  try:\n",
        "    with open(file_path, 'a') as file:\n",
        "      file.write(data)\n",
        "  except FileNotFoundError:\n",
        "    print(f\"Error appending to file '{file_path}'.\")\n"
      ]
    },
    {
      "cell_type": "markdown",
      "metadata": {
        "id": "RN8foZELheEy"
      },
      "source": [
        "# **Question 16:**"
      ]
    },
    {
      "cell_type": "code",
      "execution_count": null,
      "metadata": {
        "colab": {
          "base_uri": "https://localhost:8080/"
        },
        "id": "JsQvCFaqhiZ3",
        "outputId": "4cc93302-dfd9-4ca8-b402-f3e0e121fae4"
      },
      "outputs": [
        {
          "name": "stdout",
          "output_type": "stream",
          "text": [
            "Employee details have been written to 'employees.txt'.\n"
          ]
        }
      ],
      "source": [
        "# Sample employee data\n",
        "employees = [\n",
        "    {\"name\": \"Arav Mac\", \"age\": 30, \"salary\": 50000},\n",
        "    {\"name\": \"Arun Win\", \"age\": 25, \"salary\": 60000},\n",
        "    {\"name\": \"Ayan Real\", \"age\": 40, \"salary\": 75000}\n",
        "]\n",
        "\n",
        "\n",
        "with open(\"employees.txt\", \"w\") as file:\n",
        "\n",
        "    file.write(\"Name\\t\\tAge\\tSalary\\n\")\n",
        "    file.write(\"-\" * 30 + \"\\n\")\n",
        "\n",
        "\n",
        "    for employee in employees:\n",
        "        file.write(f\"{employee['name']}\\t{employee['age']}\\t{employee['salary']}\\n\")\n",
        "\n",
        "print(\"Employee details have been written to 'employees.txt'.\")\n"
      ]
    },
    {
      "cell_type": "markdown",
      "metadata": {
        "id": "Y6CcvRi8ks5N"
      },
      "source": [
        "# **Question 20:**"
      ]
    },
    {
      "cell_type": "markdown",
      "metadata": {
        "id": "fnIozUE9lN7d"
      },
      "source": [
        "# **Measures of Central Tendency**\n",
        "These statistics provide a single value that represents the center of a dataset.\n",
        "1. Mean:\n",
        "The average of all values in a dataset.\n",
        "Calculated by summing all values and dividing by the number of values.\n",
        "Sensitive to outliers.\n",
        "2. Median:\n",
        "The middle value of a dataset when sorted in ascending order.\n",
        "Less affected by outliers than the mean.\n",
        "For even number of values, the median is the average of the two middle values.\n",
        "3. Mode:\n",
        "The most frequent value in a dataset.\n",
        "A dataset can have one mode (unimodal), multiple modes (multimodal), or no mode.\n",
        "# **Measures of Dispersion**\n",
        "These statistics describe how spread out the data is in a dataset.\n",
        "1. Range:\n",
        "The difference between the largest and smallest values in a dataset.\n",
        "Simple to calculate but sensitive to outliers.\n",
        "2. Variance:\n",
        "The average of the squared differences from the mean.\n",
        "Measures how far individual data points are from the mean.\n",
        "3. Standard Deviation:\n",
        "The square root of the variance.\n",
        "Provides a measure of dispersion in the same units as the original data.\n",
        "Calculation Examples\n",
        "Given dataset: [2, 4, 5, 7, 8]\n",
        "Mean: (2 + 4 + 5 + 7 + 8) / 5 = 5.2\n",
        "Median: The middle value is 5.\n",
        "Mode: No mode as all values appear once.\n",
        "Range: 8 - 2 = 6\n",
        "\n",
        "\n",
        "\n"
      ]
    },
    {
      "cell_type": "markdown",
      "metadata": {
        "id": "HosF4C4bn3_7"
      },
      "source": [
        "# **Question 21:**"
      ]
    },
    {
      "cell_type": "markdown",
      "metadata": {
        "id": "NKk_reSZqACy"
      },
      "source": [
        "Skewness is a statistical measure that describes the asymmetry of a probability distribution. It indicates whether the tail of a distribution is longer on the left or right side.\n",
        "\n",
        "# **Types of Skewness**\n",
        "**1. Positive Skewness (Right-Skewed):**\n",
        "The tail on the right side of the distribution is longer.\n",
        "\n",
        "Mean > Median > Mode\n",
        "\n",
        "Example: Income distribution in many countries\n",
        "\n",
        "**2. Negative Skewness (Left-Skewed):**\n",
        "The tail on the left side of the distribution is longer.\n",
        "\n",
        "Mean < Median < Mode\n",
        "\n",
        "Example: Exam scores where most students perform well\n",
        "\n",
        "**3.Zero Skewness (Symmetrical):**\n",
        "\n",
        "The distribution is symmetrical around the mean.\n",
        "\n",
        "Mean = Median = Mode\n",
        "\n",
        "Example: Normal distribution\n",
        "Graphical Representation\n",
        "\n",
        "\n"
      ]
    },
    {
      "cell_type": "markdown",
      "metadata": {
        "id": "OuNkj9uq_fKa"
      },
      "source": [
        "# **Question 22:**"
      ]
    },
    {
      "cell_type": "markdown",
      "metadata": {
        "id": "6bZUxBPcAbxW"
      },
      "source": [
        "# **Probability Mass Function (PMF)**\n",
        "Definition: A PMF is used to describe the probability distribution of a discrete random variable. It assigns a probability to each possible value that the random variable can take.\n",
        "\n",
        "Characteristics:\n",
        "\n",
        "a.The sum of all probabilities in the PMF must equal 1.\n",
        "\n",
        "b.The probability of any specific value is non-negative.\n",
        "\n",
        "Example: Consider a fair coin toss. The random variable X can take two values: heads (0) or tails (1). The PMF would assign a probability of 0.5 to each outcome.\n",
        "\n",
        "# **Probability Density Function (PDF)**\n",
        "Definition: A PDF is used to describe the probability distribution of a continuous random variable. It represents the probability density at a particular value.\n",
        "\n",
        "Characteristics:\n",
        "\n",
        "a.The total area under the PDF curve must equal 1.\n",
        "\n",
        "b.The probability of a specific value for a continuous random variable is always 0. Instead, we calculate the probability of the variable falling within a range of values.\n",
        "\n",
        "Example: The normal distribution is a common example of a continuous probability distribution.\n",
        "\n",
        "\n",
        "\n",
        "\n"
      ]
    },
    {
      "cell_type": "markdown",
      "metadata": {
        "id": "GpEycUrcCR1K"
      },
      "source": [
        "# **Question 23:**"
      ]
    },
    {
      "cell_type": "markdown",
      "metadata": {
        "id": "BeLRHIJ6CwM6"
      },
      "source": [
        "Correlation is a statistical measure that indicates the extent to which two variables fluctuate together. It measures the strength and direction of the relationship between two variables.\n",
        "\n",
        "# **Types of Correlation**\n",
        "\n",
        "1. Positive Correlation: As one variable increases, the other variable also increases. Example: Height and weight.\n",
        "\n",
        "2. Negative Correlation: As one variable increases, the other variable decreases. Example: Temperature and ice cream sales.\n",
        "\n",
        "3. No Correlation: There is no relationship between the two variables.\n",
        "\n",
        "# **Measuring Correlation**\n",
        "\n",
        "The most common measure of correlation is the Pearson correlation coefficient, denoted by 'r'. It ranges from -1 to +1:\n",
        "\n",
        "1. r = +1: Perfect positive correlation\n",
        "\n",
        "2. r = -1: Perfect negative correlation\n",
        "\n",
        "3. r = 0: No correlation\n",
        "\n",
        "# **Methods of Determining Correlation**\n",
        "\n",
        "1. Scatter Plot: A visual representation of the relationship between two variables.\n",
        "\n",
        "2. Correlation Coefficient: A numerical measure of the strength and direction of the linear relationship.\n",
        "\n",
        "3. Correlation Analysis: Statistical tests to determine the significance of the\n",
        "correlation.\n"
      ]
    },
    {
      "cell_type": "markdown",
      "metadata": {
        "id": "trac8HBFEUDo"
      },
      "source": [
        "# **Question 24:**"
      ]
    },
    {
      "cell_type": "code",
      "execution_count": null,
      "metadata": {
        "colab": {
          "base_uri": "https://localhost:8080/"
        },
        "id": "a-pXSylfi9S7",
        "outputId": "d9ae4176-4d7b-4f6a-dd5c-9a6f27e9a3b8"
      },
      "outputs": [
        {
          "name": "stdout",
          "output_type": "stream",
          "text": [
            "Correlation coefficient: 0.9031178882610624\n"
          ]
        }
      ],
      "source": [
        "import math\n",
        "\n",
        "def calculate_correlation_coefficient(x, y):\n",
        "  n = len(x)\n",
        "  sum_x = sum(x)\n",
        "  sum_y = sum(y)\n",
        "  sum_xy = sum(x_i * y_i for x_i, y_i in zip(x, y))\n",
        "  sum_x_sq = sum(x_i**2 for x_i in x)\n",
        "  sum_y_sq = sum(y_i**2 for y_i in y)\n",
        "\n",
        "  numerator = n * sum_xy - sum_x * sum_y\n",
        "  denominator = math.sqrt((n * sum_x_sq - sum_x**2) * (n * sum_y_sq - sum_y**2))\n",
        "\n",
        "  correlation_coefficient = numerator / denominator\n",
        "  return correlation_coefficient\n",
        "\n",
        "# Data from the image\n",
        "accountancy_marks = [45, 70, 65, 30, 90, 40, 50, 75, 85, 60]\n",
        "statistics_marks = [35, 90, 70, 40, 95, 40, 60, 80, 80, 50]\n",
        "\n",
        "correlation = calculate_correlation_coefficient(accountancy_marks, statistics_marks)\n",
        "print(\"Correlation coefficient:\", correlation)\n",
        "\n"
      ]
    },
    {
      "cell_type": "markdown",
      "metadata": {
        "id": "jNyqn2SVGNyI"
      },
      "source": [
        "# **Question 25:**"
      ]
    },
    {
      "cell_type": "markdown",
      "metadata": {
        "id": "A_jzcnsaHwXI"
      },
      "source": [
        "\n",
        "# **Correlation**\n",
        "measures the strength and direction of the relationship between two variables. It doesn't imply causation.\n",
        "# **Regression**\n",
        " models the relationship between variables and allows for predictions. It involves dependent and independent variables."
      ]
    },
    {
      "cell_type": "markdown",
      "metadata": {
        "id": "zpt6rhNcINIY"
      },
      "source": [
        "# **Question 27:**"
      ]
    },
    {
      "cell_type": "code",
      "execution_count": null,
      "metadata": {
        "colab": {
          "base_uri": "https://localhost:8080/"
        },
        "id": "y6QuQ8UMV8p4",
        "outputId": "aee75008-2e39-40db-915a-042264e81e8e"
      },
      "outputs": [
        {
          "name": "stdout",
          "output_type": "stream",
          "text": [
            "Mean of X: 5.35\n",
            "Mean of Y: 6.6\n",
            "Correlation coefficient: 1.3333333333333335\n",
            "Standard deviation of Y: 1.8\n"
          ]
        }
      ],
      "source": [
        "import math\n",
        "import re\n",
        "\n",
        "def calculate_stats(variance_x, regression_eq1, regression_eq2):\n",
        "    def extract_coefficients(eq):\n",
        "        # Remove spaces and handle the sign in front of the terms\n",
        "        eq = eq.replace(\" \", \"\")\n",
        "        pattern = r'([+-]?\\d*)x([+-]\\d*)y=([+-]?\\d*)'\n",
        "        match = re.match(pattern, eq)\n",
        "        if match:\n",
        "            a = int(match.group(1)) if match.group(1) not in [\"\", \"+\", \"-\"] else int(match.group(1) + \"1\")\n",
        "            b = int(match.group(2)) if match.group(2) not in [\"\", \"+\", \"-\"] else int(match.group(2) + \"1\")\n",
        "            c = int(match.group(3))\n",
        "            return a, b, c\n",
        "        else:\n",
        "            raise ValueError(\"The equation format is incorrect.\")\n",
        "\n",
        "    # Extract coefficients from regression equations\n",
        "    a1, b1, c1 = extract_coefficients(regression_eq1)\n",
        "    a2, b2, c2 = extract_coefficients(regression_eq2)\n",
        "\n",
        "    b_yx = -a1 / b1  # Slope of Y on X\n",
        "    b_xy = -a2 / b2  # Slope of X on Y\n",
        "\n",
        "    # Calculate mean of X and Y\n",
        "    mean_y = c1 / b1\n",
        "    mean_x = c2 / a2\n",
        "\n",
        "    # Calculate correlation coefficient\n",
        "    correlation_coefficient = math.sqrt(b_yx * b_xy)\n",
        "\n",
        "    # Calculate standard deviation of Y\n",
        "    std_dev_y = math.sqrt(variance_x * b_yx / b_xy)\n",
        "\n",
        "    return mean_x, mean_y, correlation_coefficient, std_dev_y\n",
        "\n",
        "# Given data\n",
        "variance_x = 9\n",
        "regression_eq1 = \"8x - 10y = -66\"\n",
        "regression_eq2 = \"40x - 18y = 214\"\n",
        "\n",
        "result = calculate_stats(variance_x, regression_eq1, regression_eq2)\n",
        "print(\"Mean of X:\", result[0])\n",
        "print(\"Mean of Y:\", result[1])\n",
        "print(\"Correlation coefficient:\", result[2])\n",
        "print(\"Standard deviation of Y:\", result[3])\n",
        "\n"
      ]
    },
    {
      "cell_type": "markdown",
      "metadata": {
        "id": "8TW1hJsgarK1"
      },
      "source": [
        "# **Question 28:**"
      ]
    },
    {
      "cell_type": "markdown",
      "metadata": {
        "id": "K4QZ93K-azwM"
      },
      "source": [
        "A normal distribution, also known as a Gaussian distribution or bell curve, is a probability distribution that is symmetric around the mean.\n",
        "\n",
        "# **Characteristics:**\n",
        "1.Bell-shaped curve\n",
        "\n",
        "2.Mean, median, and mode are equal\n",
        "\n",
        "3.Symmetrical around the mean\n",
        "\n",
        "4.The area under the curve represents probability\n",
        "\n",
        "5.Empirically, about 68% of the data falls within one standard deviation of the mean, 95% within two standard deviations, and 99.7% within three standard deviations.\n",
        "\n",
        "# **Assumptions of Normal Distribution**\n",
        "\n",
        "1.Continuity: The data is continuous, meaning it can take any value within a given range.\n",
        "\n",
        "2.Symmetry: The distribution is symmetrical around the mean.\n",
        "\n",
        "3.Mean, Median, and Mode: The mean, median, and mode are equal.\n",
        "\n",
        "4.Specific Proportions: The distribution follows the 68-95-99.7 rule (empirical rule).\n",
        "\n"
      ]
    },
    {
      "cell_type": "markdown",
      "metadata": {
        "id": "oN6sTOZ9b6cr"
      },
      "source": [
        "# **Question 29:**"
      ]
    },
    {
      "cell_type": "markdown",
      "metadata": {
        "id": "f8M7rCwMcBKL"
      },
      "source": [
        "# **Characteristics:**\n",
        "1.Bell-shaped curve\n",
        "\n",
        "2.Mean, median, and mode are equal\n",
        "\n",
        "3.Symmetrical around the mean\n",
        "\n",
        "4.The area under the curve represents probability\n",
        "\n",
        "5.Empirically, about 68% of the data falls within one standard deviation of the mean, 95% within two standard deviations, and 99.7% within three standard deviations."
      ]
    },
    {
      "cell_type": "markdown",
      "metadata": {
        "id": "xavZPYyDfgS7"
      },
      "source": [
        "# **Question 30:**"
      ]
    },
    {
      "cell_type": "markdown",
      "metadata": {
        "id": "hLJ9ErDcfkz5"
      },
      "source": [
        "**Option (a)**\n",
        "\n",
        "**Incorrect.**\n",
        "\n",
        "The middle 50% of observations lie within approximately ±0.6745 standard deviations of the mean, not ±0.6745 of a.\n",
        "\n",
        "**Option (b)**\n",
        "\n",
        "**Correct.**\n",
        "\n",
        "This statement accurately reflects the 68-95-99.7 rule for normal distribution, where approximately 68.268% of the data lies within one standard deviation of the mean.\n",
        "\n",
        "**Option (c)**\n",
        "\n",
        "**Correct.**\n",
        "\n",
        "This statement also aligns with the 68-95-99.7 rule, indicating that approximately 95.45% of the data lies within two standard deviations of the mean.\n",
        "\n",
        "**Option (d)**\n",
        "\n",
        "**Correct.**\n",
        "\n",
        "This statement is consistent with the 68-95-99.7 rule, showing that approximately 99.73% of the data lies within three standard deviations of the mean.\n",
        "\n",
        "**Option (e)**\n",
        "\n",
        "**Correct.**\n",
        "\n",
        "This statement is true as the 68-95-99.7 rule implies that 99.73% of the data lies within ±3 standard deviations, leaving only 0.27% outside this range.\n"
      ]
    },
    {
      "cell_type": "markdown",
      "metadata": {
        "id": "n6J7CX86hwLY"
      },
      "source": [
        "# **Question 31:**"
      ]
    },
    {
      "cell_type": "markdown",
      "metadata": {
        "id": "IADjY8qb4xI6"
      },
      "source": [
        "Given:\n",
        "Mean (μ) = 60\n",
        "\n",
        "Standard Deviation (σ) = 10\n",
        "\n",
        "To find:\n",
        "\n",
        "1. Percentage of items between 60 and 72\n",
        "\n",
        "2. Percentage of items between 50 and 60\n",
        "\n",
        "3. Percentage of items beyond 72\n",
        "\n",
        "4. Percentage of items between 70 and 80\n",
        "\n",
        "**Calculations:**\n",
        "\n",
        "**i) Between 60 and 72:**\n",
        "\n",
        "Z1 = (60 - 60) / 10 = 0\n",
        "\n",
        "Z2 = (72 - 60) / 10 = 1.2\n",
        "\n",
        "Using a Z-table, we find the area between Z = 0 and Z = 1.2 is approximately 0.3849.\n",
        "\n",
        "Therefore, the percentage of items between 60 and 72 is 38.49%.\n",
        "\n",
        "**ii) Between 50 and 60:**\n",
        "\n",
        "Z1 = (50 - 60) / 10 = -1\n",
        "\n",
        "Z2 = (60 - 60) / 10 = 0\n",
        "\n",
        "Using a Z-table, we find the area between Z = -1 and Z = 0 is approximately 0.3413.\n",
        "\n",
        "Therefore, the percentage of items between 50 and 60 is 34.13%.\n",
        "\n",
        "**iii) Beyond 72:**\n",
        "\n",
        "Z = (72 - 60) / 10 = 1.2\n",
        "\n",
        "Using a Z-table, we find the area to the right of Z = 1.2 is approximately 0.1151.\n",
        "\n",
        "Therefore, the percentage of items beyond 72 is 11.51%.\n",
        "\n",
        "**iv) Between 70 and 80:**\n",
        "\n",
        "Z1 = (70 - 60) / 10 = 1\n",
        "\n",
        "Z2 = (80 - 60) / 10 = 2\n",
        "\n",
        "Using a Z-table, we find the area between Z = 1 and Z = 2 is approximately 0.1359.\n",
        "\n",
        "Therefore, the percentage of items between 70 and 80 is 13.59%.\n",
        "\n"
      ]
    },
    {
      "cell_type": "markdown",
      "metadata": {
        "id": "47vRHnc2_wEF"
      },
      "source": [
        "# **Question 32:**"
      ]
    },
    {
      "cell_type": "markdown",
      "metadata": {
        "id": "6XtcUAMN-L3O"
      },
      "source": [
        "**Step 1: Calculate Z-scores**\n",
        "\n",
        "We will use the Z-score formula to standardize the marks:\n",
        "\n",
        "Z = (X - μ) / σ\n",
        "\n",
        "Where:\n",
        "\n",
        "Z is the z-score\n",
        "\n",
        "X is the raw score\n",
        "\n",
        "μ is the mean\n",
        "\n",
        "σ is the standard deviation\n",
        "\n",
        "For more than 55 marks:\n",
        "\n",
        "Z = (55 - 49) / 6 = 1\n",
        "\n",
        "For more than 70 marks:\n",
        "\n",
        "Z = (70 - 49) / 6 = 3.5\n",
        "\n",
        "**Step 2: Find the corresponding probabilities**\n",
        "\n",
        "We will use a Z-table or statistical software to find the area under the normal curve to the right of the calculated Z-scores.\n",
        "\n",
        "For Z = 1, the area to the right is approximately 0.1587.\n",
        "\n",
        "For Z = 3.5, the area to the right is very close to 0 (almost negligible).\n",
        "\n",
        "**Step 3: Calculate the proportion of students**\n",
        "\n",
        "Proportion of students scoring more than 55 marks = 0.1587\n",
        "\n",
        "Proportion of students scoring more than 70 marks is approximately 0\n",
        "\n",
        "**Final Answer**\n",
        "\n",
        "(a) Approximately 15.87% of students scored more than 55 marks.\n",
        "\n",
        "(b) Approximately 0% of students scored more than 70 marks.\n"
      ]
    },
    {
      "cell_type": "markdown",
      "metadata": {
        "id": "CnJhfEu1BkDc"
      },
      "source": [
        "# **Question 33:**"
      ]
    },
    {
      "cell_type": "markdown",
      "metadata": {
        "id": "e0dAMo3RBnuj"
      },
      "source": [
        "**Step 1: Calculate Z-scores**\n",
        "\n",
        "We will use the Z-score formula to standardize the heights:\n",
        "\n",
        "Z = (X - μ) / σ\n",
        "\n",
        "Where:\n",
        "\n",
        "Z is the z-score\n",
        "\n",
        "X is the height\n",
        "\n",
        "μ is the mean height\n",
        "\n",
        "σ is the standard deviation\n",
        "\n",
        "For height greater than 70 inches:\n",
        "\n",
        "Z = (70 - 65) / 5 = 1\n",
        "\n",
        "For heights between 60 and 70 inches:\n",
        "\n",
        "Z1 = (60 - 65) / 5 = -1\n",
        "\n",
        "Z2 = (70 - 65) / 5 = 1\n",
        "\n",
        "**Step 2: Find the corresponding probabilities**\n",
        "\n",
        "We will use a Z-table or statistical software to find the area under the normal curve.\n",
        "\n",
        "For Z = 1, the area to the right is approximately 0.1587.\n",
        "\n",
        "For Z = -1 and Z = 1, the area between these values is approximately 0.6827.\n",
        "\n",
        "**Step 3: Calculate the number of students**\n",
        "\n",
        "Number of students with height greater than 70 inches = 0.1587 * 500 = 79.35 ≈ 79 students\n",
        "\n",
        "Number of students with height between 60 and 70 inches = 0.6827 * 500 = 341.35 ≈ 341 students\n",
        "\n",
        "**Final Answer**\n",
        "\n",
        "Approximately 79 students have a height greater than 70 inches.\n",
        "\n",
        "Approximately 341 students have a height between 60 and 70 inches.\n"
      ]
    },
    {
      "cell_type": "markdown",
      "metadata": {
        "id": "NL6zVAuZEmU5"
      },
      "source": [
        "# **Question 34:**"
      ]
    },
    {
      "cell_type": "markdown",
      "metadata": {
        "id": "vioBoeg4EyiR"
      },
      "source": [
        "**What is the statistical hypothesis?**\n",
        "\n",
        "A statistical hypothesis is a claim or statement about a population parameter. It is used as a starting point for hypothesis testing.\n",
        "There are two types of hypotheses:\n",
        "\n",
        "Null Hypothesis (H0): This is the default assumption or the status quo. It typically states that there is no effect, no difference, or no relationship between variables.\n",
        "\n",
        "Alternative Hypothesis (H1 or Ha): This is the research hypothesis that contradicts the null hypothesis. It suggests that there is an effect, difference, or relationship.\n",
        "\n",
        "**Explain the errors in hypothesis testing.**\n",
        "\n",
        "In hypothesis testing, there are two types of errors:\n",
        "\n",
        "Type I Error:\n",
        "This occurs when we reject the null hypothesis when it is actually true. It is also known as a false positive.\n",
        "\n",
        "Type II Error:\n",
        "This occurs when we fail to reject the null hypothesis when it is actually false. It is also known as a false negative.\n",
        "\n",
        "**Explain the Sample. What are Large Samples & Small Samples?**\n",
        "\n",
        "A sample is a subset of a population used to draw inferences about the entire population. It is used in hypothesis testing when studying the entire population is impractical or impossible.\n",
        "\n",
        "**Large Sample:** A large sample is generally considered to have at least 30 observations.\n",
        "\n",
        "**Small Sample:**\n",
        "A small sample has fewer than 30 observations.\n"
      ]
    },
    {
      "cell_type": "markdown",
      "metadata": {
        "id": "0g3Jz5YKJQqV"
      },
      "source": [
        "# **Question 35:**"
      ]
    },
    {
      "cell_type": "code",
      "execution_count": null,
      "metadata": {
        "colab": {
          "base_uri": "https://localhost:8080/"
        },
        "id": "cmojLT-Iauvj",
        "outputId": "1d51d82a-b279-4b86-a8b5-436d5ba5d481"
      },
      "outputs": [
        {
          "name": "stdout",
          "output_type": "stream",
          "text": [
            "Chi-square statistic: 17.6327\n",
            "Degrees of freedom: 24\n",
            "P-value: 0.8205\n",
            "Fail to reject the null hypothesis: The population standard deviation is 10.5.\n"
          ]
        }
      ],
      "source": [
        "import scipy.stats as stats\n",
        "\n",
        "# Given data\n",
        "sample_size = 25\n",
        "sample_std_dev = 9.0\n",
        "hypothesized_std_dev = 10.5\n",
        "\n",
        "# Calculate the chi-square test statistic\n",
        "chi_square_statistic = (sample_size - 1) * (sample_std_dev ** 2) / (hypothesized_std_dev ** 2)\n",
        "\n",
        "# Degrees of freedom\n",
        "degrees_of_freedom = sample_size - 1\n",
        "\n",
        "# Calculate the p-value\n",
        "p_value = 1 - stats.chi2.cdf(chi_square_statistic, degrees_of_freedom)\n",
        "\n",
        "# Significance level\n",
        "alpha = 0.05\n",
        "\n",
        "# Print the results\n",
        "print(f\"Chi-square statistic: {chi_square_statistic:.4f}\")\n",
        "print(f\"Degrees of freedom: {degrees_of_freedom}\")\n",
        "print(f\"P-value: {p_value:.4f}\")\n",
        "\n",
        "# Decision\n",
        "if p_value < alpha:\n",
        "    print(\"Reject the null hypothesis: The population standard deviation is not 10.5.\")\n",
        "else:\n",
        "    print(\"Fail to reject the null hypothesis: The population standard deviation is 10.5.\")\n"
      ]
    },
    {
      "cell_type": "markdown",
      "metadata": {
        "id": "xm2RJSzQkGwi"
      },
      "source": [
        "# **Question 37:**"
      ]
    },
    {
      "cell_type": "code",
      "execution_count": null,
      "metadata": {
        "colab": {
          "base_uri": "https://localhost:8080/"
        },
        "id": "PKxBlMGah_ER",
        "outputId": "69e72a0a-00c8-4142-ce94-2ed54a30fdc1"
      },
      "outputs": [
        {
          "name": "stdout",
          "output_type": "stream",
          "text": [
            "Fail to reject the null hypothesis. The distribution of grades might be uniform.\n"
          ]
        }
      ],
      "source": [
        "import numpy as np\n",
        "from scipy.stats import chi2_contingency\n",
        "\n",
        "grades = ['A', 'B', 'C', 'D', 'E']\n",
        "observed_frequencies = [15, 17, 30, 22, 16]\n",
        "total_students = sum(observed_frequencies)\n",
        "\n",
        "expected_frequency = [total_students / len(grades)] * len(grades)\n",
        "\n",
        "chi2, p, dof, expected = chi2_contingency([observed_frequencies])\n",
        "\n",
        "alpha = 0.05  # Significance level\n",
        "\n",
        "if p <= alpha:\n",
        "    print(\"Reject the null hypothesis. The distribution of grades is not uniform.\")\n",
        "else:\n",
        "    print(\"Fail to reject the null hypothesis. The distribution of grades might be uniform.\")\n",
        "\n"
      ]
    },
    {
      "cell_type": "markdown",
      "metadata": {
        "id": "_dPLzawYkPT3"
      },
      "source": [
        "# **Question 38:**"
      ]
    },
    {
      "cell_type": "code",
      "execution_count": null,
      "metadata": {
        "colab": {
          "base_uri": "https://localhost:8080/"
        },
        "id": "CwjWYpfIdGa3",
        "outputId": "fcb1c143-2ee9-4ba2-c744-126952c01a4f"
      },
      "outputs": [
        {
          "name": "stdout",
          "output_type": "stream",
          "text": [
            "F-statistic: 0.6029143897996357\n",
            "P-value: 0.5773005027709032\n",
            "Fail to reject the null hypothesis: There is no significant difference in mean whiteness between the different water temperatures.\n"
          ]
        }
      ],
      "source": [
        "import numpy as np\n",
        "from scipy.stats import f_oneway\n",
        "\n",
        "# Data from the table\n",
        "cold_water = [57, 55, 67]\n",
        "warm_water = [49, 52, 68]\n",
        "hot_water = [54, 46, 58]\n",
        "\n",
        "# Perform the ANOVA test\n",
        "f_statistic, p_value = f_oneway(cold_water, warm_water, hot_water)\n",
        "\n",
        "print(f\"F-statistic: {f_statistic}\")\n",
        "print(f\"P-value: {p_value}\")\n",
        "\n",
        "# Check if we reject the null hypothesis\n",
        "alpha = 0.05\n",
        "if p_value < alpha:\n",
        "    print(\"Reject the null hypothesis: There is a significant difference in mean whiteness between the different water temperatures.\")\n",
        "else:\n",
        "    print(\"Fail to reject the null hypothesis: There is no significant difference in mean whiteness between the different water temperatures.\")\n"
      ]
    },
    {
      "cell_type": "markdown",
      "metadata": {
        "id": "pRVflKk5mQgP"
      },
      "source": [
        "# **Question 50:Machine Learning**"
      ]
    },
    {
      "cell_type": "markdown",
      "metadata": {
        "id": "jbzDmSYe22au"
      },
      "source": [
        "# **Series**\n",
        "\n",
        "A one-dimensional labeled array capable of holding any data type (integers, floats, strings, objects, etc.).\n",
        "\n",
        "Analogous to a single column in a spreadsheet or a NumPy array with an index.\n",
        "\n",
        "Essential building block for DataFrames.\n",
        "\n",
        "Created using the pd.Series() function.\n"
      ]
    },
    {
      "cell_type": "code",
      "execution_count": null,
      "metadata": {
        "id": "nlTksentljs1"
      },
      "outputs": [],
      "source": [
        "import pandas as pd\n",
        "\n",
        "data = [1, 2, 3, 4, 5]\n",
        "index = ['a', 'b', 'c', 'd', 'e']\n",
        "series = pd.Series(data, index=index)\n",
        "print(series)\n"
      ]
    },
    {
      "cell_type": "markdown",
      "metadata": {
        "id": "nO0ykV083mQz"
      },
      "source": [
        "# **DataFrames**\n",
        "A two-dimensional labeled data structure with columns of potentially different types.\n",
        "\n",
        "Envisioned as a spreadsheet or a SQL table.\n",
        "\n",
        "Composed of multiple Series objects sharing the same index.\n",
        "\n",
        "Created using the pd.DataFrame() function.\n"
      ]
    },
    {
      "cell_type": "code",
      "execution_count": null,
      "metadata": {
        "id": "S0Ph0oNO5Ehv"
      },
      "outputs": [],
      "source": [
        "import pandas as pd\n",
        "\n",
        "data = {'Column1': [1, 2, 3], 'Column2': [4, 5, 6]}\n",
        "df = pd.DataFrame(data)\n",
        "print(df)\n",
        "\n"
      ]
    },
    {
      "cell_type": "markdown",
      "metadata": {
        "id": "M--nvc5156I7"
      },
      "source": [
        "# **Q.50.2**"
      ]
    },
    {
      "cell_type": "code",
      "execution_count": null,
      "metadata": {
        "id": "vsulIN419Xws"
      },
      "outputs": [],
      "source": [
        "import pandas as pd\n",
        "import mysql.connector\n",
        "\n",
        "# Connect to MySQL\n",
        "conn = mysql.connector.connect(\n",
        "    host='localhost',\n",
        "    user='your_username',\n",
        "    password='your_password',\n",
        "    database='Travel_Planner'\n",
        ")\n",
        "\n",
        "# Read the table into a pandas DataFrame\n",
        "query = \"SELECT * FROM bookings\"\n",
        "df = pd.read_sql(query, conn)\n",
        "\n",
        "# Display the DataFrame\n",
        "print(df)\n",
        "\n",
        "conn.close()\n"
      ]
    },
    {
      "cell_type": "code",
      "execution_count": null,
      "metadata": {
        "id": "6rl7A42G9XrN"
      },
      "outputs": [],
      "source": [
        "df"
      ]
    },
    {
      "cell_type": "code",
      "execution_count": null,
      "metadata": {
        "id": "EowUVfbl-s10"
      },
      "outputs": [],
      "source": [
        "'''\n",
        "loc\n",
        "Label-based: It is used to access a group of rows and columns by labels or a boolean array.\n",
        "Includes the last element: When slicing, it includes the end label.\n",
        "Can accept boolean arrays: Useful for conditional selection.\n",
        "'''\n",
        "\n",
        "'''\n",
        "iloc\n",
        "Integer position-based: It is used to access a group of rows and columns by integer positions.\n",
        "Excludes the last element: When slicing, it does not include the end position.\n",
        "Cannot accept boolean arrays: Only integer positions are allowed.\n",
        "\n",
        "'''"
      ]
    },
    {
      "cell_type": "code",
      "execution_count": null,
      "metadata": {
        "id": "52MOhLXO_F-r"
      },
      "outputs": [],
      "source": [
        "'''\n",
        "Supervised Learning\n",
        "\n",
        "Definition:\n",
        "In supervised learning, the model is trained on a labeled dataset, which means each training example is paired with an output label.\n",
        "Goal:\n",
        "The goal is to learn a mapping from inputs to outputs, so the model can predict the output for new, unseen data.\n",
        "Examples:\n",
        "Classification: Predicting whether an email is spam or not.\n",
        "Regression: Predicting the price of a house based on its features.\n",
        "\n",
        "Unsupervised Learning\n",
        "\n",
        "Definition: In unsupervised learning, the model is trained on data that does not have labeled responses. The system tries to learn the patterns and structure from such data without guidance.\n",
        "Goal: The goal is to find hidden patterns or intrinsic structures in the input data.\n",
        "Examples:\n",
        "Clustering: Grouping customers based on their purchasing behavior.\n",
        "Dimensionality Reduction: Reducing the number of features in a dataset while retaining important information.\n",
        "Key Differences\n",
        "Data: Supervised learning uses labeled data, while unsupervised learning uses unlabeled data.\n",
        "Objective: Supervised learning aims to predict outcomes, whereas unsupervised learning aims to find hidden patterns.\n",
        "Applications: Supervised learning is used in tasks like classification and regression, while unsupervised learning is used in clustering and dimensionality reduction.\n",
        "\n",
        "'''"
      ]
    },
    {
      "cell_type": "code",
      "execution_count": null,
      "metadata": {
        "id": "mML37rOfA2Lz"
      },
      "outputs": [],
      "source": [
        "'''\n",
        "The bias-variance tradeoff is a fundamental concept in machine learning that describes the balance between two types of errors that can affect the performance of predictive models:\n",
        "\n",
        "Bias\n",
        "Definition: Bias refers to the error introduced by approximating a real-world problem, which may be complex, by a simplified model.\n",
        "High Bias: Models with high bias are often too simple and do not capture the underlying patterns in the data well. This leads to underfitting, where the model performs poorly on both the training and test data.\n",
        "Example: A linear regression model trying to fit a non-linear relationship.\n",
        "Variance\n",
        "Definition: Variance refers to the error introduced by the model’s sensitivity to small fluctuations in the training data.\n",
        "High Variance: Models with high variance are often too complex and capture noise in the training data. This leads to overfitting, where the model performs well on the training data but poorly on the test data.\n",
        "Example: A high-degree polynomial regression model fitting a simple linear relationship.\n",
        "Tradeoff\n",
        "Balancing Act: The goal is to find a model that appropriately balances bias and variance to minimize the total error.\n",
        "Total Error: The total error is the sum of bias squared, variance, and irreducible error (noise in the data that cannot be eliminated).\n",
        "Visualization\n",
        "Imagine a dartboard:\n",
        "\n",
        "High Bias, Low Variance: Darts are consistently off-target but close to each other.\n",
        "Low Bias, High Variance: Darts are spread out widely but centered around the target.\n",
        "High Bias, High Variance: Darts are spread out widely and off-target.\n",
        "Low Bias, Low Variance: Darts are close to each other and on-target.\n",
        "Practical Implications\n",
        "Model Selection: Choosing the right model complexity is crucial. Simple models (e.g., linear regression) may have high bias but low variance, while complex models (e.g., deep neural networks) may have low bias but high variance.\n",
        "Regularization: Techniques like Lasso and Ridge regression help in managing the bias-variance tradeoff by adding a penalty for complexity.\n",
        "In summary, the bias-variance tradeoff is about finding the right balance between underfitting and overfitting to achieve the best generalization performance on unseen data."
      ]
    },
    {
      "cell_type": "code",
      "execution_count": null,
      "metadata": {
        "id": "NGc_UpbvA2DC"
      },
      "outputs": [],
      "source": [
        "                                                                                                                                                                         '''\n",
        "\n",
        "Precision, recall, and accuracy are important metrics used to evaluate the performance of a classification model. Here’s a breakdown of each:\n",
        "Precision\n",
        "\n",
        "Definition: Precision is the ratio of correctly predicted positive observations to the total predicted positives.\n",
        "Formula: Precision=True Positives+False PositivesTrue Positives​\n",
        "\n",
        "Interpretation: Precision answers the question, “Of all the instances that were predicted as positive, how many were actually positive?”\n",
        "\n",
        "Recall\n",
        "\n",
        "Definition: Recall (also known as sensitivity or true positive rate) is the ratio of correctly predicted positive observations to all the observations in the actual class.\n",
        "Formula: Recall=True Positives+False NegativesTrue Positives​\n",
        "\n",
        "Interpretation: Recall answers the question, “Of all the instances that were actually positive, how many were correctly predicted as positive?”\n",
        "\n",
        "Accuracy\n",
        "\n",
        "Definition: Accuracy is the ratio of correctly predicted observations to the total observations.\n",
        "Formula: Accuracy=Total ObservationsTrue Positives+True Negatives​\n",
        "\n",
        "Interpretation: Accuracy answers the question, “How many instances were correctly classified out of all instances?”\n",
        "\n",
        "Differences\n",
        "\n",
        "Focus:\n",
        "\n",
        "Precision focuses on the quality of positive predictions.\n",
        "Recall focuses on the quantity of positive predictions.\n",
        "Accuracy considers both positive and negative predictions.\n",
        "\n",
        "\n",
        "Use Cases:\n",
        "\n",
        "Precision is crucial when the cost of false positives is high (e.g., spam detection).\n",
        "Recall is crucial when the cost of false negatives is high (e.g., disease detection).\n",
        "Accuracy is useful when the classes are balanced and the cost of false positives and false negatives is similar.\n",
        "\n",
        "\n",
        "\n",
        "'''"
      ]
    },
    {
      "cell_type": "code",
      "execution_count": null,
      "metadata": {
        "id": "xdeLuFSi_az4"
      },
      "outputs": [],
      "source": [
        "'''\n",
        "Overfitting\n",
        "Overfitting occurs when a machine learning model learns the details and noise in the training data to the extent that it negatively impacts the model’s performance on new data. This means the model is too complex and captures the noise along with the underlying pattern, leading to poor generalization.\n",
        "\n",
        "Prevention Techniques\n",
        "Here are some common techniques to prevent overfitting:\n",
        "\n",
        "Cross-Validation: Use techniques like k-fold cross-validation to ensure the model performs well on different subsets of the data.\n",
        "Regularization: Apply regularization methods like L1 (Lasso) or L2 (Ridge) regularization to penalize large coefficients.\n",
        "Pruning: In decision trees, prune the tree to remove sections that provide little power to classify instances.\n",
        "More Training Data: Increase the size of the training dataset to help the model learn the underlying pattern better.\n",
        "Early Stopping: Stop training the model when performance on a validation set starts to degrade.\n",
        "Simplify the Model: Use a simpler model with fewer parameters to reduce the risk of overfitting.\n",
        "\n",
        "'''"
      ]
    },
    {
      "cell_type": "code",
      "execution_count": null,
      "metadata": {
        "id": "edoe76MVDi44"
      },
      "outputs": [],
      "source": [
        "'''\n",
        "Cross-Validation\n",
        "Cross-validation is a statistical method used to evaluate the performance of a machine learning model. It helps in assessing how the results of a model will generalize to an independent dataset. This is particularly useful when the amount of data is limited.\n",
        "\n",
        "How It Works\n",
        "Data Splitting: The dataset is divided into k subsets (or ‘folds’).\n",
        "Training and Testing: The model is trained on k-1 of these folds and tested on the remaining one fold. This process is repeated k times, with each fold being used as the testing set once.\n",
        "Averaging Results: The results from these k experiments are averaged to produce a single performance metric.\n",
        "Types of Cross-Validation\n",
        "k-Fold Cross-Validation: The most common form, where the data is split into k folds.\n",
        "Leave-One-Out Cross-Validation (LOOCV): A special case of k-fold where k equals the number of data points.\n",
        "Stratified k-Fold Cross-Validation: Ensures that each fold has the same proportion of class labels.\n",
        "Benefits\n",
        "Reduces Overfitting: By ensuring the model performs well on different subsets of the data.\n",
        "Model Selection: Helps in selecting the best model and tuning hyperparameters.\n",
        "'''"
      ]
    },
    {
      "cell_type": "code",
      "execution_count": null,
      "metadata": {
        "id": "hIsL7eQ-DmWX"
      },
      "outputs": [],
      "source": [
        "'''\n",
        "Classification vs. Regression\n",
        "Classification\n",
        "Purpose: To predict discrete labels or categories.\n",
        "Output: Categorical values (e.g., spam or not spam, disease or no disease).\n",
        "Examples: Email spam detection, image recognition, sentiment analysis.\n",
        "Regression\n",
        "Purpose: To predict continuous values.\n",
        "Output: Numerical values (e.g., price, temperature, age).\n",
        "Examples: House price prediction, stock price forecasting, temperature prediction.\n",
        "Key Differences\n",
        "Nature of Output: Classification outputs discrete labels, while regression outputs continuous values.\n",
        "Evaluation Metrics: Classification uses metrics like accuracy, precision, recall, and F1-score. Regression uses metrics like mean squared error (MSE), root mean squared error (RMSE), and R-squared.\n",
        "'''"
      ]
    },
    {
      "cell_type": "code",
      "execution_count": null,
      "metadata": {
        "id": "SkjrP0GCD-CR"
      },
      "outputs": [],
      "source": [
        "'''\n",
        "Ensemble Learning\n",
        "Ensemble learning is a technique in machine learning where multiple models, often called “weak learners,” are trained and combined to solve a specific problem. The idea is that by combining the predictions of multiple models, the overall performance can be improved compared to using a single model.\n",
        "\n",
        "Key Concepts\n",
        "Weak Learners: These are models that perform slightly better than random guessing. Individually, they might not be very accurate, but when combined, they can produce a strong learner.\n",
        "Strong Learner: The combined model that results from aggregating the predictions of the weak learners.\n",
        "Types of Ensemble Methods\n",
        "Bagging (Bootstrap Aggregating): Multiple models are trained on different subsets of the data, and their predictions are averaged. Example: Random Forest.\n",
        "Boosting: Models are trained sequentially, with each new model focusing on the errors made by the previous ones. Example: AdaBoost, Gradient Boosting.\n",
        "Stacking: Different models are trained, and their predictions are used as input to a meta-model, which makes the final prediction.\n",
        "Benefits\n",
        "Improved Accuracy: By combining multiple models, ensemble methods can achieve higher accuracy and robustness.\n",
        "Reduced Overfitting: Ensemble methods can help in reducing overfitting by averaging out the biases of individual models.\n",
        "'''"
      ]
    },
    {
      "cell_type": "code",
      "execution_count": null,
      "metadata": {
        "id": "S3t8SzBuEab5"
      },
      "outputs": [],
      "source": [
        "'''\n",
        "Gradient Descent\n",
        "Gradient descent is an optimization algorithm used to minimize a function by iteratively moving towards the minimum value of the function. It is widely used in machine learning for training models, especially when dealing with large datasets.\n",
        "How It Works\n",
        "\n",
        "Initialization: Start with an initial guess for the parameters.\n",
        "Compute Gradient: Calculate the gradient (partial derivatives) of the cost function with respect to each parameter.\n",
        "Update Parameters: Adjust the parameters in the opposite direction of the gradient. The size of the step is determined by the learning rate.\n",
        "Repeat: Continue this process until the cost function converges to a minimum value or a predefined number of iterations is reached.\n",
        "\n",
        "Mathematical Representation\n",
        "If ( J(\\theta) ) is the cost function and ( \\theta ) represents the parameters, the update rule is:\n",
        "θ:=θ−α∂θ∂J(θ)​\n",
        "where ( \\alpha ) is the learning rate.\n",
        "Types of Gradient Descent\n",
        "\n",
        "Batch Gradient Descent: Uses the entire dataset to compute the gradient.\n",
        "Stochastic Gradient Descent (SGD): Uses one data point at a time to compute the gradient.\n",
        "Mini-Batch Gradient Descent: Uses a small batch of data points to compute the gradient.\n",
        "'''"
      ]
    },
    {
      "cell_type": "code",
      "execution_count": null,
      "metadata": {
        "id": "dHLLhEdYE_Fw"
      },
      "outputs": [],
      "source": [
        "'''\n",
        "Angular Distance\n",
        "Definition: Angular distance, also known as angular separation, is the measure of the angle between two points as seen from a specific observation point. It is the angle formed by lines extending from the observer to each of the two points.\n",
        "Example: The angular distance between two stars in the sky can be measured in degrees, arcminutes, or arcseconds. For instance, the angular distance between the stars in the Big Dipper’s handle is about 5 degrees.\n",
        "Angular Size\n",
        "Definition: Angular size refers to the apparent size of an object as seen from a specific observation point. It is the angle formed by lines extending from the observer to the edges of the object.\n",
        "Example: The angular size of the Moon as seen from Earth is about 0.5 degrees (or 30 arcminutes). This means the Moon appears to cover an angle of 0.5 degrees in the sky.\n",
        "Key Difference\n",
        "Angular Distance: Measures the separation between two points.\n",
        "Angular Size: Measures the apparent size of a single object.\n",
        "'''"
      ]
    },
    {
      "cell_type": "code",
      "execution_count": null,
      "metadata": {
        "id": "_MMEzETiFaRo"
      },
      "outputs": [],
      "source": [
        "'''\n",
        "Curse of Dimensionality\n",
        "The curse of dimensionality refers to various phenomena that arise when analyzing and organizing data in high-dimensional spaces. When the number of features (dimensions) increases, several issues can occur:\n",
        "\n",
        "Increased Sparsity: As dimensions increase, the volume of the space increases exponentially, making the data points sparse. This sparsity makes it difficult to find meaningful patterns and relationships.\n",
        "Overfitting: High-dimensional data can lead to overfitting, where the model learns noise and details specific to the training data, reducing its generalization ability.\n",
        "Computational Complexity: The computational cost of processing high-dimensional data increases significantly, requiring more memory and processing power.\n",
        "Distance Metrics: In high-dimensional spaces, the concept of distance becomes less meaningful. The difference between the nearest and farthest points diminishes, making clustering and nearest neighbor searches less effective.\n",
        "Example\n",
        "Imagine a dataset with only two features (dimensions). Visualizing and analyzing this data is relatively straightforward. However, if the dataset has hundreds or thousands of features, visualizing and understanding the relationships between features becomes extremely challenging.\n",
        "\n",
        "Mitigation Techniques\n",
        "Dimensionality Reduction: Techniques like Principal Component Analysis (PCA) and t-Distributed Stochastic Neighbor Embedding (t-SNE) can reduce the number of dimensions while preserving important information.\n",
        "Feature Selection: Selecting the most relevant features based on statistical tests or model-based methods can help reduce dimensionality.\n",
        "Regularization: Applying regularization techniques like L1 and L2 can help manage the complexity of high-dimensional models.\n",
        "'''"
      ]
    },
    {
      "cell_type": "code",
      "execution_count": null,
      "metadata": {
        "id": "1u1rzpFKIxTD"
      },
      "outputs": [],
      "source": [
        "'''\n",
        "L1 Regularization (Lasso)\n",
        "\n",
        "Penalty: Adds a penalty equal to the absolute value of the magnitude of coefficients.\n",
        "Effect: Can lead to some coefficients being reduced to zero, effectively performing feature selection.\n",
        "Formula: The cost function with L1 regularization is:J(θ)=Cost Function+λj=1∑n​∣θj​∣\n",
        "where ( \\lambda ) is the regularization parameter.\n",
        "\n",
        "L2 Regularization (Ridge)\n",
        "\n",
        "Penalty: Adds a penalty equal to the square of the magnitude of coefficients.\n",
        "Effect: Shrinks coefficients towards zero but does not reduce them to zero.\n",
        "Formula: The cost function with L2 regularization is:J(θ)=Cost Function+λj=1∑n​θj2​\n",
        "\n",
        "\n",
        "Key Differences\n",
        "\n",
        "Sparsity: L1 regularization can produce sparse models with fewer features, while L2 regularization tends to distribute the penalty across all coefficients.\n",
        "Use Cases: L1 is useful when you need feature selection, and L2 is beneficial when you want to handle multicollinearity.\n",
        "'''"
      ]
    },
    {
      "cell_type": "code",
      "execution_count": null,
      "metadata": {
        "id": "6sWN4xoJJR7H"
      },
      "outputs": [],
      "source": [
        "'''\n",
        "Confusion Matrix\n",
        "A confusion matrix is a table used to evaluate the performance of a classification model. It provides a summary of the prediction results on a classification problem by comparing the actual and predicted classifications.\n",
        "Structure\n",
        "The confusion matrix is typically structured as follows:\n",
        "\n",
        "\n",
        "\n",
        "Predicted Positive\n",
        "Predicted Negative\n",
        "\n",
        "\n",
        "\n",
        "\n",
        "Actual Positive\n",
        "True Positive (TP)\n",
        "False Negative (FN)\n",
        "\n",
        "\n",
        "Actual Negative\n",
        "False Positive (FP)\n",
        "True Negative (TN)\n",
        "\n",
        "\n",
        "Key Terms\n",
        "\n",
        "True Positive (TP): The model correctly predicts the positive class.\n",
        "True Negative (TN): The model correctly predicts the negative class.\n",
        "False Positive (FP): The model incorrectly predicts the positive class (Type I error).\n",
        "False Negative (FN): The model incorrectly predicts the negative class (Type II error).\n",
        "\n",
        "Usage\n",
        "\n",
        "Accuracy: Measures the overall correctness of the model.Accuracy=TP+TN+FP+FNTP+TN​\n",
        "\n",
        "Precision: Measures the accuracy of positive predictions.Precision=TP+FPTP​\n",
        "\n",
        "Recall (Sensitivity): Measures the ability to find all positive instances.Recall=TP+FNTP​\n",
        "\n",
        "F1 Score: Harmonic mean of precision and recall.F1 Score=2×Precision+RecallPrecision×Recall​\n",
        "\n",
        "\n",
        "Example\n",
        "If a model is used to predict whether an email is spam or not, the confusion matrix helps in understanding how many emails were correctly identified as spam (TP), how many were incorrectly identified as spam (FP), how many spam emails were missed (FN), and how many non-spam emails were correctly identified (TN).\n",
        "'''"
      ]
    },
    {
      "cell_type": "code",
      "execution_count": null,
      "metadata": {
        "id": "GTiaYCL6J_Lt"
      },
      "outputs": [],
      "source": [
        "'''\n",
        "AUC-ROC Curve\n",
        "The AUC-ROC curve is a performance measurement for classification problems at various threshold settings.\n",
        "ROC Curve\n",
        "\n",
        "ROC (Receiver Operating Characteristic) Curve: A graphical representation of the contrast between true positive rates (TPR) and false positive rates (FPR) at different threshold settings.\n",
        "True Positive Rate (TPR): Also known as recall or sensitivity, it is the ratio of correctly predicted positive observations to all actual positives.TPR=TP+FNTP​\n",
        "\n",
        "False Positive Rate (FPR): The ratio of incorrectly predicted positive observations to all actual negatives.FPR=FP+TNFP​\n",
        "\n",
        "\n",
        "AUC\n",
        "\n",
        "AUC (Area Under the Curve): Represents the degree or measure of separability. It tells how much the model is capable of distinguishing between classes.\n",
        "Interpretation:\n",
        "\n",
        "AUC = 1: Perfect model.\n",
        "0.5 < AUC < 1: Better than random guessing.\n",
        "AUC = 0.5: Model has no class separation capacity.\n",
        "AUC < 0.5: Worse than random guessing.\n",
        "\n",
        "\n",
        "\n",
        "Example\n",
        "If you have a model predicting whether an email is spam or not, the ROC curve will show the trade-off between the true positive rate and false positive rate at various threshold settings. The AUC will give you an aggregate measure of the model’s performance across all thresholds.\n",
        "'''"
      ]
    },
    {
      "cell_type": "code",
      "execution_count": null,
      "metadata": {
        "id": "KOi3h7RYMs0A"
      },
      "outputs": [],
      "source": [
        "'''\n",
        "K-Nearest Neighbors (KNN) Algorithm\n",
        "The k-nearest neighbors (KNN) algorithm is a type of supervised machine learning algorithm used for both classification and regression tasks. It is based on the principle that similar instances exist in close proximity to each other.\n",
        "\n",
        "How It Works\n",
        "Data Preparation: Store all the training data.\n",
        "Distance Calculation: For a given test instance, calculate the distance between the test instance and all training instances. Common distance metrics include Euclidean, Manhattan, and Minkowski distances.\n",
        "Find Neighbors: Identify the k training instances that are closest to the test instance.\n",
        "Make Prediction:\n",
        "Classification: Assign the class label that is most common among the k nearest neighbors.\n",
        "Regression: Calculate the average of the values of the k nearest neighbors.\n",
        "Example\n",
        "Classification: If you want to classify a new email as spam or not spam, KNN will look at the k nearest emails in the training set and assign the most common label among them.\n",
        "Regression: If you want to predict the price of a house, KNN will look at the prices of the k nearest houses in the training set and take the average.\n",
        "Advantages\n",
        "Simple and Intuitive: Easy to understand and implement.\n",
        "No Training Phase: KNN is a lazy learner, meaning it doesn’t require a training phase.\n",
        "Disadvantages\n",
        "Computationally Intensive: Requires calculating the distance to all training instances for each prediction.\n",
        "Sensitive to Irrelevant Features: Performance can degrade if irrelevant features are present.\n",
        "'''"
      ]
    },
    {
      "cell_type": "code",
      "execution_count": null,
      "metadata": {
        "id": "vgLmOgMiOsmA"
      },
      "outputs": [],
      "source": [
        "'''\n",
        "Support Vector Machine (SVM)\n",
        "Support Vector Machine (SVM) is a supervised machine learning algorithm used for both classification and regression tasks. However, it is primarily used for classification problems.\n",
        "\n",
        "Basic Concept\n",
        "Data Representation: In SVM, each data item is plotted as a point in an n-dimensional space (where n is the number of features). The value of each feature is the value of a particular coordinate.\n",
        "Hyperplane: SVM finds the hyperplane that best separates the data points into different classes. The hyperplane is a decision boundary that separates the classes.\n",
        "Support Vectors: The data points that are closest to the hyperplane are called support vectors. These points influence the position and orientation of the hyperplane.\n",
        "Maximizing Margin: SVM aims to find the hyperplane that maximizes the margin between the support vectors of the two classes. The margin is the distance between the hyperplane and the nearest data points from either class.\n",
        "Example\n",
        "Imagine you have a dataset with two features (x1 and x2) and two classes (Class A and Class B). SVM will plot these data points in a 2D space and find the best hyperplane that separates Class A from Class B. The support vectors are the points that are closest to this hyperplane.\n",
        "\n",
        "Advantages\n",
        "Effective in High Dimensions: SVM is effective in high-dimensional spaces and when the number of dimensions is greater than the number of samples.\n",
        "Versatile: Different kernel functions can be specified for the decision function. Common kernels include linear, polynomial, and radial basis function (RBF).\n",
        "'''"
      ]
    },
    {
      "cell_type": "code",
      "execution_count": null,
      "metadata": {
        "id": "ZgCNGMdyPKgi"
      },
      "outputs": [],
      "source": [
        "'''\n",
        "Kernel Trick in SVM\n",
        "The kernel trick is a technique used in Support Vector Machines (SVM) to handle non-linear data by transforming it into a higher-dimensional space where it becomes linearly separable.\n",
        "How It Works\n",
        "\n",
        "Non-Linear Transformation: The kernel trick involves applying a kernel function to the input data to transform it into a higher-dimensional space. This transformation makes it easier to find a hyperplane that can separate the data linearly.\n",
        "Kernel Function: A kernel function computes the dot product of the transformed data points in the higher-dimensional space without explicitly performing the transformation. This makes the computation more efficient.\n",
        "\n",
        "Common Kernel Functions\n",
        "\n",
        "Linear Kernel: Suitable for linearly separable data.K(xi​,xj​)=xi​⋅xj​\n",
        "\n",
        "Polynomial Kernel: Suitable for polynomially separable data.K(xi​,xj​)=(xi​⋅xj​+c)d\n",
        "\n",
        "Radial Basis Function (RBF) Kernel: Suitable for non-linearly separable data.K(xi​,xj​)=exp(−γ∥xi​−xj​∥2)\n",
        "\n",
        "\n",
        "Example\n",
        "Imagine you have a dataset that is not linearly separable in its original 2D space. By applying the RBF kernel, the data is mapped into a higher-dimensional space where a linear hyperplane can separate the classes.\n",
        "Benefits\n",
        "\n",
        "Handles Non-Linear Data: The kernel trick allows SVM to handle complex, non-linear relationships in the data.\n",
        "Efficient Computation: By using kernel functions, SVM can perform the transformation implicitly, reducing computational complexity.\n",
        "'''"
      ]
    },
    {
      "cell_type": "code",
      "execution_count": null,
      "metadata": {
        "id": "53IOougfPyso"
      },
      "outputs": [],
      "source": [
        "'''\n",
        "Types of Kernels in SVM\n",
        "Support Vector Machines (SVM) can use different kernel functions to transform the input data into a higher-dimensional space where it becomes easier to classify the data. Here are the most common types of kernels:\n",
        "\n",
        "\n",
        "Linear Kernel\n",
        "\n",
        "Formula: K(xi​,xj​)=xi​⋅xj​\n",
        "\n",
        "Use Case: Suitable for linearly separable data. It is often used when the data can be separated by a straight line or hyperplane.\n",
        "\n",
        "\n",
        "\n",
        "Polynomial Kernel\n",
        "\n",
        "Formula: K(xi​,xj​)=(xi​⋅xj​+c)d\n",
        "\n",
        "Use Case: Useful for data that is not linearly separable but can be separated by a polynomial decision boundary. The degree ( d ) and constant ( c ) can be adjusted to fit the data.\n",
        "\n",
        "\n",
        "\n",
        "Radial Basis Function (RBF) Kernel\n",
        "\n",
        "Formula: K(xi​,xj​)=exp(−γ∥xi​−xj​∥2)\n",
        "\n",
        "Use Case: Suitable for non-linearly separable data. It maps the data into an infinite-dimensional space, making it possible to find a linear separation in this new space. The parameter ( \\gamma ) controls the width of the Gaussian function.\n",
        "\n",
        "\n",
        "\n",
        "Sigmoid Kernel\n",
        "\n",
        "Formula: K(xi​,xj​)=tanh(αxi​⋅xj​+c)\n",
        "\n",
        "Use Case: Similar to neural networks, this kernel is used in situations where the data has a non-linear relationship. The parameters ( \\alpha ) and ( c ) can be tuned to fit the data.\n",
        "\n",
        "\n",
        "\n",
        "Choosing the Right Kernel\n",
        "\n",
        "Linear Kernel: Use when the data is linearly separable or when you have a large number of features.\n",
        "Polynomial Kernel: Use when the data is not linearly separable and you suspect polynomial relationships.\n",
        "RBF Kernel: Use when the data is not linearly separable and you need a flexible decision boundary.\n",
        "Sigmoid Kernel: Use when you want to mimic the behavior of neural networks.\n",
        "'''"
      ]
    },
    {
      "cell_type": "code",
      "execution_count": null,
      "metadata": {
        "id": "teqJ-Vf_QWHp"
      },
      "outputs": [],
      "source": [
        "'''\n",
        "Hyperplane in SVM\n",
        "In Support Vector Machines (SVM), a hyperplane is a decision boundary that separates different classes within a dataset. The goal of SVM is to find the hyperplane that best separates the data points of different classes.\n",
        "How It Is Determined\n",
        "\n",
        "Maximizing the Margin: The hyperplane is determined by maximizing the margin between the data points of different classes. The margin is the distance between the hyperplane and the nearest data points from each class, known as support vectors.\n",
        "Optimization Problem: Finding the optimal hyperplane involves solving an optimization problem. The objective is to maximize the margin while minimizing classification errors.\n",
        "Mathematical Formulation:\n",
        "\n",
        "The equation of the hyperplane in an n-dimensional space is:w⋅x+b=0\n",
        "where ( w ) is the weight vector, ( x ) is the input vector, and ( b ) is the bias term.\n",
        "The optimization problem can be formulated as:w,bmin​21​∥w∥2\n",
        "subject to the constraint:yi​(w⋅xi​+b)≥1\n",
        "for all training data points ( (x_i, y_i) ).\n",
        "\n",
        "\n",
        "\n",
        "Example\n",
        "Imagine you have a dataset with two features (x1 and x2) and two classes (Class A and Class B). SVM will find the hyperplane that maximizes the margin between the support vectors of Class A and Class B, ensuring the best separation of the classes.\n",
        "'''"
      ]
    },
    {
      "cell_type": "code",
      "execution_count": null,
      "metadata": {
        "id": "cWckbSTCQ6-e"
      },
      "outputs": [],
      "source": [
        "'''\n",
        "Pros of SVM\n",
        "Effective in High Dimensions: SVM is effective in high-dimensional spaces and when the number of dimensions is greater than the number of samples.\n",
        "Memory Efficient: SVM uses a subset of training points (support vectors) in the decision function, making it memory efficient.\n",
        "Versatile: Different kernel functions can be specified for the decision function. Common kernels include linear, polynomial, and radial basis function (RBF).\n",
        "Robust to Overfitting: Especially in high-dimensional space, SVM is less prone to overfitting compared to other algorithms.\n",
        "Cons of SVM\n",
        "Computationally Intensive: Training an SVM can be computationally intensive, especially with large datasets.\n",
        "Choice of Kernel: The choice of the right kernel function and its parameters can be challenging and requires careful tuning.\n",
        "Not Suitable for Large Datasets: SVMs are not suitable for very large datasets as the training time can be high.\n",
        "Less Interpretability: The results of SVMs can be less interpretable compared to other models like decision trees.\n",
        "'''"
      ]
    },
    {
      "cell_type": "code",
      "execution_count": null,
      "metadata": {
        "id": "3F6N4YpDRNHH"
      },
      "outputs": [],
      "source": [
        "'''\n",
        "Hard Margin SVM\n",
        "Definition: A hard margin SVM is used for linearly separable data, where there is a clear gap between the two classes.\n",
        "Objective: It aims to find the widest possible margin that separates the classes without allowing any points to fall into the margin.\n",
        "Constraints: No misclassifications are allowed. All data points must be correctly classified and lie outside the margin.\n",
        "Soft Margin SVM\n",
        "Definition: A soft margin SVM allows some points to fall into the margin if it leads to better classification performance.\n",
        "Objective: It aims to find a balance between maximizing the margin and minimizing classification errors.\n",
        "Constraints: Some misclassifications are allowed. This approach is used when the data is not perfectly linearly separable and can help prevent overfitting by allowing for some misclassifications to achieve greater overall generalization on unseen data.\n",
        "Key Differences\n",
        "Hard Margin: Strict separation with no tolerance for misclassification.\n",
        "Soft Margin: Flexible separation with some tolerance for misclassification to improve generalization.\n",
        "'''"
      ]
    },
    {
      "cell_type": "code",
      "execution_count": null,
      "metadata": {
        "id": "ByFlnGThSOH5"
      },
      "outputs": [],
      "source": [
        "'''\n",
        "Constructing a Decision Tree\n",
        "A decision tree is a model used for classification and regression tasks. It predicts the value of a target variable by learning simple decision rules inferred from data features. Here’s the process of constructing a decision tree:\n",
        "\n",
        "Select the Best Feature: Choose the feature that best splits the data. This is typically done using criteria like Gini impurity, entropy (information gain), or variance reduction.\n",
        "Create a Decision Node: Create a decision node that splits the data based on the selected feature.\n",
        "Split the Data: Divide the dataset into subsets based on the feature’s values. Each subset should be more homogeneous in terms of the target variable.\n",
        "Repeat the Process: For each subset, repeat the process of selecting the best feature and creating decision nodes. This is done recursively until one of the stopping criteria is met:\n",
        "All data points in a subset belong to the same class.\n",
        "There are no more features to split on.\n",
        "A predefined depth limit is reached.\n",
        "Create Leaf Nodes: When a stopping criterion is met, create a leaf node that represents the final decision or prediction.\n",
        "Example\n",
        "Imagine you have a dataset of fruits with features like color, size, and shape, and you want to classify them into different types of fruits. The decision tree will:\n",
        "\n",
        "Select the best feature (e.g., color) to split the data.\n",
        "Create decision nodes based on the color.\n",
        "Split the data into subsets (e.g., red fruits, green fruits).\n",
        "Repeat the process for each subset until the tree is fully grown.\n",
        "Advantages\n",
        "Easy to Understand: Decision trees are simple to understand and interpret.\n",
        "Handles Both Numerical and Categorical Data: They can handle both types of data without requiring much preprocessing.\n",
        "Disadvantages\n",
        "Prone to Overfitting: Decision trees can easily overfit the training data, especially if they are not pruned.\n",
        "Sensitive to Data Variations: Small changes in the data can result in a completely different tree.\n",
        "'''"
      ]
    },
    {
      "cell_type": "code",
      "execution_count": null,
      "metadata": {
        "id": "NMAYnR6WSRSy"
      },
      "outputs": [],
      "source": [
        "'''\n",
        "Working Principle of a Decision Tree\n",
        "A decision tree is a flowchart-like structure used for decision-making and predictive modeling. Here’s how it works:\n",
        "\n",
        "Root Node: The topmost node in a decision tree that represents the entire dataset. It is split into two or more homogeneous sets.\n",
        "Internal Nodes: These nodes represent the features of the dataset and are used to make decisions based on the values of these features.\n",
        "Branches: These are the outcomes of the decisions made at each internal node. Each branch represents a possible value of the feature.\n",
        "Leaf Nodes: The terminal nodes that represent the final decision or classification. They do not split further.\n",
        "Steps to Construct a Decision Tree\n",
        "Select the Best Feature: Choose the feature that best splits the data. This is typically done using criteria like Gini impurity, entropy (information gain), or variance reduction.\n",
        "Create Decision Nodes: Create nodes based on the selected feature and split the data accordingly.\n",
        "Repeat the Process: For each subset of data, repeat the process of selecting the best feature and creating decision nodes until a stopping criterion is met (e.g., all data points belong to the same class, no more features to split on, or a predefined depth limit is reached).\n",
        "Create Leaf Nodes: When a stopping criterion is met, create leaf nodes that represent the final decision or classification.\n",
        "Example\n",
        "Imagine you have a dataset of fruits with features like color, size, and shape, and you want to classify them into different types of fruits. The decision tree will:\n",
        "\n",
        "Select the best feature (e.g., color) to split the data.\n",
        "Create decision nodes based on the color.\n",
        "Split the data into subsets (e.g., red fruits, green fruits).\n",
        "Repeat the process for each subset until the tree is fully grown.\n",
        "'''"
      ]
    },
    {
      "cell_type": "code",
      "execution_count": null,
      "metadata": {
        "id": "thAOd-4qSx5x"
      },
      "outputs": [],
      "source": [
        "'''\n",
        "Information Gain\n",
        "Information gain is a measure used to determine which feature in a dataset provides the most information about the target variable. It is based on the concept of entropy from information theory.\n",
        "How It Works\n",
        "\n",
        "\n",
        "Entropy: Entropy is a measure of the uncertainty or impurity in a dataset. For a binary classification problem, the entropy ( H ) of a dataset ( S ) is given by:\n",
        "H(S)=−p1​log2​(p1​)−p2​log2​(p2​)\n",
        "where ( p_1 ) and ( p_2 ) are the proportions of the two classes in the dataset.\n",
        "\n",
        "\n",
        "Information Gain: Information gain measures the reduction in entropy after a dataset is split on a feature. It is calculated as:\n",
        "Information Gain=H(S)−i=1∑k​∣S∣∣Si​∣​H(Si​)\n",
        "where ( S_i ) is the subset of ( S ) for which the feature has a specific value, and ( k ) is the number of possible values of the feature.\n",
        "\n",
        "\n",
        "Use in Decision Trees\n",
        "\n",
        "Feature Selection: In decision trees, information gain is used to select the feature that best splits the data at each node. The feature with the highest information gain is chosen as the splitting criterion.\n",
        "Tree Construction: The process of constructing a decision tree involves recursively selecting the feature with the highest information gain and splitting the dataset until a stopping criterion is met (e.g., all data points belong to the same class, no more features to split on, or a predefined depth limit is reached).\n",
        "\n",
        "Example\n",
        "Imagine you have a dataset of fruits with features like color, size, and shape, and you want to classify them into different types of fruits. Information gain will help you determine which feature (e.g., color) provides the most information about the target variable (fruit type) and should be used to split the data at each node of the decision tree.\n",
        "'''"
      ]
    },
    {
      "cell_type": "code",
      "execution_count": null,
      "metadata": {
        "id": "oWjlr50_TvbJ"
      },
      "outputs": [],
      "source": [
        "'''\n",
        "Gini Impurity\n",
        "\n",
        "In the realm of decision trees, Gini impurity is a measure of the probability of incorrectly classifying a randomly chosen element in a dataset if it were randomly labeled according to the distribution of labels in the subset.\n",
        "\n",
        "Lower Gini impurity indicates a purer node, meaning the data points within that node belong to the same class.\n",
        "Role in Decision Trees\n",
        "\n",
        "Decision trees employ Gini impurity as a criterion for splitting nodes. The algorithm seeks to minimize the Gini impurity at each split, aiming to create purer child nodes.\n",
        "\n",
        "Process\n",
        "\n",
        "Initialization: Calculate the Gini impurity of the entire dataset.\n",
        "Splitting: Consider all possible splits based on different features and calculate the weighted Gini impurity of the resulting child nodes.\n",
        "Selection: Choose the split that results in the lowest weighted Gini impurity.\n",
        "Recursion: Repeat steps 2 and 3 for each child node until a stopping criterion is met (e.g., maximum depth, minimum node size).\n",
        "Advantages of Gini Impurity\n",
        "\n",
        "Computationally efficient compared to other impurity measures like information gain.\n",
        "Works well with continuous and categorical data.\n",
        "In essence, Gini impurity serves as a guiding metric in decision tree algorithms, driving the construction of models that effectively classify data.\n",
        "'''"
      ]
    },
    {
      "cell_type": "code",
      "execution_count": null,
      "metadata": {
        "id": "3IoIi1pQUlKZ"
      },
      "outputs": [],
      "source": [
        "'''\n",
        "Advantages and Disadvantages of Decision Trees\n",
        "Decision trees are a popular machine learning algorithm known for their interpretability and ease of understanding. However, they also have certain limitations.\n",
        "\n",
        "Advantages of Decision Trees\n",
        "Easy to understand and interpret: The decision-making process can be visualized in a tree-like structure, making it easy to comprehend for both humans and machines.\n",
        "Can handle both numerical and categorical data: Versatile in handling different data types.\n",
        "Requires little data preparation: Unlike other algorithms, decision trees generally don't require extensive data preprocessing.\n",
        "Can be used for both classification and regression tasks: Flexible in its application.\n",
        "Disadvantages of Decision Trees\n",
        "Prone to overfitting: Decision trees can create complex structures that fit the training data too closely, leading to poor performance on unseen data.\n",
        "Sensitive to small variations in data: Slight changes in the data can result in significantly different trees.\n",
        "Instability: Decision trees can be unstable, meaning small changes in the data can lead to large changes in the tree structure.\n",
        "Biased towards features with many levels: Decision trees tend to favor features with more levels, leading to potential bias.\n",
        "'''"
      ]
    },
    {
      "cell_type": "code",
      "execution_count": null,
      "metadata": {
        "id": "2jkUCFveVoIx"
      },
      "outputs": [],
      "source": [
        "'''\n",
        "How Random Forests Improve Upon Decision Trees\n",
        "Random Forests enhance the capabilities of decision trees by addressing their limitations through several key techniques:\n",
        "\n",
        "1. Ensemble Learning:\n",
        "Multiple Decision Trees: Random Forests create an ensemble of multiple decision trees, each trained on a different subset of the data.\n",
        "Reduced Variance: By combining predictions from multiple trees, the overall model becomes less sensitive to variations in the training data, reducing overfitting.\n",
        "2. Bootstrap Aggregating (Bagging):\n",
        "Random Sampling: Each decision tree is built on a random subset of the data, drawn with replacement.\n",
        "Diversity: This process introduces diversity among the trees, improving the model's ability to generalize.\n",
        "3. Random Feature Selection:\n",
        "Feature Subsetting: At each node split, only a random subset of features is considered, preventing any single feature from dominating the decision-making process.\n",
        "Reduced Correlation: This technique further decreases the correlation between trees, enhancing the overall model's performance.\n",
        "4. Improved Accuracy and Robustness:\n",
        "Ensemble Power: By combining multiple trees, Random Forests often achieve higher accuracy and better generalization compared to individual decision trees.\n",
        "Handling Noise and Outliers: The ensemble approach helps to reduce the impact of noise and outliers in the data.\n",
        "'''"
      ]
    },
    {
      "cell_type": "code",
      "execution_count": null,
      "metadata": {
        "id": "nsi_LkS8WDg2"
      },
      "outputs": [],
      "source": [
        "'''\n",
        "Bootstrapping in Random Forests\n",
        "\n",
        "In the realm of random forests, bootstrapping refers to the process of creating multiple subsets of the original dataset through random sampling with replacement. Each subset, often referred to as a bootstrap sample, is approximately the same size as the original dataset.\n",
        "\n",
        "Key Characteristics of Bootstrapping in Random Forests\n",
        "\n",
        "Random Sampling with Replacement: Each data point has an equal chance of being selected multiple times within a bootstrap sample.\n",
        "Subset Creation: Multiple bootstrap samples are generated, each serving as a training set for an individual decision tree in the random forest.\n",
        "Diversity: By introducing randomness in the sampling process, bootstrapping helps create diverse decision trees within the forest.\n",
        "Benefits of Bootstrapping\n",
        "\n",
        "Reduced Overfitting: Bootstrapping helps to reduce overfitting by exposing each decision tree to different subsets of the data.\n",
        "Improved Generalization: The ensemble of trees, trained on diverse data, tends to generalize better to unseen data.\n",
        "Enhanced Accuracy: Random forests often exhibit higher accuracy compared to individual decision trees due to the combined power of multiple models.\n",
        "In essence, bootstrapping is a fundamental technique in random forests that contributes to their robustness and effectiveness as a machine learning algorithm.\n",
        "'''"
      ]
    },
    {
      "cell_type": "code",
      "execution_count": null,
      "metadata": {
        "id": "SvEdnKfMYuam"
      },
      "outputs": [],
      "source": [
        "'''\n",
        "Feature Importance in Random Forests\n",
        "Feature importance in random forests quantifies the contribution of each feature in making accurate predictions. It helps identify which features are most influential in the model's decision-making process.\n",
        "\n",
        "How Feature Importance is Calculated\n",
        "There are primarily two methods to calculate feature importance in random forests:\n",
        "\n",
        "Mean Decrease in Impurity (MDI):\n",
        "\n",
        "Measures the average decrease in impurity (e.g., Gini impurity or information gain) across all decision trees when a feature is used for splitting.\n",
        "Higher values indicate more influential features.\n",
        "Permutation Importance:\n",
        "\n",
        "Randomly shuffles the values of a feature in the validation set.\n",
        "Calculates the decrease in model performance (e.g., accuracy, AUC) due to the shuffling.\n",
        "A larger decrease indicates a more important feature.\n",
        "Interpreting Feature Importance\n",
        "Ranking Features: Feature importance scores can be used to rank features based on their contribution to the model's predictive power.\n",
        "Feature Selection: Identifying the most important features can help in feature selection, reducing dimensionality, and improving model efficiency.\n",
        "Model Understanding: Understanding which features are most influential can provide insights into the underlying patterns in the data.\n",
        "Limitations of Feature Importance\n",
        "Biased towards high-cardinality features: MDI can overestimate the importance of features with many unique values.\n",
        "Correlation between features: Feature importance might not accurately reflect the true importance of correlated features.\n",
        "Interaction effects: Feature importance might not capture the combined effect of multiple features.\n",
        "In conclusion, feature importance is a valuable tool for understanding the behavior of random forest models and gaining insights into the data. However, it's essential to consider its limitations and use it in conjunction with other techniques for a comprehensive analysis.\n",
        "'''"
      ]
    },
    {
      "cell_type": "code",
      "execution_count": null,
      "metadata": {
        "id": "fp6dilzVZLln"
      },
      "outputs": [],
      "source": [
        "'''\n",
        "Hyperparameters of a Random Forest\n",
        "\n",
        "Hyperparameters are settings that are not learned from the data but rather set before the learning process begins. They control the model's architecture and learning process. In the context of random forests, some of the key hyperparameters include:\n",
        "\n",
        "n_estimators: This parameter determines the number of trees in the forest. Increasing the number of trees generally improves performance but can also increase computational cost.\n",
        "max_depth: This parameter controls the maximum depth of each decision tree. A deeper tree can capture more complex patterns but also increases the risk of overfitting.\n",
        "min_samples_split: This parameter defines the minimum number of samples required to split an internal node. A higher value can prevent overfitting but might lead to underfitting if set too high.\n",
        "min_samples_leaf: This parameter specifies the minimum number of samples required to be at a leaf node. It helps control the size of the leaves and can impact the model's complexity.\n",
        "max_features: This parameter controls the number of features considered at each split. Using a subset of features can improve computational efficiency and help prevent overfitting.\n",
        "Impact of Hyperparameters\n",
        "\n",
        "The choice of hyperparameters significantly influences the performance of a random forest model. Careful tuning is essential to achieve optimal results. Here's a general overview of their impact:\n",
        "\n",
        "n_estimators: Generally, increasing the number of trees improves performance up to a certain point, after which diminishing returns may occur.\n",
        "max_depth: A larger max_depth can lead to overfitting, while a smaller value might result in an underfitted model.\n",
        "min_samples_split and min_samples_leaf: These parameters control the complexity of the trees and help prevent overfitting.\n",
        "max_features: Using a subset of features can improve generalization and reduce computational cost.\n",
        "Finding the Optimal Hyperparameters\n",
        "\n",
        "Determining the best hyperparameter values often involves experimentation and techniques like grid search or randomized search. Cross-validation is commonly used to evaluate model performance on different hyperparameter settings.\n",
        "\n",
        "By carefully considering these hyperparameters and their impact on the model, you can build effective random forest models for your specific tasks.\n",
        "'''"
      ]
    },
    {
      "cell_type": "code",
      "execution_count": null,
      "metadata": {
        "id": "pRlm9TrpZxpL"
      },
      "outputs": [],
      "source": [
        "'''\n",
        "Logistic Regression Model\n",
        "\n",
        "Logistic regression is a statistical method used for predicting the probability of a binary outcome (e.g., success/failure, yes/no) based on one or more predictor variables. Unlike linear regression, which models a continuous outcome, logistic regression models the log-odds of the outcome.\n",
        "\n",
        "The logistic function, also known as the sigmoid function, is used to map the linear combination of predictors to a probability between 0 and 1. The equation for logistic regression is:\n",
        "\n",
        "log(p/(1-p)) = b0 + b1*x1 + b2*x2 + ... + bn*xn\n",
        "Where:\n",
        "\n",
        "p is the probability of the outcome\n",
        "b0 is the intercept\n",
        "b1, b2, ..., bn are the coefficients for the predictor variables\n",
        "x1, x2, ..., xn are the predictor variables\n",
        "Assumptions of Logistic Regression\n",
        "\n",
        "Binary Dependent Variable: The outcome variable should be binary (e.g., 0 or 1, yes or no).\n",
        "Independence of Observations: The observations should be independent of each other.\n",
        "No Multicollinearity: The predictor variables should not be highly correlated with each other.\n",
        "Linearity in the Logit: The relationship between the log-odds of the outcome and the predictors should be linear.\n",
        "Key Points\n",
        "\n",
        "Logistic regression models the probability of an event occurring.\n",
        "The logistic function ensures that the predicted probabilities fall between 0 and 1.\n",
        "It is used for classification problems.\n",
        "The assumptions of logistic regression are different from those of linear regression.\n",
        "'''"
      ]
    },
    {
      "cell_type": "code",
      "execution_count": null,
      "metadata": {
        "id": "Y957gxH5dEpa"
      },
      "outputs": [],
      "source": [
        "'''\n",
        "How Logistic Regression Handles Binary Classification Problems\n",
        "\n",
        "Logistic regression is a statistical method for predicting the probability of a binary outcome (e.g., success/failure, yes/no) based on one or more predictor variables. It's a powerful tool for binary classification tasks, offering several advantages:\n",
        "\n",
        "Key Components:\n",
        "\n",
        "Logistic Function: Maps the linear combination of predictors to a probability between 0 and 1.\n",
        "Decision Boundary: A threshold value (often 0.5) is used to classify instances as belonging to one class or the other.\n",
        "Cost Function: The log loss function measures the model's performance and guides the optimization process.\n",
        "Optimization: Gradient descent or other optimization algorithms are used to find the optimal model parameters.\n",
        "Steps Involved:\n",
        "\n",
        "Data Preparation: Collect and preprocess data, ensuring appropriate handling of categorical variables and feature scaling.\n",
        "Model Training: Fit the logistic regression model to the training data using an optimization algorithm.\n",
        "Making Predictions: Use the trained model to predict the probability of the positive class for new data points.\n",
        "Classification: Apply a threshold to the predicted probability to make a binary classification decision.\n",
        "Advantages of Logistic Regression\n",
        "\n",
        "Interpretability: The coefficients of the model can be interpreted to understand the impact of predictors on the outcome.\n",
        "Efficiency: Relatively fast to train and predict compared to complex models.\n",
        "Widely Used: Well-established and widely used in various fields.\n",
        "Limitations of Logistic Regression\n",
        "\n",
        "Non-linear Relationships: Assumes a linear relationship between the log-odds of the outcome and the predictors.\n",
        "Underfitting: May not capture complex patterns in the data.\n",
        "Sensitivity to Outliers: Outliers can significantly impact the model's performance.\n",
        "In Summary:\n",
        "\n",
        "Logistic regression is a versatile and interpretable method for binary classification problems. By understanding its underlying principles and assumptions, you can effectively apply it to various domains.\n",
        "'''"
      ]
    },
    {
      "cell_type": "code",
      "execution_count": null,
      "metadata": {
        "id": "o-26L56Gdump"
      },
      "outputs": [],
      "source": [
        "'''\n",
        "Sigmoid Function\n",
        "\n",
        "The sigmoid function, often represented by the Greek letter sigma (σ), is a mathematical function used to map any real number to a value between 0 and 1. It's shaped like an \"S\" curve, hence the name. The formula for the sigmoid function is:\n",
        "\n",
        "σ(x) = 1 / (1 + exp(-x))\n",
        "Where:\n",
        "\n",
        "x is the input value\n",
        "exp(x) is the exponential function of x\n",
        "Role in Logistic Regression\n",
        "\n",
        "In logistic regression, the sigmoid function is used to model the probability of an event occurring. The output of the logistic regression model is the log-odds of the event, which is then transformed into a probability using the sigmoid function. This allows us to estimate the likelihood of an event based on the input features.\n",
        "\n",
        "Steps Involved\n",
        "\n",
        "Calculate the linear combination of features: The model calculates a linear combination of the input features using weights and biases.\n",
        "Apply the sigmoid function: The output of the linear combination is passed through the sigmoid function to obtain a probability between 0 and 1.\n",
        "Make a prediction: If the predicted probability is greater than a certain threshold (usually 0.5), the event is classified as occurring; otherwise, it is classified as not occurring.\n",
        "Advantages of Using the Sigmoid Function\n",
        "\n",
        "Maps any real number to a value between 0 and 1, suitable for probabilities.\n",
        "Differentiable, allowing for gradient-based optimization techniques.\n",
        "Produces an S-shaped curve that is well-suited for modeling binary outcomes.\n",
        "'''"
      ]
    },
    {
      "cell_type": "code",
      "execution_count": null,
      "metadata": {
        "id": "KaifecjaeKoB"
      },
      "outputs": [],
      "source": [
        "'''\n",
        "Cost Function in Logistic Regression\n",
        "\n",
        "In logistic regression, the cost function, often referred to as the log loss or cross-entropy loss, measures the discrepancy between the predicted probability and the actual outcome. Its primary goal is to guide the model's learning process by quantifying the error between predicted and true values.\n",
        "\n",
        "Mathematical Representation\n",
        "\n",
        "The cost function for logistic regression is typically defined as:\n",
        "\n",
        "Cost(hθ(x), y) = −y * log(hθ(x)) − (1 − y) * log(1 − hθ(x))\n",
        "Where:\n",
        "\n",
        "hθ(x) is the predicted probability of the positive class (y=1) for a given input x.\n",
        "y is the actual label (0 or 1).\n",
        "Key Points\n",
        "\n",
        "The cost function penalizes incorrect predictions.\n",
        "It aims to minimize the overall error across all training examples.\n",
        "Gradient descent is commonly used to optimize the cost function and find the optimal model parameters.\n",
        "Intuitive Understanding\n",
        "\n",
        "The cost function encourages the model to:\n",
        "\n",
        "Assign high probabilities to positive examples (y=1) and low probabilities to negative examples (y=0).\n",
        "Penalize incorrect predictions more heavily than correct ones.\n",
        "By minimizing the cost function, the model learns to make better predictions and improve its performance.\n",
        "'''"
      ]
    },
    {
      "cell_type": "code",
      "execution_count": null,
      "metadata": {
        "id": "DU_vt_Sgejl5"
      },
      "outputs": [],
      "source": [
        "'''\n",
        "Extending Logistic Regression to Multiclass Classification\n",
        "Problem: Standard logistic regression is designed for binary classification (two classes). How can we extend it to handle multiple classes?\n",
        "\n",
        "Solution: One-vs-Rest (OvR) or One-vs-One (OvO)\n",
        "\n",
        "There are primarily two common approaches to address this:\n",
        "\n",
        "1. One-vs-Rest (OvR)\n",
        "Strategy:\n",
        "For each class, train a binary logistic regression model to distinguish that class from all other classes combined.\n",
        "To make a prediction, apply all binary classifiers to a new data point and select the class with the highest probability.\n",
        "Advantages: Simple to implement.\n",
        "Disadvantages: Can be less efficient for a large number of classes.\n",
        "2. One-vs-One (OvO)\n",
        "Strategy:\n",
        "Train a binary logistic regression model for each pair of classes.\n",
        "To make a prediction, apply all binary classifiers to a new data point and select the class that wins the most duels.\n",
        "Advantages: Potentially more accurate than OvR.\n",
        "Disadvantages: Requires training a larger number of models.\n",
        "Choosing the Right Approach\n",
        "\n",
        "Number of classes: OvR is often preferred for a smaller number of classes, while OvO might be better for a larger number.\n",
        "Computational resources: OvO requires training more models, so it can be computationally more expensive.\n",
        "Problem-specific considerations: The nature of the problem and the desired performance metrics can influence the choice.\n",
        "Additional Considerations:\n",
        "\n",
        "Softmax Regression: A more direct approach for multiclass classification, where probabilities for all classes are calculated simultaneously.\n",
        "Hierarchical Classification: Suitable when classes have a hierarchical structure.\n",
        "By understanding these methods, you can effectively extend logistic regression to handle multiclass classification problems.\n",
        "'''"
      ]
    },
    {
      "cell_type": "code",
      "execution_count": null,
      "metadata": {
        "id": "Z4VxUfGYfAix"
      },
      "outputs": [],
      "source": [
        "'''\n",
        "L1 Regularization (Lasso)\n",
        "\n",
        "Adds the sum of the absolute values of the coefficients to the loss function.\n",
        "Encourages sparsity, meaning it tends to drive some coefficients to exactly zero.\n",
        "Useful for feature selection as it can help identify the most important features.\n",
        "L2 Regularization (Ridge)\n",
        "\n",
        "Adds the sum of the squares of the coefficients to the loss function.\n",
        "Shrinks the coefficients towards zero but rarely sets them exactly to zero.\n",
        "Helps prevent overfitting by reducing the impact of large coefficients.\n",
        "Key Differences\n",
        "\n",
        "Feature\tL1 Regularization (Lasso)\tL2 Regularization (Ridge)\n",
        "Coefficient Impact\tDrives some coefficients to zero\tShrinks coefficients towards zero\n",
        "Sparsity\tEncourages sparsity\tDoes not encourage sparsity\n",
        "Feature Selection\tImplicitly performs feature selection\tDoes not perform explicit feature selection\n",
        "Overfitting\tEffective in reducing overfitting\tHelps reduce overfitting\n",
        "\n",
        "Export to Sheets\n",
        "Choosing Between L1 and L2\n",
        "\n",
        "L1: Ideal when you believe only a few features are important and you want to identify those features.\n",
        "L2: Suitable when you believe most features are important and you want to shrink the coefficients without eliminating any.\n",
        "Elastic Net\n",
        "\n",
        "A combination of L1 and L2 regularization can be used to balance the benefits of both approaches.\n",
        "\n",
        "In summary, both L1 and L2 regularization are valuable techniques for improving the performance of logistic regression models by preventing overfitting and potentially enhancing interpretability. The choice between the two depends on the specific characteristics of the data and the desired outcome.\n",
        "'''"
      ]
    },
    {
      "cell_type": "code",
      "execution_count": null,
      "metadata": {
        "id": "aq-NAwARfoYY"
      },
      "outputs": [],
      "source": [
        "'''\n",
        "XGBoost\n",
        "\n",
        "XGBoost, short for Extreme Gradient Boosting, is an optimized distributed gradient boosting library designed to be highly efficient, flexible, and portable.\n",
        "\n",
        "Core Concepts:\n",
        "\n",
        "Ensemble Learning: XGBoost belongs to the ensemble learning family, combining multiple weak models (typically decision trees) to create a strong predictive model.\n",
        "Gradient Boosting: It iteratively adds trees to the ensemble, focusing on correcting the errors of the previous models.\n",
        "Regularization: Incorporates L1 and L2 regularization to prevent overfitting and improve generalization.\n",
        "Tree Pruning: Employs a pruning mechanism to control tree complexity and reduce overfitting.\n",
        "System Optimization: Implements efficient algorithms for tree construction, parallel processing, and cache optimization.\n",
        "Advantages of XGBoost:\n",
        "\n",
        "High Performance: Often outperforms other gradient boosting implementations due to its optimization techniques.\n",
        "Flexibility: Handles various types of data (numerical, categorical) and tasks (classification, regression, ranking).\n",
        "Regularization: Built-in regularization prevents overfitting.\n",
        "Scalability: Can handle large datasets efficiently.\n",
        "Interpretability: Although less interpretable than individual decision trees, feature importance scores can provide insights.\n",
        "Disadvantages of XGBoost:\n",
        "\n",
        "Complexity: Can be more complex to tune compared to simpler models.\n",
        "Black Box Nature: While feature importance can be extracted, the overall model can still be considered a black box.\n",
        "Key Differences from Other Boosting Algorithms:\n",
        "\n",
        "Gradient Boosting: XGBoost is a type of gradient boosting, but it introduces optimizations like regularized learning and system optimizations.\n",
        "Random Forest: Random Forest uses bagging and feature randomness, while XGBoost focuses on gradient boosting and tree optimization.\n",
        "Applications:\n",
        "\n",
        "XGBoost has been successfully applied in various domains, including:\n",
        "\n",
        "Kaggle Competitions: Frequently used as a top-performing algorithm due to its accuracy and efficiency.\n",
        "Industry: Used in fraud detection, recommendation systems, click-through rate prediction, and more.\n",
        "In Summary:\n",
        "\n",
        "XGBoost is a powerful and versatile machine learning algorithm that excels in a wide range of applications. Its emphasis on efficiency, regularization, and scalability makes it a preferred choice for many data scientists.\n",
        "'''"
      ]
    },
    {
      "cell_type": "code",
      "execution_count": null,
      "metadata": {
        "id": "FICAqonTgJA4"
      },
      "outputs": [],
      "source": [
        "'''\n",
        "Boosting is an ensemble learning technique that combines multiple weak learners (models that are only slightly better than random guessing) to create a strong learner. The key idea behind boosting is to sequentially build models that focus on correcting the mistakes of their predecessors.\n",
        "\n",
        "Key Steps in Boosting:\n",
        "\n",
        "Initialization: Assign equal weights to all training instances.\n",
        "Model Training: Train a weak learner (e.g., decision tree) on the weighted dataset.\n",
        "Weight Adjustment: Increase the weights of misclassified instances and decrease the weights of correctly classified instances.\n",
        "Model Combination: Combine the predictions of multiple weak learners using weighted voting or averaging.\n",
        "Iteration: Repeat steps 2-4 for a predetermined number of iterations or until a stopping criterion is met.\n",
        "Popular Boosting Algorithms:\n",
        "\n",
        "AdaBoost (Adaptive Boosting): Assigns weights to training instances based on their classification accuracy, focusing subsequent models on difficult examples.\n",
        "Gradient Boosting: Treats the ensemble as a single model and fits new models to the residuals of the previous model.\n",
        "XGBoost (Extreme Gradient Boosting): An optimized version of gradient boosting with additional features like regularization and parallel processing.\n",
        "Advantages of Boosting:\n",
        "\n",
        "Improved Accuracy: Can achieve high accuracy by combining multiple weak learners.\n",
        "Handles Complex Patterns: Effective for capturing complex relationships in data.\n",
        "Versatile: Can be applied to various types of data and problems.\n",
        "Disadvantages of Boosting:\n",
        "\n",
        "Sensitive to Noise: Can be sensitive to outliers and noisy data.\n",
        "Computationally Intensive: Training multiple models can be computationally expensive.\n",
        "In summary, boosting is a powerful ensemble learning technique that builds strong models by sequentially combining weak learners. It has been successfully applied in various domains and is considered a state-of-the-art method in machine learning.\n",
        "'''"
      ]
    },
    {
      "cell_type": "code",
      "execution_count": null,
      "metadata": {
        "id": "Vqd16TLyggoE"
      },
      "outputs": [],
      "source": [
        "'''\n",
        "XGBoost has a built-in mechanism to handle missing values.\n",
        "\n",
        "Here's how it works:\n",
        "\n",
        "Automatic Handling: When a data point is missing a value for a particular feature, XGBoost creates two default directions during tree construction: one for samples with missing values going to the left child and another for those going to the right child.\n",
        "Learning from Data: The algorithm learns the optimal direction for missing values based on the training data.\n",
        "Efficient Handling: This approach is computationally efficient as it avoids explicit imputation of missing values.\n",
        "Key Points:\n",
        "\n",
        "No need for manual imputation of missing values.\n",
        "XGBoost automatically determines the best handling of missing data during training.\n",
        "This contributes to XGBoost's robustness and efficiency.\n",
        "In essence, XGBoost's built-in handling of missing values is a key advantage over other algorithms and simplifies the preprocessing steps for data scientists.\n",
        "''"
      ]
    },
    {
      "cell_type": "code",
      "execution_count": null,
      "metadata": {
        "id": "SNcAq-yoh85q"
      },
      "outputs": [],
      "source": [
        "'''\n",
        "Key Hyperparameters in XGBoost and Their Impact on Model Performance\n",
        "Understanding the Prompt:\n",
        "\n",
        "The image presents a clear question: \"What are the key hyperparameters in XGBoost and how do they affect model performance?\"\n",
        "\n",
        "Key Hyperparameters in XGBoost:\n",
        "\n",
        "XGBoost offers a rich set of hyperparameters to fine-tune model performance. Here are some of the most critical ones:\n",
        "\n",
        "Learning Rate (eta):\n",
        "\n",
        "Controls the contribution of each tree to the final model.\n",
        "Smaller values lead to more conservative updates and often require more trees but can improve generalization.\n",
        "Maximum Depth (max_depth):\n",
        "\n",
        "Determines the maximum depth of each tree.\n",
        "Deeper trees can capture complex patterns but increase the risk of overfitting.\n",
        "Subsample:\n",
        "\n",
        "Controls the fraction of training instances used for each tree.\n",
        "Reduces overfitting by introducing randomness.\n",
        "Colsample_bytree:\n",
        "\n",
        "Controls the fraction of features used for each tree.\n",
        "Helps prevent overfitting and improves generalization.\n",
        "Min_child_weight:\n",
        "\n",
        "Defines the minimum sum of weights of instances required in a child node.\n",
        "Prevents overfitting by controlling tree complexity.\n",
        "Gamma:\n",
        "\n",
        "Minimum loss reduction required to make a further partition on a leaf node.\n",
        "Controls tree growth and prevents overfitting.\n",
        "Objective:\n",
        "\n",
        "Defines the loss function to be minimized.\n",
        "Choices include regression, classification, ranking, etc.\n",
        "Evaluation Metric:\n",
        "\n",
        "Defines the metric to be evaluated during training.\n",
        "Common metrics include accuracy, AUC, log loss, etc.\n",
        "Impact on Model Performance:\n",
        "\n",
        "Learning Rate: Smaller learning rates generally lead to better models but require more trees.\n",
        "Maximum Depth: Deeper trees can capture complex patterns but increase risk of overfitting.\n",
        "Subsample and Colsample_bytree: Reduce overfitting and improve generalization.\n",
        "Min_child_weight and Gamma: Control tree complexity and prevent overfitting.\n",
        "Objective and Evaluation Metric: Align the model with the specific problem and evaluation criteria.\n",
        "Fine-Tuning XGBoost:\n",
        "\n",
        "Finding the optimal hyperparameter values often requires experimentation and techniques like grid search or randomized search. Cross-validation is crucial to assess model performance on unseen data.\n",
        "\n",
        "Additional Considerations:\n",
        "\n",
        "Regularization: XGBoost incorporates L1 and L2 regularization to prevent overfitting.\n",
        "Tree Construction: XGBoost uses a split finding algorithm that efficiently explores the feature space.\n",
        "Parallel Processing: XGBoost can leverage multiple cores for faster training.\n",
        "By carefully tuning these hyperparameters, you can significantly improve the performance of your XGBoost models.\n",
        "'''"
      ]
    },
    {
      "cell_type": "code",
      "execution_count": null,
      "metadata": {
        "id": "oBWXdu8uh_Dj"
      },
      "outputs": [],
      "source": [
        "'''\n",
        "Gradient Boosting in XGBoost\n",
        "Gradient boosting is a machine learning technique where new models are created to correct the errors of previous models. XGBoost, or Extreme Gradient Boosting, is a highly optimized implementation of gradient boosting.\n",
        "\n",
        "Process of Gradient Boosting in XGBoost\n",
        "Initialization:\n",
        "\n",
        "A base model (often a constant value) is created as the initial prediction.\n",
        "Iterative Model Building:\n",
        "\n",
        "At each iteration, a new model is trained to predict the residuals (errors) of the previous model.\n",
        "The new model is added to the ensemble, improving the overall prediction.\n",
        "Gradient Descent:\n",
        "\n",
        "The process of fitting new models to the residuals is essentially a gradient descent optimization problem, where the goal is to minimize the loss function.\n",
        "XGBoost employs efficient gradient computation methods to accelerate training.\n",
        "Regularization:\n",
        "\n",
        "To prevent overfitting, XGBoost incorporates regularization techniques like L1 and L2 regularization.\n",
        "Tree Structure:\n",
        "\n",
        "Each new model is typically a decision tree, but XGBoost allows for other base models as well.\n",
        "Termination:\n",
        "\n",
        "The process continues until a stopping criterion is met, such as reaching a maximum number of iterations or when the improvement in performance is negligible.\n",
        "Key Points\n",
        "XGBoost optimizes the gradient boosting process for speed and performance.\n",
        "It leverages tree-based models as weak learners.\n",
        "Regularization is crucial to prevent overfitting.\n",
        "The iterative process focuses on correcting prediction errors.\n",
        "'''"
      ]
    },
    {
      "cell_type": "code",
      "execution_count": null,
      "metadata": {
        "id": "yzNgqcESiIeD"
      },
      "outputs": [],
      "source": [
        "'''\n",
        "Advantages and Disadvantages of Using XGBoost\n",
        "Advantages of XGBoost\n",
        "High Performance: XGBoost is known for its speed and efficiency, making it suitable for large datasets.\n",
        "Accuracy: It often outperforms other machine learning algorithms in terms of predictive accuracy.\n",
        "Regularization: Built-in regularization techniques help prevent overfitting.\n",
        "Flexibility: Can handle various types of data (numerical, categorical) and tasks (regression, classification, ranking).\n",
        "Handles Missing Values: XGBoost can automatically handle missing values without requiring imputation.\n",
        "Scalability: Can be parallelized efficiently for large datasets.\n",
        "Interpretability: Provides feature importance scores for understanding the model.\n",
        "Disadvantages of XGBoost\n",
        "Complexity: XGBoost involves several hyperparameters that require careful tuning for optimal performance.\n",
        "Overfitting: If not tuned properly, XGBoost can overfit complex datasets.\n",
        "Black Box Nature: While feature importance can provide some insights, the overall model can be difficult to interpret.\n",
        "Computational Resources: Can be computationally intensive for large datasets and complex models.\n",
        "In summary, XGBoost is a powerful and versatile algorithm with several advantages, but it also has some potential drawbacks that need to be considered when applying it to specific problems.\n",
        "'''"
      ]
    }
  ],
  "metadata": {
    "colab": {
      "provenance": []
    },
    "kernelspec": {
      "display_name": "Python 3",
      "name": "python3"
    },
    "language_info": {
      "codemirror_mode": {
        "name": "ipython",
        "version": 3
      },
      "file_extension": ".py",
      "mimetype": "text/x-python",
      "name": "python",
      "nbconvert_exporter": "python",
      "pygments_lexer": "ipython3",
      "version": "3.12.4"
    }
  },
  "nbformat": 4,
  "nbformat_minor": 0
}
